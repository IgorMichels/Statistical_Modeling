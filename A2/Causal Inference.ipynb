{
 "cells": [
  {
   "cell_type": "code",
   "execution_count": 1,
   "id": "verbal-creation",
   "metadata": {},
   "outputs": [
    {
     "name": "stderr",
     "output_type": "stream",
     "text": [
      "Warning message:\n",
      "\"package 'dagitty' was built under R version 3.6.3\"Warning message:\n",
      "\"package 'lavaan' was built under R version 3.6.3\"This is lavaan 0.6-8\n",
      "lavaan is FREE software! Please report any bugs.\n"
     ]
    }
   ],
   "source": [
    "library(dagitty)\n",
    "library(lavaan)\n",
    "\n",
    "library(xtable)"
   ]
  },
  {
   "cell_type": "code",
   "execution_count": 2,
   "id": "frozen-print",
   "metadata": {
    "scrolled": false
   },
   "outputs": [
    {
     "data": {
      "text/html": [
       "<table>\n",
       "<thead><tr><th scope=col>X39</th><th scope=col>State.gov</th><th scope=col>X77516</th><th scope=col>Bachelors</th><th scope=col>X13</th><th scope=col>Never.married</th><th scope=col>Adm.clerical</th><th scope=col>Not.in.family</th><th scope=col>White</th><th scope=col>Male</th><th scope=col>X2174</th><th scope=col>X0</th><th scope=col>X40</th><th scope=col>United.States</th><th scope=col>X..50K</th></tr></thead>\n",
       "<tbody>\n",
       "\t<tr><td>50                                                            </td><td> Self-emp-not-inc                                             </td><td> 83311                                                        </td><td> Bachelors                                                    </td><td>13                                                            </td><td><span style=white-space:pre-wrap> Married-civ-spouse   </span></td><td><span style=white-space:pre-wrap> Exec-managerial  </span>    </td><td><span style=white-space:pre-wrap> Husband      </span>        </td><td> White                                                        </td><td><span style=white-space:pre-wrap> Male  </span>               </td><td>0                                                             </td><td>0                                                             </td><td>13                                                            </td><td> United-States                                                </td><td> &lt;=50K                                                     </td></tr>\n",
       "\t<tr><td>38                                                            </td><td><span style=white-space:pre-wrap> Private         </span>     </td><td>215646                                                        </td><td><span style=white-space:pre-wrap> HS-grad  </span>            </td><td> 9                                                            </td><td><span style=white-space:pre-wrap> Divorced             </span></td><td> Handlers-cleaners                                            </td><td> Not-in-family                                                </td><td> White                                                        </td><td><span style=white-space:pre-wrap> Male  </span>               </td><td>0                                                             </td><td>0                                                             </td><td>40                                                            </td><td> United-States                                                </td><td> &lt;=50K                                                     </td></tr>\n",
       "\t<tr><td>53                                                            </td><td><span style=white-space:pre-wrap> Private         </span>     </td><td>234721                                                        </td><td><span style=white-space:pre-wrap> 11th     </span>            </td><td> 7                                                            </td><td><span style=white-space:pre-wrap> Married-civ-spouse   </span></td><td> Handlers-cleaners                                            </td><td><span style=white-space:pre-wrap> Husband      </span>        </td><td> Black                                                        </td><td><span style=white-space:pre-wrap> Male  </span>               </td><td>0                                                             </td><td>0                                                             </td><td>40                                                            </td><td> United-States                                                </td><td> &lt;=50K                                                     </td></tr>\n",
       "\t<tr><td>28                                                            </td><td><span style=white-space:pre-wrap> Private         </span>     </td><td>338409                                                        </td><td> Bachelors                                                    </td><td>13                                                            </td><td><span style=white-space:pre-wrap> Married-civ-spouse   </span></td><td><span style=white-space:pre-wrap> Prof-specialty   </span>    </td><td><span style=white-space:pre-wrap> Wife         </span>        </td><td> Black                                                        </td><td> Female                                                       </td><td>0                                                             </td><td>0                                                             </td><td>40                                                            </td><td><span style=white-space:pre-wrap> Cuba         </span>        </td><td> &lt;=50K                                                     </td></tr>\n",
       "\t<tr><td>37                                                            </td><td><span style=white-space:pre-wrap> Private         </span>     </td><td>284582                                                        </td><td><span style=white-space:pre-wrap> Masters  </span>            </td><td>14                                                            </td><td><span style=white-space:pre-wrap> Married-civ-spouse   </span></td><td><span style=white-space:pre-wrap> Exec-managerial  </span>    </td><td><span style=white-space:pre-wrap> Wife         </span>        </td><td> White                                                        </td><td> Female                                                       </td><td>0                                                             </td><td>0                                                             </td><td>40                                                            </td><td> United-States                                                </td><td> &lt;=50K                                                     </td></tr>\n",
       "\t<tr><td>49                                                        </td><td><span style=white-space:pre-wrap> Private         </span> </td><td>160187                                                    </td><td><span style=white-space:pre-wrap> 9th      </span>        </td><td> 5                                                        </td><td> Married-spouse-absent                                    </td><td><span style=white-space:pre-wrap> Other-service    </span></td><td> Not-in-family                                            </td><td> Black                                                    </td><td> Female                                                   </td><td>0                                                         </td><td>0                                                         </td><td>16                                                        </td><td><span style=white-space:pre-wrap> Jamaica      </span>    </td><td> &lt;=50K                                                 </td></tr>\n",
       "</tbody>\n",
       "</table>\n"
      ],
      "text/latex": [
       "\\begin{tabular}{r|lllllllllllllll}\n",
       " X39 & State.gov & X77516 & Bachelors & X13 & Never.married & Adm.clerical & Not.in.family & White & Male & X2174 & X0 & X40 & United.States & X..50K\\\\\n",
       "\\hline\n",
       "\t 50                     &  Self-emp-not-inc      &  83311                 &  Bachelors             & 13                     &  Married-civ-spouse    &  Exec-managerial       &  Husband               &  White                 &  Male                  & 0                      & 0                      & 13                     &  United-States         &  <=50K                \\\\\n",
       "\t 38                     &  Private               & 215646                 &  HS-grad               &  9                     &  Divorced              &  Handlers-cleaners     &  Not-in-family         &  White                 &  Male                  & 0                      & 0                      & 40                     &  United-States         &  <=50K                \\\\\n",
       "\t 53                     &  Private               & 234721                 &  11th                  &  7                     &  Married-civ-spouse    &  Handlers-cleaners     &  Husband               &  Black                 &  Male                  & 0                      & 0                      & 40                     &  United-States         &  <=50K                \\\\\n",
       "\t 28                     &  Private               & 338409                 &  Bachelors             & 13                     &  Married-civ-spouse    &  Prof-specialty        &  Wife                  &  Black                 &  Female                & 0                      & 0                      & 40                     &  Cuba                  &  <=50K                \\\\\n",
       "\t 37                     &  Private               & 284582                 &  Masters               & 14                     &  Married-civ-spouse    &  Exec-managerial       &  Wife                  &  White                 &  Female                & 0                      & 0                      & 40                     &  United-States         &  <=50K                \\\\\n",
       "\t 49                     &  Private               & 160187                 &  9th                   &  5                     &  Married-spouse-absent &  Other-service         &  Not-in-family         &  Black                 &  Female                & 0                      & 0                      & 16                     &  Jamaica               &  <=50K                \\\\\n",
       "\\end{tabular}\n"
      ],
      "text/markdown": [
       "\n",
       "| X39 | State.gov | X77516 | Bachelors | X13 | Never.married | Adm.clerical | Not.in.family | White | Male | X2174 | X0 | X40 | United.States | X..50K |\n",
       "|---|---|---|---|---|---|---|---|---|---|---|---|---|---|---|\n",
       "| 50                     |  Self-emp-not-inc      |  83311                 |  Bachelors             | 13                     |  Married-civ-spouse    |  Exec-managerial       |  Husband               |  White                 |  Male                  | 0                      | 0                      | 13                     |  United-States         |  <=50K                 |\n",
       "| 38                     |  Private               | 215646                 |  HS-grad               |  9                     |  Divorced              |  Handlers-cleaners     |  Not-in-family         |  White                 |  Male                  | 0                      | 0                      | 40                     |  United-States         |  <=50K                 |\n",
       "| 53                     |  Private               | 234721                 |  11th                  |  7                     |  Married-civ-spouse    |  Handlers-cleaners     |  Husband               |  Black                 |  Male                  | 0                      | 0                      | 40                     |  United-States         |  <=50K                 |\n",
       "| 28                     |  Private               | 338409                 |  Bachelors             | 13                     |  Married-civ-spouse    |  Prof-specialty        |  Wife                  |  Black                 |  Female                | 0                      | 0                      | 40                     |  Cuba                  |  <=50K                 |\n",
       "| 37                     |  Private               | 284582                 |  Masters               | 14                     |  Married-civ-spouse    |  Exec-managerial       |  Wife                  |  White                 |  Female                | 0                      | 0                      | 40                     |  United-States         |  <=50K                 |\n",
       "| 49                     |  Private               | 160187                 |  9th                   |  5                     |  Married-spouse-absent |  Other-service         |  Not-in-family         |  Black                 |  Female                | 0                      | 0                      | 16                     |  Jamaica               |  <=50K                 |\n",
       "\n"
      ],
      "text/plain": [
       "  X39 State.gov         X77516 Bachelors  X13 Never.married         \n",
       "1 50   Self-emp-not-inc  83311  Bachelors 13   Married-civ-spouse   \n",
       "2 38   Private          215646  HS-grad    9   Divorced             \n",
       "3 53   Private          234721  11th       7   Married-civ-spouse   \n",
       "4 28   Private          338409  Bachelors 13   Married-civ-spouse   \n",
       "5 37   Private          284582  Masters   14   Married-civ-spouse   \n",
       "6 49   Private          160187  9th        5   Married-spouse-absent\n",
       "  Adm.clerical       Not.in.family  White  Male    X2174 X0 X40 United.States \n",
       "1  Exec-managerial    Husband        White  Male   0     0  13   United-States\n",
       "2  Handlers-cleaners  Not-in-family  White  Male   0     0  40   United-States\n",
       "3  Handlers-cleaners  Husband        Black  Male   0     0  40   United-States\n",
       "4  Prof-specialty     Wife           Black  Female 0     0  40   Cuba         \n",
       "5  Exec-managerial    Wife           White  Female 0     0  40   United-States\n",
       "6  Other-service      Not-in-family  Black  Female 0     0  16   Jamaica      \n",
       "  X..50K\n",
       "1  <=50K\n",
       "2  <=50K\n",
       "3  <=50K\n",
       "4  <=50K\n",
       "5  <=50K\n",
       "6  <=50K"
      ]
     },
     "metadata": {},
     "output_type": "display_data"
    }
   ],
   "source": [
    "data <- read.csv('Data//data.csv')\n",
    "head(data)"
   ]
  },
  {
   "cell_type": "code",
   "execution_count": 3,
   "id": "painful-ensemble",
   "metadata": {},
   "outputs": [
    {
     "data": {
      "text/html": [
       "<table>\n",
       "<thead><tr><th scope=col>Age</th><th scope=col>Education</th><th scope=col>MaritalStatus</th><th scope=col>Race</th><th scope=col>Sex</th><th scope=col>HoursPerWeek</th><th scope=col>Immigrant</th><th scope=col>Income</th></tr></thead>\n",
       "<tbody>\n",
       "\t<tr><td>35-49                                            </td><td>Academic-Degree                                  </td><td>Never-married                                    </td><td><span style=white-space:pre-wrap>White    </span></td><td><span style=white-space:pre-wrap>Male  </span>   </td><td>40                                               </td><td>no                                               </td><td>&lt;=50K                                         </td></tr>\n",
       "\t<tr><td>50-65                                                </td><td>Academic-Degree                                      </td><td><span style=white-space:pre-wrap>Is-Married   </span></td><td><span style=white-space:pre-wrap>White    </span>    </td><td><span style=white-space:pre-wrap>Male  </span>       </td><td>&lt;20                                               </td><td>no                                                   </td><td>&lt;=50K                                             </td></tr>\n",
       "\t<tr><td>35-49                                                  </td><td><span style=white-space:pre-wrap>HS-grad        </span></td><td><span style=white-space:pre-wrap>Was-Married  </span>  </td><td><span style=white-space:pre-wrap>White    </span>      </td><td><span style=white-space:pre-wrap>Male  </span>         </td><td>40                                                     </td><td>no                                                     </td><td>&lt;=50K                                               </td></tr>\n",
       "\t<tr><td>50-65                                                  </td><td><span style=white-space:pre-wrap>Non-HS-Grad    </span></td><td><span style=white-space:pre-wrap>Is-Married   </span>  </td><td>Non-White                                              </td><td><span style=white-space:pre-wrap>Male  </span>         </td><td>40                                                     </td><td>no                                                     </td><td>&lt;=50K                                               </td></tr>\n",
       "\t<tr><td>20-34                                                </td><td>Academic-Degree                                      </td><td><span style=white-space:pre-wrap>Is-Married   </span></td><td>Non-White                                            </td><td>Female                                               </td><td>40                                                   </td><td>yes                                                  </td><td>&lt;=50K                                             </td></tr>\n",
       "\t<tr><td>35-49                                                </td><td>Academic-Degree                                      </td><td><span style=white-space:pre-wrap>Is-Married   </span></td><td><span style=white-space:pre-wrap>White    </span>    </td><td>Female                                               </td><td>40                                                   </td><td>no                                                   </td><td>&lt;=50K                                             </td></tr>\n",
       "</tbody>\n",
       "</table>\n"
      ],
      "text/latex": [
       "\\begin{tabular}{r|llllllll}\n",
       " Age & Education & MaritalStatus & Race & Sex & HoursPerWeek & Immigrant & Income\\\\\n",
       "\\hline\n",
       "\t 35-49           & Academic-Degree & Never-married   & White           & Male            & 40              & no              & <=50K          \\\\\n",
       "\t 50-65           & Academic-Degree & Is-Married      & White           & Male            & <20             & no              & <=50K          \\\\\n",
       "\t 35-49           & HS-grad         & Was-Married     & White           & Male            & 40              & no              & <=50K          \\\\\n",
       "\t 50-65           & Non-HS-Grad     & Is-Married      & Non-White       & Male            & 40              & no              & <=50K          \\\\\n",
       "\t 20-34           & Academic-Degree & Is-Married      & Non-White       & Female          & 40              & yes             & <=50K          \\\\\n",
       "\t 35-49           & Academic-Degree & Is-Married      & White           & Female          & 40              & no              & <=50K          \\\\\n",
       "\\end{tabular}\n"
      ],
      "text/markdown": [
       "\n",
       "| Age | Education | MaritalStatus | Race | Sex | HoursPerWeek | Immigrant | Income |\n",
       "|---|---|---|---|---|---|---|---|\n",
       "| 35-49           | Academic-Degree | Never-married   | White           | Male            | 40              | no              | <=50K           |\n",
       "| 50-65           | Academic-Degree | Is-Married      | White           | Male            | <20             | no              | <=50K           |\n",
       "| 35-49           | HS-grad         | Was-Married     | White           | Male            | 40              | no              | <=50K           |\n",
       "| 50-65           | Non-HS-Grad     | Is-Married      | Non-White       | Male            | 40              | no              | <=50K           |\n",
       "| 20-34           | Academic-Degree | Is-Married      | Non-White       | Female          | 40              | yes             | <=50K           |\n",
       "| 35-49           | Academic-Degree | Is-Married      | White           | Female          | 40              | no              | <=50K           |\n",
       "\n"
      ],
      "text/plain": [
       "  Age   Education       MaritalStatus Race      Sex    HoursPerWeek Immigrant\n",
       "1 35-49 Academic-Degree Never-married White     Male   40           no       \n",
       "2 50-65 Academic-Degree Is-Married    White     Male   <20          no       \n",
       "3 35-49 HS-grad         Was-Married   White     Male   40           no       \n",
       "4 50-65 Non-HS-Grad     Is-Married    Non-White Male   40           no       \n",
       "5 20-34 Academic-Degree Is-Married    Non-White Female 40           yes      \n",
       "6 35-49 Academic-Degree Is-Married    White     Female 40           no       \n",
       "  Income\n",
       "1 <=50K \n",
       "2 <=50K \n",
       "3 <=50K \n",
       "4 <=50K \n",
       "5 <=50K \n",
       "6 <=50K "
      ]
     },
     "metadata": {},
     "output_type": "display_data"
    }
   ],
   "source": [
    "data <- read.csv('Data//clean_data.csv')\n",
    "head(data)"
   ]
  },
  {
   "cell_type": "code",
   "execution_count": 4,
   "id": "binding-working",
   "metadata": {},
   "outputs": [
    {
     "data": {
      "text/html": [
       "<table>\n",
       "<thead><tr><th scope=col>Age</th><th scope=col>Education</th><th scope=col>MaritalStatus</th><th scope=col>Race</th><th scope=col>Sex</th><th scope=col>HoursPerWeek</th><th scope=col>Immigrant</th><th scope=col>Income</th></tr></thead>\n",
       "<tbody>\n",
       "\t<tr><td>35-49          </td><td>Academic-Degree</td><td>2              </td><td>2              </td><td>2              </td><td>40             </td><td>1              </td><td>&lt;=50K       </td></tr>\n",
       "\t<tr><td>50-65          </td><td>Academic-Degree</td><td>1              </td><td>2              </td><td>2              </td><td>&lt;20         </td><td>1              </td><td>&lt;=50K       </td></tr>\n",
       "\t<tr><td>35-49                                                  </td><td><span style=white-space:pre-wrap>HS-grad        </span></td><td>2                                                      </td><td>2                                                      </td><td>2                                                      </td><td>40                                                     </td><td>1                                                      </td><td>&lt;=50K                                               </td></tr>\n",
       "\t<tr><td>50-65                                                  </td><td><span style=white-space:pre-wrap>Non-HS-Grad    </span></td><td>1                                                      </td><td>1                                                      </td><td>2                                                      </td><td>40                                                     </td><td>1                                                      </td><td>&lt;=50K                                               </td></tr>\n",
       "\t<tr><td>20-34          </td><td>Academic-Degree</td><td>1              </td><td>1              </td><td>1              </td><td>40             </td><td>2              </td><td>&lt;=50K       </td></tr>\n",
       "\t<tr><td>35-49          </td><td>Academic-Degree</td><td>1              </td><td>2              </td><td>1              </td><td>40             </td><td>1              </td><td>&lt;=50K       </td></tr>\n",
       "</tbody>\n",
       "</table>\n"
      ],
      "text/latex": [
       "\\begin{tabular}{r|llllllll}\n",
       " Age & Education & MaritalStatus & Race & Sex & HoursPerWeek & Immigrant & Income\\\\\n",
       "\\hline\n",
       "\t 35-49           & Academic-Degree & 2               & 2               & 2               & 40              & 1               & <=50K          \\\\\n",
       "\t 50-65           & Academic-Degree & 1               & 2               & 2               & <20             & 1               & <=50K          \\\\\n",
       "\t 35-49           & HS-grad         & 2               & 2               & 2               & 40              & 1               & <=50K          \\\\\n",
       "\t 50-65           & Non-HS-Grad     & 1               & 1               & 2               & 40              & 1               & <=50K          \\\\\n",
       "\t 20-34           & Academic-Degree & 1               & 1               & 1               & 40              & 2               & <=50K          \\\\\n",
       "\t 35-49           & Academic-Degree & 1               & 2               & 1               & 40              & 1               & <=50K          \\\\\n",
       "\\end{tabular}\n"
      ],
      "text/markdown": [
       "\n",
       "| Age | Education | MaritalStatus | Race | Sex | HoursPerWeek | Immigrant | Income |\n",
       "|---|---|---|---|---|---|---|---|\n",
       "| 35-49           | Academic-Degree | 2               | 2               | 2               | 40              | 1               | <=50K           |\n",
       "| 50-65           | Academic-Degree | 1               | 2               | 2               | <20             | 1               | <=50K           |\n",
       "| 35-49           | HS-grad         | 2               | 2               | 2               | 40              | 1               | <=50K           |\n",
       "| 50-65           | Non-HS-Grad     | 1               | 1               | 2               | 40              | 1               | <=50K           |\n",
       "| 20-34           | Academic-Degree | 1               | 1               | 1               | 40              | 2               | <=50K           |\n",
       "| 35-49           | Academic-Degree | 1               | 2               | 1               | 40              | 1               | <=50K           |\n",
       "\n"
      ],
      "text/plain": [
       "  Age   Education       MaritalStatus Race Sex HoursPerWeek Immigrant Income\n",
       "1 35-49 Academic-Degree 2             2    2   40           1         <=50K \n",
       "2 50-65 Academic-Degree 1             2    2   <20          1         <=50K \n",
       "3 35-49 HS-grad         2             2    2   40           1         <=50K \n",
       "4 50-65 Non-HS-Grad     1             1    2   40           1         <=50K \n",
       "5 20-34 Academic-Degree 1             1    1   40           2         <=50K \n",
       "6 35-49 Academic-Degree 1             2    1   40           1         <=50K "
      ]
     },
     "metadata": {},
     "output_type": "display_data"
    }
   ],
   "source": [
    "data$Age <- ordered(data$Age,\n",
    "                    levels = c('<20', '20-34', '35-49', '50-65', '>65'))\n",
    "data$Education <- ordered(data$Education,\n",
    "                          levels = c('Non-HS-Grad', 'HS-grad', 'College-Associate', 'Academic-Degree'))\n",
    "data$HoursPerWeek <- ordered(data$HoursPerWeek,\n",
    "                             levels = c('<20', '20-39', '40', '>40'))\n",
    "data$Income <- ordered(data$Income,\n",
    "                       levels = c('<=50K', '>50K'))\n",
    "data$Race <- as.integer(data$Race)\n",
    "data$Sex <- as.integer(data$Sex)\n",
    "data$Immigrant <- as.integer(data$Immigrant)\n",
    "levels(data$MaritalStatus) <- list(Married = 'Is-Married',\n",
    "                                   NotMarried = c('Was-Married', 'Never-married'))\n",
    "data$MaritalStatus <- as.integer(data$MaritalStatus)\n",
    "\n",
    "head(data)"
   ]
  },
  {
   "cell_type": "code",
   "execution_count": null,
   "id": "positive-indiana",
   "metadata": {},
   "outputs": [],
   "source": []
  },
  {
   "cell_type": "code",
   "execution_count": 5,
   "id": "recovered-cuisine",
   "metadata": {},
   "outputs": [
    {
     "data": {
      "text/html": [
       "<table>\n",
       "<thead><tr><th></th><th scope=col>Age</th><th scope=col>Education</th><th scope=col>MaritalStatus</th><th scope=col>Race</th><th scope=col>Sex</th><th scope=col>HoursPerWeek</th><th scope=col>Immigrant</th><th scope=col>Income</th></tr></thead>\n",
       "<tbody>\n",
       "\t<tr><th scope=row>Age</th><td> 1.00000000 </td><td> 0.084321379</td><td>-0.31736534 </td><td> 0.02356824 </td><td> 0.086984738</td><td> 0.14034588 </td><td>-0.013766498</td><td> 0.35164879 </td></tr>\n",
       "\t<tr><th scope=row>Education</th><td> 0.08432138 </td><td> 1.000000000</td><td>-0.07467899 </td><td> 0.05443497 </td><td> 0.001153065</td><td> 0.19738384 </td><td>-0.088518287</td><td> 0.46504760 </td></tr>\n",
       "\t<tr><th scope=row>MaritalStatus</th><td>-0.31736534 </td><td>-0.074678991</td><td> 1.00000000 </td><td>-0.09707553 </td><td>-0.426348288</td><td>-0.25981461 </td><td>-0.030453015</td><td>-0.55990128 </td></tr>\n",
       "\t<tr><th scope=row>Race</th><td> 0.02356824 </td><td> 0.054434972</td><td>-0.09707553 </td><td> 1.00000000 </td><td> 0.105148399</td><td> 0.08816635 </td><td>-0.192114623</td><td> 0.12741911 </td></tr>\n",
       "\t<tr><th scope=row>Sex</th><td> 0.08698474 </td><td> 0.001153065</td><td>-0.42634829 </td><td> 0.10514840 </td><td> 1.000000000</td><td> 0.27904865 </td><td> 0.003005682</td><td> 0.32034302 </td></tr>\n",
       "\t<tr><th scope=row>HoursPerWeek</th><td> 0.14034588 </td><td> 0.197383839</td><td>-0.25981461 </td><td> 0.08816635 </td><td> 0.279048646</td><td> 1.00000000 </td><td>-0.028055483</td><td> 0.39574713 </td></tr>\n",
       "\t<tr><th scope=row>Immigrant</th><td>-0.01376650 </td><td>-0.088518287</td><td>-0.03045302 </td><td>-0.19211462 </td><td> 0.003005682</td><td>-0.02805548 </td><td> 1.000000000</td><td>-0.05828284 </td></tr>\n",
       "\t<tr><th scope=row>Income</th><td> 0.35164879 </td><td> 0.465047602</td><td>-0.55990128 </td><td> 0.12741911 </td><td> 0.320343017</td><td> 0.39574713 </td><td>-0.058282845</td><td> 1.00000000 </td></tr>\n",
       "</tbody>\n",
       "</table>\n"
      ],
      "text/latex": [
       "\\begin{tabular}{r|llllllll}\n",
       "  & Age & Education & MaritalStatus & Race & Sex & HoursPerWeek & Immigrant & Income\\\\\n",
       "\\hline\n",
       "\tAge &  1.00000000  &  0.084321379 & -0.31736534  &  0.02356824  &  0.086984738 &  0.14034588  & -0.013766498 &  0.35164879 \\\\\n",
       "\tEducation &  0.08432138  &  1.000000000 & -0.07467899  &  0.05443497  &  0.001153065 &  0.19738384  & -0.088518287 &  0.46504760 \\\\\n",
       "\tMaritalStatus & -0.31736534  & -0.074678991 &  1.00000000  & -0.09707553  & -0.426348288 & -0.25981461  & -0.030453015 & -0.55990128 \\\\\n",
       "\tRace &  0.02356824  &  0.054434972 & -0.09707553  &  1.00000000  &  0.105148399 &  0.08816635  & -0.192114623 &  0.12741911 \\\\\n",
       "\tSex &  0.08698474  &  0.001153065 & -0.42634829  &  0.10514840  &  1.000000000 &  0.27904865  &  0.003005682 &  0.32034302 \\\\\n",
       "\tHoursPerWeek &  0.14034588  &  0.197383839 & -0.25981461  &  0.08816635  &  0.279048646 &  1.00000000  & -0.028055483 &  0.39574713 \\\\\n",
       "\tImmigrant & -0.01376650  & -0.088518287 & -0.03045302  & -0.19211462  &  0.003005682 & -0.02805548  &  1.000000000 & -0.05828284 \\\\\n",
       "\tIncome &  0.35164879  &  0.465047602 & -0.55990128  &  0.12741911  &  0.320343017 &  0.39574713  & -0.058282845 &  1.00000000 \\\\\n",
       "\\end{tabular}\n"
      ],
      "text/markdown": [
       "\n",
       "| <!--/--> | Age | Education | MaritalStatus | Race | Sex | HoursPerWeek | Immigrant | Income |\n",
       "|---|---|---|---|---|---|---|---|---|\n",
       "| Age |  1.00000000  |  0.084321379 | -0.31736534  |  0.02356824  |  0.086984738 |  0.14034588  | -0.013766498 |  0.35164879  |\n",
       "| Education |  0.08432138  |  1.000000000 | -0.07467899  |  0.05443497  |  0.001153065 |  0.19738384  | -0.088518287 |  0.46504760  |\n",
       "| MaritalStatus | -0.31736534  | -0.074678991 |  1.00000000  | -0.09707553  | -0.426348288 | -0.25981461  | -0.030453015 | -0.55990128  |\n",
       "| Race |  0.02356824  |  0.054434972 | -0.09707553  |  1.00000000  |  0.105148399 |  0.08816635  | -0.192114623 |  0.12741911  |\n",
       "| Sex |  0.08698474  |  0.001153065 | -0.42634829  |  0.10514840  |  1.000000000 |  0.27904865  |  0.003005682 |  0.32034302  |\n",
       "| HoursPerWeek |  0.14034588  |  0.197383839 | -0.25981461  |  0.08816635  |  0.279048646 |  1.00000000  | -0.028055483 |  0.39574713  |\n",
       "| Immigrant | -0.01376650  | -0.088518287 | -0.03045302  | -0.19211462  |  0.003005682 | -0.02805548  |  1.000000000 | -0.05828284  |\n",
       "| Income |  0.35164879  |  0.465047602 | -0.55990128  |  0.12741911  |  0.320343017 |  0.39574713  | -0.058282845 |  1.00000000  |\n",
       "\n"
      ],
      "text/plain": [
       "              Age         Education    MaritalStatus Race        Sex         \n",
       "Age            1.00000000  0.084321379 -0.31736534    0.02356824  0.086984738\n",
       "Education      0.08432138  1.000000000 -0.07467899    0.05443497  0.001153065\n",
       "MaritalStatus -0.31736534 -0.074678991  1.00000000   -0.09707553 -0.426348288\n",
       "Race           0.02356824  0.054434972 -0.09707553    1.00000000  0.105148399\n",
       "Sex            0.08698474  0.001153065 -0.42634829    0.10514840  1.000000000\n",
       "HoursPerWeek   0.14034588  0.197383839 -0.25981461    0.08816635  0.279048646\n",
       "Immigrant     -0.01376650 -0.088518287 -0.03045302   -0.19211462  0.003005682\n",
       "Income         0.35164879  0.465047602 -0.55990128    0.12741911  0.320343017\n",
       "              HoursPerWeek Immigrant    Income     \n",
       "Age            0.14034588  -0.013766498  0.35164879\n",
       "Education      0.19738384  -0.088518287  0.46504760\n",
       "MaritalStatus -0.25981461  -0.030453015 -0.55990128\n",
       "Race           0.08816635  -0.192114623  0.12741911\n",
       "Sex            0.27904865   0.003005682  0.32034302\n",
       "HoursPerWeek   1.00000000  -0.028055483  0.39574713\n",
       "Immigrant     -0.02805548   1.000000000 -0.05828284\n",
       "Income         0.39574713  -0.058282845  1.00000000"
      ]
     },
     "metadata": {},
     "output_type": "display_data"
    }
   ],
   "source": [
    "corr <- lavCor(data)\n",
    "corr"
   ]
  },
  {
   "cell_type": "code",
   "execution_count": null,
   "id": "mental-ceremony",
   "metadata": {},
   "outputs": [],
   "source": []
  },
  {
   "cell_type": "code",
   "execution_count": 6,
   "id": "standard-taylor",
   "metadata": {},
   "outputs": [
    {
     "data": {
      "image/png": "[encoded data removed]",
      "text/plain": [
       "plot without title"
      ]
     },
     "metadata": {},
     "output_type": "display_data"
    }
   ],
   "source": [
    "model <- dagitty('dag {bb = \"-4.6, -3.8, 3.7, 3.7\"\n",
    "                       Age [pos = \"-2, -2.6\"]\n",
    "                       Education [pos = \"1.4, 0.5\"]\n",
    "                       HoursPerWeek [pos = \"3, 1.5\"]\n",
    "                       Immigrant [pos = \"1.1, -2.6\"]\n",
    "                       Income [pos = \"-1.6, 2.7\"]\n",
    "                       MaritalStatus [pos = \"-3.7, -2.6\"]\n",
    "                       Race [pos = \"3.0, -2.5\"]\n",
    "                       Sex [pos = \"-0.5, -2.6\"]\n",
    "                       Age -> {Education Income MaritalStatus}\n",
    "                       Immigrant -> Income\n",
    "                       Immigrant <-> Race\n",
    "                       Education -> Income\n",
    "                       HoursPerWeek -> Income\n",
    "                       MaritalStatus -> Income\n",
    "                       Race -> Education\n",
    "                       Sex -> {Education Income}\n",
    "                       }')\n",
    "\n",
    "plot(model)"
   ]
  },
  {
   "cell_type": "code",
   "execution_count": 7,
   "id": "grave-hampton",
   "metadata": {},
   "outputs": [
    {
     "data": {
      "image/png": "[encoded data removed]",
      "text/plain": [
       "plot without title"
      ]
     },
     "metadata": {},
     "output_type": "display_data"
    }
   ],
   "source": [
    "model2 <- dagitty('dag {bb = \"-4.6, -3.8, 3.7, 3.7\"\n",
    "                        Age [pos = \"-2, -2.6\"]\n",
    "                        Education [pos = \"1.4, 0.5\"]\n",
    "                        HoursPerWeek [pos = \"-0.6, -0.1\"]\n",
    "                        Immigrant [pos = \"1.1, -2.6\"]\n",
    "                        Income [pos = \"-1.6, 2.7\"]\n",
    "                        MaritalStatus [pos = \"-3.7, -2.6\"]\n",
    "                        Race [pos = \"3.0, -2.5\"]\n",
    "                        Sex [pos = \"-0.5, -2.6\"]\n",
    "                        Age -> {Education HoursPerWeek Income MaritalStatus}\n",
    "                        Education -> Income\n",
    "                        Immigrant -> {Education HoursPerWeek}\n",
    "                        Immigrant <-> Race\n",
    "                        HoursPerWeek -> Income\n",
    "                        MaritalStatus -> Income\n",
    "                        Race -> Education\n",
    "                        Sex -> {Education HoursPerWeek}\n",
    "                        }' )\n",
    "\n",
    "plot(model2)"
   ]
  },
  {
   "cell_type": "code",
   "execution_count": null,
   "id": "recent-exhibit",
   "metadata": {},
   "outputs": [],
   "source": []
  },
  {
   "cell_type": "code",
   "execution_count": 8,
   "id": "unknown-macedonia",
   "metadata": {},
   "outputs": [
    {
     "data": {
      "text/html": [
       "<table>\n",
       "<thead><tr><th></th><th scope=col>estimate</th><th scope=col>p.value</th><th scope=col>2.5%</th><th scope=col>97.5%</th></tr></thead>\n",
       "<tbody>\n",
       "\t<tr><th scope=row>Age _||_ HrPW</th><td> 0.140345881 </td><td>6.269761e-133</td><td> 0.129267531 </td><td> 0.151396949 </td></tr>\n",
       "\t<tr><th scope=row>Age _||_ Immg</th><td>-0.013766498 </td><td> 1.680764e-02</td><td>-0.025048117 </td><td>-0.002481374 </td></tr>\n",
       "\t<tr><th scope=row>Age _||_ Race</th><td> 0.023568238 </td><td> 4.245434e-05</td><td> 0.012285996 </td><td> 0.034844484 </td></tr>\n",
       "\t<tr><th scope=row>Age _||_ Sex</th><td> 0.086984738 </td><td> 8.257393e-52</td><td> 0.075773780 </td><td> 0.098174484 </td></tr>\n",
       "\t<tr><th scope=row>Edct _||_ HrPW</th><td> 0.197383839 </td><td>2.398037e-264</td><td> 0.186529032 </td><td> 0.208232033 </td></tr>\n",
       "\t<tr><th scope=row>Edct _||_ Immg | Race</th><td>-0.079660317 </td><td> 1.058015e-43</td><td>-0.090864739 </td><td>-0.068436246 </td></tr>\n",
       "\t<tr><th scope=row>Edct _||_ MrtS | Age</th><td>-0.050711171 </td><td> 1.206584e-18</td><td>-0.061961468 </td><td>-0.039448057 </td></tr>\n",
       "\t<tr><th scope=row>HrPW _||_ Immg</th><td>-0.028055483 </td><td> 1.096430e-06</td><td>-0.039328547 </td><td>-0.016775285 </td></tr>\n",
       "\t<tr><th scope=row>HrPW _||_ MrtS</th><td>-0.259814609 </td><td> 0.000000e+00</td><td>-0.270406271 </td><td>-0.249325527 </td></tr>\n",
       "\t<tr><th scope=row>HrPW _||_ Race</th><td> 0.088166348 </td><td> 3.480544e-53</td><td> 0.076957592 </td><td> 0.099353649 </td></tr>\n",
       "\t<tr><th scope=row>HrPW _||_ Sex</th><td> 0.279048646 </td><td> 0.000000e+00</td><td> 0.268704677 </td><td> 0.289562210 </td></tr>\n",
       "\t<tr><th scope=row>Immg _||_ MrtS</th><td>-0.030453015 </td><td> 1.221746e-07</td><td>-0.041724194 </td><td>-0.019174096 </td></tr>\n",
       "\t<tr><th scope=row>Immg _||_ Sex</th><td> 0.003005682 </td><td> 6.016852e-01</td><td>-0.008280109 </td><td> 0.014290707 </td></tr>\n",
       "\t<tr><th scope=row>Incm _||_ Race | Age, Edct, Immg, Sex</th><td> 0.082951786 </td><td> 2.987383e-47</td><td> 0.071732812 </td><td> 0.094150394 </td></tr>\n",
       "\t<tr><th scope=row>MrtS _||_ Race</th><td>-0.097075533 </td><td> 3.687141e-64</td><td>-0.108243453 </td><td>-0.085884426 </td></tr>\n",
       "\t<tr><th scope=row>MrtS _||_ Sex</th><td>-0.426348288 </td><td> 0.000000e+00</td><td>-0.436663708 </td><td>-0.417969404 </td></tr>\n",
       "\t<tr><th scope=row>Race _||_ Sex</th><td> 0.105148399 </td><td> 4.931086e-75</td><td> 0.093974894 </td><td> 0.116297330 </td></tr>\n",
       "</tbody>\n",
       "</table>\n"
      ],
      "text/latex": [
       "\\begin{tabular}{r|llll}\n",
       "  & estimate & p.value & 2.5\\% & 97.5\\%\\\\\n",
       "\\hline\n",
       "\tAge \\_\\textbar{}\\textbar{}\\_ HrPW &  0.140345881  & 6.269761e-133 &  0.129267531  &  0.151396949 \\\\\n",
       "\tAge \\_\\textbar{}\\textbar{}\\_ Immg & -0.013766498  &  1.680764e-02 & -0.025048117  & -0.002481374 \\\\\n",
       "\tAge \\_\\textbar{}\\textbar{}\\_ Race &  0.023568238  &  4.245434e-05 &  0.012285996  &  0.034844484 \\\\\n",
       "\tAge \\_\\textbar{}\\textbar{}\\_ Sex &  0.086984738  &  8.257393e-52 &  0.075773780  &  0.098174484 \\\\\n",
       "\tEdct \\_\\textbar{}\\textbar{}\\_ HrPW &  0.197383839  & 2.398037e-264 &  0.186529032  &  0.208232033 \\\\\n",
       "\tEdct \\_\\textbar{}\\textbar{}\\_ Immg \\textbar{} Race & -0.079660317  &  1.058015e-43 & -0.090864739  & -0.068436246 \\\\\n",
       "\tEdct \\_\\textbar{}\\textbar{}\\_ MrtS \\textbar{} Age & -0.050711171  &  1.206584e-18 & -0.061961468  & -0.039448057 \\\\\n",
       "\tHrPW \\_\\textbar{}\\textbar{}\\_ Immg & -0.028055483  &  1.096430e-06 & -0.039328547  & -0.016775285 \\\\\n",
       "\tHrPW \\_\\textbar{}\\textbar{}\\_ MrtS & -0.259814609  &  0.000000e+00 & -0.270406271  & -0.249325527 \\\\\n",
       "\tHrPW \\_\\textbar{}\\textbar{}\\_ Race &  0.088166348  &  3.480544e-53 &  0.076957592  &  0.099353649 \\\\\n",
       "\tHrPW \\_\\textbar{}\\textbar{}\\_ Sex &  0.279048646  &  0.000000e+00 &  0.268704677  &  0.289562210 \\\\\n",
       "\tImmg \\_\\textbar{}\\textbar{}\\_ MrtS & -0.030453015  &  1.221746e-07 & -0.041724194  & -0.019174096 \\\\\n",
       "\tImmg \\_\\textbar{}\\textbar{}\\_ Sex &  0.003005682  &  6.016852e-01 & -0.008280109  &  0.014290707 \\\\\n",
       "\tIncm \\_\\textbar{}\\textbar{}\\_ Race \\textbar{} Age, Edct, Immg, Sex &  0.082951786  &  2.987383e-47 &  0.071732812  &  0.094150394 \\\\\n",
       "\tMrtS \\_\\textbar{}\\textbar{}\\_ Race & -0.097075533  &  3.687141e-64 & -0.108243453  & -0.085884426 \\\\\n",
       "\tMrtS \\_\\textbar{}\\textbar{}\\_ Sex & -0.426348288  &  0.000000e+00 & -0.436663708  & -0.417969404 \\\\\n",
       "\tRace \\_\\textbar{}\\textbar{}\\_ Sex &  0.105148399  &  4.931086e-75 &  0.093974894  &  0.116297330 \\\\\n",
       "\\end{tabular}\n"
      ],
      "text/markdown": [
       "\n",
       "| <!--/--> | estimate | p.value | 2.5% | 97.5% |\n",
       "|---|---|---|---|---|\n",
       "| Age _||_ HrPW |  0.140345881  | 6.269761e-133 |  0.129267531  |  0.151396949  |\n",
       "| Age _||_ Immg | -0.013766498  |  1.680764e-02 | -0.025048117  | -0.002481374  |\n",
       "| Age _||_ Race |  0.023568238  |  4.245434e-05 |  0.012285996  |  0.034844484  |\n",
       "| Age _||_ Sex |  0.086984738  |  8.257393e-52 |  0.075773780  |  0.098174484  |\n",
       "| Edct _||_ HrPW |  0.197383839  | 2.398037e-264 |  0.186529032  |  0.208232033  |\n",
       "| Edct _||_ Immg | Race | -0.079660317  |  1.058015e-43 | -0.090864739  | -0.068436246  |\n",
       "| Edct _||_ MrtS | Age | -0.050711171  |  1.206584e-18 | -0.061961468  | -0.039448057  |\n",
       "| HrPW _||_ Immg | -0.028055483  |  1.096430e-06 | -0.039328547  | -0.016775285  |\n",
       "| HrPW _||_ MrtS | -0.259814609  |  0.000000e+00 | -0.270406271  | -0.249325527  |\n",
       "| HrPW _||_ Race |  0.088166348  |  3.480544e-53 |  0.076957592  |  0.099353649  |\n",
       "| HrPW _||_ Sex |  0.279048646  |  0.000000e+00 |  0.268704677  |  0.289562210  |\n",
       "| Immg _||_ MrtS | -0.030453015  |  1.221746e-07 | -0.041724194  | -0.019174096  |\n",
       "| Immg _||_ Sex |  0.003005682  |  6.016852e-01 | -0.008280109  |  0.014290707  |\n",
       "| Incm _||_ Race | Age, Edct, Immg, Sex |  0.082951786  |  2.987383e-47 |  0.071732812  |  0.094150394  |\n",
       "| MrtS _||_ Race | -0.097075533  |  3.687141e-64 | -0.108243453  | -0.085884426  |\n",
       "| MrtS _||_ Sex | -0.426348288  |  0.000000e+00 | -0.436663708  | -0.417969404  |\n",
       "| Race _||_ Sex |  0.105148399  |  4.931086e-75 |  0.093974894  |  0.116297330  |\n",
       "\n"
      ],
      "text/plain": [
       "                                      estimate     p.value       2.5%        \n",
       "Age _||_ HrPW                          0.140345881 6.269761e-133  0.129267531\n",
       "Age _||_ Immg                         -0.013766498  1.680764e-02 -0.025048117\n",
       "Age _||_ Race                          0.023568238  4.245434e-05  0.012285996\n",
       "Age _||_ Sex                           0.086984738  8.257393e-52  0.075773780\n",
       "Edct _||_ HrPW                         0.197383839 2.398037e-264  0.186529032\n",
       "Edct _||_ Immg | Race                 -0.079660317  1.058015e-43 -0.090864739\n",
       "Edct _||_ MrtS | Age                  -0.050711171  1.206584e-18 -0.061961468\n",
       "HrPW _||_ Immg                        -0.028055483  1.096430e-06 -0.039328547\n",
       "HrPW _||_ MrtS                        -0.259814609  0.000000e+00 -0.270406271\n",
       "HrPW _||_ Race                         0.088166348  3.480544e-53  0.076957592\n",
       "HrPW _||_ Sex                          0.279048646  0.000000e+00  0.268704677\n",
       "Immg _||_ MrtS                        -0.030453015  1.221746e-07 -0.041724194\n",
       "Immg _||_ Sex                          0.003005682  6.016852e-01 -0.008280109\n",
       "Incm _||_ Race | Age, Edct, Immg, Sex  0.082951786  2.987383e-47  0.071732812\n",
       "MrtS _||_ Race                        -0.097075533  3.687141e-64 -0.108243453\n",
       "MrtS _||_ Sex                         -0.426348288  0.000000e+00 -0.436663708\n",
       "Race _||_ Sex                          0.105148399  4.931086e-75  0.093974894\n",
       "                                      97.5%       \n",
       "Age _||_ HrPW                          0.151396949\n",
       "Age _||_ Immg                         -0.002481374\n",
       "Age _||_ Race                          0.034844484\n",
       "Age _||_ Sex                           0.098174484\n",
       "Edct _||_ HrPW                         0.208232033\n",
       "Edct _||_ Immg | Race                 -0.068436246\n",
       "Edct _||_ MrtS | Age                  -0.039448057\n",
       "HrPW _||_ Immg                        -0.016775285\n",
       "HrPW _||_ MrtS                        -0.249325527\n",
       "HrPW _||_ Race                         0.099353649\n",
       "HrPW _||_ Sex                          0.289562210\n",
       "Immg _||_ MrtS                        -0.019174096\n",
       "Immg _||_ Sex                          0.014290707\n",
       "Incm _||_ Race | Age, Edct, Immg, Sex  0.094150394\n",
       "MrtS _||_ Race                        -0.085884426\n",
       "MrtS _||_ Sex                         -0.417969404\n",
       "Race _||_ Sex                          0.116297330"
      ]
     },
     "metadata": {},
     "output_type": "display_data"
    }
   ],
   "source": [
    "localTests(model,\n",
    "           sample.cov = corr,\n",
    "           sample.nobs = nrow(data))"
   ]
  },
  {
   "cell_type": "code",
   "execution_count": 9,
   "id": "continuing-trinity",
   "metadata": {},
   "outputs": [],
   "source": [
    "print(xtable(localTests(model,\n",
    "                        sample.cov = corr,\n",
    "                        sample.nobs = nrow(data)),\n",
    "             type = \"latex\"),\n",
    "      file = \"r1m1.tex\")"
   ]
  },
  {
   "cell_type": "code",
   "execution_count": 10,
   "id": "framed-exemption",
   "metadata": {},
   "outputs": [
    {
     "data": {
      "image/png": "[encoded data removed]",
      "text/plain": [
       "plot without title"
      ]
     },
     "metadata": {},
     "output_type": "display_data"
    }
   ],
   "source": [
    "plotLocalTestResults(localTests(model,\n",
    "                                sample.cov = corr,\n",
    "                                sample.nobs = nrow(data)))"
   ]
  },
  {
   "cell_type": "code",
   "execution_count": 11,
   "id": "vocal-intervention",
   "metadata": {},
   "outputs": [
    {
     "data": {
      "text/html": [
       "<table>\n",
       "<thead><tr><th></th><th scope=col>estimate</th><th scope=col>p.value</th><th scope=col>2.5%</th><th scope=col>97.5%</th></tr></thead>\n",
       "<tbody>\n",
       "\t<tr><th scope=row>Age _||_ HrPW</th><td> 0.140345881 </td><td>6.269761e-133</td><td> 0.129267531 </td><td> 0.151396949 </td></tr>\n",
       "\t<tr><th scope=row>Age _||_ Immg</th><td>-0.013766498 </td><td> 1.680764e-02</td><td>-0.025048117 </td><td>-0.002481374 </td></tr>\n",
       "\t<tr><th scope=row>Age _||_ Race</th><td> 0.023568238 </td><td> 4.245434e-05</td><td> 0.012285996 </td><td> 0.034844484 </td></tr>\n",
       "\t<tr><th scope=row>Age _||_ Sex</th><td> 0.086984738 </td><td> 8.257393e-52</td><td> 0.075773780 </td><td> 0.098174484 </td></tr>\n",
       "\t<tr><th scope=row>Edct _||_ HrPW</th><td> 0.197383839 </td><td>2.398037e-264</td><td> 0.186529032 </td><td> 0.208232033 </td></tr>\n",
       "\t<tr><th scope=row>Edct _||_ Immg | Race</th><td>-0.079660317 </td><td> 1.058015e-43</td><td>-0.090864739 </td><td>-0.068436246 </td></tr>\n",
       "\t<tr><th scope=row>Edct _||_ MrtS | Age</th><td>-0.050711171 </td><td> 1.206584e-18</td><td>-0.061961468 </td><td>-0.039448057 </td></tr>\n",
       "\t<tr><th scope=row>HrPW _||_ Immg</th><td>-0.028055483 </td><td> 1.096430e-06</td><td>-0.039328547 </td><td>-0.016775285 </td></tr>\n",
       "\t<tr><th scope=row>HrPW _||_ MrtS</th><td>-0.259814609 </td><td> 0.000000e+00</td><td>-0.270406271 </td><td>-0.249325527 </td></tr>\n",
       "\t<tr><th scope=row>HrPW _||_ Race</th><td> 0.088166348 </td><td> 3.480544e-53</td><td> 0.076957592 </td><td> 0.099353649 </td></tr>\n",
       "\t<tr><th scope=row>HrPW _||_ Sex</th><td> 0.279048646 </td><td> 0.000000e+00</td><td> 0.268704677 </td><td> 0.289562210 </td></tr>\n",
       "\t<tr><th scope=row>Immg _||_ MrtS</th><td>-0.030453015 </td><td> 1.221746e-07</td><td>-0.041724194 </td><td>-0.019174096 </td></tr>\n",
       "\t<tr><th scope=row>Immg _||_ Sex</th><td> 0.003005682 </td><td> 6.016852e-01</td><td>-0.008280109 </td><td> 0.014290707 </td></tr>\n",
       "\t<tr><th scope=row>MrtS _||_ Race</th><td>-0.097075533 </td><td> 3.687141e-64</td><td>-0.108243453 </td><td>-0.085884426 </td></tr>\n",
       "\t<tr><th scope=row>MrtS _||_ Sex</th><td>-0.426348288 </td><td> 0.000000e+00</td><td>-0.436663708 </td><td>-0.417969404 </td></tr>\n",
       "\t<tr><th scope=row>Race _||_ Sex</th><td> 0.105148399 </td><td> 4.931086e-75</td><td> 0.093974894 </td><td> 0.116297330 </td></tr>\n",
       "</tbody>\n",
       "</table>\n"
      ],
      "text/latex": [
       "\\begin{tabular}{r|llll}\n",
       "  & estimate & p.value & 2.5\\% & 97.5\\%\\\\\n",
       "\\hline\n",
       "\tAge \\_\\textbar{}\\textbar{}\\_ HrPW &  0.140345881  & 6.269761e-133 &  0.129267531  &  0.151396949 \\\\\n",
       "\tAge \\_\\textbar{}\\textbar{}\\_ Immg & -0.013766498  &  1.680764e-02 & -0.025048117  & -0.002481374 \\\\\n",
       "\tAge \\_\\textbar{}\\textbar{}\\_ Race &  0.023568238  &  4.245434e-05 &  0.012285996  &  0.034844484 \\\\\n",
       "\tAge \\_\\textbar{}\\textbar{}\\_ Sex &  0.086984738  &  8.257393e-52 &  0.075773780  &  0.098174484 \\\\\n",
       "\tEdct \\_\\textbar{}\\textbar{}\\_ HrPW &  0.197383839  & 2.398037e-264 &  0.186529032  &  0.208232033 \\\\\n",
       "\tEdct \\_\\textbar{}\\textbar{}\\_ Immg \\textbar{} Race & -0.079660317  &  1.058015e-43 & -0.090864739  & -0.068436246 \\\\\n",
       "\tEdct \\_\\textbar{}\\textbar{}\\_ MrtS \\textbar{} Age & -0.050711171  &  1.206584e-18 & -0.061961468  & -0.039448057 \\\\\n",
       "\tHrPW \\_\\textbar{}\\textbar{}\\_ Immg & -0.028055483  &  1.096430e-06 & -0.039328547  & -0.016775285 \\\\\n",
       "\tHrPW \\_\\textbar{}\\textbar{}\\_ MrtS & -0.259814609  &  0.000000e+00 & -0.270406271  & -0.249325527 \\\\\n",
       "\tHrPW \\_\\textbar{}\\textbar{}\\_ Race &  0.088166348  &  3.480544e-53 &  0.076957592  &  0.099353649 \\\\\n",
       "\tHrPW \\_\\textbar{}\\textbar{}\\_ Sex &  0.279048646  &  0.000000e+00 &  0.268704677  &  0.289562210 \\\\\n",
       "\tImmg \\_\\textbar{}\\textbar{}\\_ MrtS & -0.030453015  &  1.221746e-07 & -0.041724194  & -0.019174096 \\\\\n",
       "\tImmg \\_\\textbar{}\\textbar{}\\_ Sex &  0.003005682  &  6.016852e-01 & -0.008280109  &  0.014290707 \\\\\n",
       "\tMrtS \\_\\textbar{}\\textbar{}\\_ Race & -0.097075533  &  3.687141e-64 & -0.108243453  & -0.085884426 \\\\\n",
       "\tMrtS \\_\\textbar{}\\textbar{}\\_ Sex & -0.426348288  &  0.000000e+00 & -0.436663708  & -0.417969404 \\\\\n",
       "\tRace \\_\\textbar{}\\textbar{}\\_ Sex &  0.105148399  &  4.931086e-75 &  0.093974894  &  0.116297330 \\\\\n",
       "\\end{tabular}\n"
      ],
      "text/markdown": [
       "\n",
       "| <!--/--> | estimate | p.value | 2.5% | 97.5% |\n",
       "|---|---|---|---|---|\n",
       "| Age _||_ HrPW |  0.140345881  | 6.269761e-133 |  0.129267531  |  0.151396949  |\n",
       "| Age _||_ Immg | -0.013766498  |  1.680764e-02 | -0.025048117  | -0.002481374  |\n",
       "| Age _||_ Race |  0.023568238  |  4.245434e-05 |  0.012285996  |  0.034844484  |\n",
       "| Age _||_ Sex |  0.086984738  |  8.257393e-52 |  0.075773780  |  0.098174484  |\n",
       "| Edct _||_ HrPW |  0.197383839  | 2.398037e-264 |  0.186529032  |  0.208232033  |\n",
       "| Edct _||_ Immg | Race | -0.079660317  |  1.058015e-43 | -0.090864739  | -0.068436246  |\n",
       "| Edct _||_ MrtS | Age | -0.050711171  |  1.206584e-18 | -0.061961468  | -0.039448057  |\n",
       "| HrPW _||_ Immg | -0.028055483  |  1.096430e-06 | -0.039328547  | -0.016775285  |\n",
       "| HrPW _||_ MrtS | -0.259814609  |  0.000000e+00 | -0.270406271  | -0.249325527  |\n",
       "| HrPW _||_ Race |  0.088166348  |  3.480544e-53 |  0.076957592  |  0.099353649  |\n",
       "| HrPW _||_ Sex |  0.279048646  |  0.000000e+00 |  0.268704677  |  0.289562210  |\n",
       "| Immg _||_ MrtS | -0.030453015  |  1.221746e-07 | -0.041724194  | -0.019174096  |\n",
       "| Immg _||_ Sex |  0.003005682  |  6.016852e-01 | -0.008280109  |  0.014290707  |\n",
       "| MrtS _||_ Race | -0.097075533  |  3.687141e-64 | -0.108243453  | -0.085884426  |\n",
       "| MrtS _||_ Sex | -0.426348288  |  0.000000e+00 | -0.436663708  | -0.417969404  |\n",
       "| Race _||_ Sex |  0.105148399  |  4.931086e-75 |  0.093974894  |  0.116297330  |\n",
       "\n"
      ],
      "text/plain": [
       "                      estimate     p.value       2.5%         97.5%       \n",
       "Age _||_ HrPW          0.140345881 6.269761e-133  0.129267531  0.151396949\n",
       "Age _||_ Immg         -0.013766498  1.680764e-02 -0.025048117 -0.002481374\n",
       "Age _||_ Race          0.023568238  4.245434e-05  0.012285996  0.034844484\n",
       "Age _||_ Sex           0.086984738  8.257393e-52  0.075773780  0.098174484\n",
       "Edct _||_ HrPW         0.197383839 2.398037e-264  0.186529032  0.208232033\n",
       "Edct _||_ Immg | Race -0.079660317  1.058015e-43 -0.090864739 -0.068436246\n",
       "Edct _||_ MrtS | Age  -0.050711171  1.206584e-18 -0.061961468 -0.039448057\n",
       "HrPW _||_ Immg        -0.028055483  1.096430e-06 -0.039328547 -0.016775285\n",
       "HrPW _||_ MrtS        -0.259814609  0.000000e+00 -0.270406271 -0.249325527\n",
       "HrPW _||_ Race         0.088166348  3.480544e-53  0.076957592  0.099353649\n",
       "HrPW _||_ Sex          0.279048646  0.000000e+00  0.268704677  0.289562210\n",
       "Immg _||_ MrtS        -0.030453015  1.221746e-07 -0.041724194 -0.019174096\n",
       "Immg _||_ Sex          0.003005682  6.016852e-01 -0.008280109  0.014290707\n",
       "MrtS _||_ Race        -0.097075533  3.687141e-64 -0.108243453 -0.085884426\n",
       "MrtS _||_ Sex         -0.426348288  0.000000e+00 -0.436663708 -0.417969404\n",
       "Race _||_ Sex          0.105148399  4.931086e-75  0.093974894  0.116297330"
      ]
     },
     "metadata": {},
     "output_type": "display_data"
    }
   ],
   "source": [
    "localTests(x = model,\n",
    "           sample.cov = corr,\n",
    "           sample.nobs = nrow(data),\n",
    "           max.conditioning.variables = 2)"
   ]
  },
  {
   "cell_type": "code",
   "execution_count": 12,
   "id": "amazing-storage",
   "metadata": {},
   "outputs": [],
   "source": [
    "print(xtable(localTests(model,\n",
    "                        sample.cov = corr,\n",
    "                        sample.nobs = nrow(data),\n",
    "                        max.conditioning.variables = 2),\n",
    "             type = \"latex\"),\n",
    "      file = \"r2m1.tex\")"
   ]
  },
  {
   "cell_type": "code",
   "execution_count": 13,
   "id": "visible-assault",
   "metadata": {},
   "outputs": [
    {
     "data": {
      "image/png": "[encoded data removed]",
      "text/plain": [
       "plot without title"
      ]
     },
     "metadata": {},
     "output_type": "display_data"
    }
   ],
   "source": [
    "plotLocalTestResults(localTests(model,\n",
    "                                sample.cov = corr,\n",
    "                                sample.nobs = nrow(data),\n",
    "                                max.conditioning.variables = 2))"
   ]
  },
  {
   "cell_type": "code",
   "execution_count": null,
   "id": "timely-darwin",
   "metadata": {},
   "outputs": [],
   "source": []
  },
  {
   "cell_type": "code",
   "execution_count": 14,
   "id": "fitting-prison",
   "metadata": {},
   "outputs": [
    {
     "data": {
      "text/html": [
       "<table>\n",
       "<thead><tr><th></th><th scope=col>estimate</th><th scope=col>p.value</th><th scope=col>2.5%</th><th scope=col>97.5%</th></tr></thead>\n",
       "<tbody>\n",
       "\t<tr><th scope=row>Age _||_ Immg</th><td>-0.013766498 </td><td> 1.680764e-02</td><td>-0.025048117 </td><td>-0.002481374 </td></tr>\n",
       "\t<tr><th scope=row>Age _||_ Race</th><td> 0.023568238 </td><td> 4.245434e-05</td><td> 0.012285996 </td><td> 0.034844484 </td></tr>\n",
       "\t<tr><th scope=row>Age _||_ Sex</th><td> 0.086984738 </td><td> 8.257393e-52</td><td> 0.075773780 </td><td> 0.098174484 </td></tr>\n",
       "\t<tr><th scope=row>Edct _||_ HrPW | Age, Immg, Sex</th><td> 0.195438303 </td><td>4.833065e-259</td><td> 0.184573763 </td><td> 0.206294661 </td></tr>\n",
       "\t<tr><th scope=row>Edct _||_ MrtS | Age</th><td>-0.050711171 </td><td> 1.206584e-18</td><td>-0.061961468 </td><td>-0.039448057 </td></tr>\n",
       "\t<tr><th scope=row>HrPW _||_ MrtS | Age</th><td>-0.229278589 </td><td> 0.000000e+00</td><td>-0.239997517 </td><td>-0.218592229 </td></tr>\n",
       "\t<tr><th scope=row>HrPW _||_ Race | Immg</th><td> 0.084380882 </td><td> 7.631673e-49</td><td> 0.073164999 </td><td> 0.095576096 </td></tr>\n",
       "\t<tr><th scope=row>Immg _||_ Incm | Age, Edct, HrPW</th><td>-0.015910400 </td><td> 5.724627e-03</td><td>-0.027191590 </td><td>-0.004625160 </td></tr>\n",
       "\t<tr><th scope=row>Immg _||_ MrtS</th><td>-0.030453015 </td><td> 1.221746e-07</td><td>-0.041724194 </td><td>-0.019174096 </td></tr>\n",
       "\t<tr><th scope=row>Immg _||_ Sex</th><td> 0.003005682 </td><td> 6.016852e-01</td><td>-0.008280109 </td><td> 0.014290707 </td></tr>\n",
       "\t<tr><th scope=row>Incm _||_ Race | Age, Edct, Immg, Sex</th><td> 0.082951786 </td><td> 2.987383e-47</td><td> 0.071732812 </td><td> 0.094150394 </td></tr>\n",
       "\t<tr><th scope=row>Incm _||_ Race | Age, Edct, HrPW</th><td> 0.096510394 </td><td> 1.999275e-63</td><td> 0.085317555 </td><td> 0.107680148 </td></tr>\n",
       "\t<tr><th scope=row>Incm _||_ Sex | Age, Edct, HrPW</th><td> 0.290434219 </td><td> 0.000000e+00</td><td> 0.280184294 </td><td> 0.300903945 </td></tr>\n",
       "\t<tr><th scope=row>MrtS _||_ Race</th><td>-0.097075533 </td><td> 3.687141e-64</td><td>-0.108243453 </td><td>-0.085884426 </td></tr>\n",
       "\t<tr><th scope=row>MrtS _||_ Sex</th><td>-0.426348288 </td><td> 0.000000e+00</td><td>-0.436663708 </td><td>-0.417969404 </td></tr>\n",
       "\t<tr><th scope=row>Race _||_ Sex</th><td> 0.105148399 </td><td> 4.931086e-75</td><td> 0.093974894 </td><td> 0.116297330 </td></tr>\n",
       "</tbody>\n",
       "</table>\n"
      ],
      "text/latex": [
       "\\begin{tabular}{r|llll}\n",
       "  & estimate & p.value & 2.5\\% & 97.5\\%\\\\\n",
       "\\hline\n",
       "\tAge \\_\\textbar{}\\textbar{}\\_ Immg & -0.013766498  &  1.680764e-02 & -0.025048117  & -0.002481374 \\\\\n",
       "\tAge \\_\\textbar{}\\textbar{}\\_ Race &  0.023568238  &  4.245434e-05 &  0.012285996  &  0.034844484 \\\\\n",
       "\tAge \\_\\textbar{}\\textbar{}\\_ Sex &  0.086984738  &  8.257393e-52 &  0.075773780  &  0.098174484 \\\\\n",
       "\tEdct \\_\\textbar{}\\textbar{}\\_ HrPW \\textbar{} Age, Immg, Sex &  0.195438303  & 4.833065e-259 &  0.184573763  &  0.206294661 \\\\\n",
       "\tEdct \\_\\textbar{}\\textbar{}\\_ MrtS \\textbar{} Age & -0.050711171  &  1.206584e-18 & -0.061961468  & -0.039448057 \\\\\n",
       "\tHrPW \\_\\textbar{}\\textbar{}\\_ MrtS \\textbar{} Age & -0.229278589  &  0.000000e+00 & -0.239997517  & -0.218592229 \\\\\n",
       "\tHrPW \\_\\textbar{}\\textbar{}\\_ Race \\textbar{} Immg &  0.084380882  &  7.631673e-49 &  0.073164999  &  0.095576096 \\\\\n",
       "\tImmg \\_\\textbar{}\\textbar{}\\_ Incm \\textbar{} Age, Edct, HrPW & -0.015910400  &  5.724627e-03 & -0.027191590  & -0.004625160 \\\\\n",
       "\tImmg \\_\\textbar{}\\textbar{}\\_ MrtS & -0.030453015  &  1.221746e-07 & -0.041724194  & -0.019174096 \\\\\n",
       "\tImmg \\_\\textbar{}\\textbar{}\\_ Sex &  0.003005682  &  6.016852e-01 & -0.008280109  &  0.014290707 \\\\\n",
       "\tIncm \\_\\textbar{}\\textbar{}\\_ Race \\textbar{} Age, Edct, Immg, Sex &  0.082951786  &  2.987383e-47 &  0.071732812  &  0.094150394 \\\\\n",
       "\tIncm \\_\\textbar{}\\textbar{}\\_ Race \\textbar{} Age, Edct, HrPW &  0.096510394  &  1.999275e-63 &  0.085317555  &  0.107680148 \\\\\n",
       "\tIncm \\_\\textbar{}\\textbar{}\\_ Sex \\textbar{} Age, Edct, HrPW &  0.290434219  &  0.000000e+00 &  0.280184294  &  0.300903945 \\\\\n",
       "\tMrtS \\_\\textbar{}\\textbar{}\\_ Race & -0.097075533  &  3.687141e-64 & -0.108243453  & -0.085884426 \\\\\n",
       "\tMrtS \\_\\textbar{}\\textbar{}\\_ Sex & -0.426348288  &  0.000000e+00 & -0.436663708  & -0.417969404 \\\\\n",
       "\tRace \\_\\textbar{}\\textbar{}\\_ Sex &  0.105148399  &  4.931086e-75 &  0.093974894  &  0.116297330 \\\\\n",
       "\\end{tabular}\n"
      ],
      "text/markdown": [
       "\n",
       "| <!--/--> | estimate | p.value | 2.5% | 97.5% |\n",
       "|---|---|---|---|---|\n",
       "| Age _||_ Immg | -0.013766498  |  1.680764e-02 | -0.025048117  | -0.002481374  |\n",
       "| Age _||_ Race |  0.023568238  |  4.245434e-05 |  0.012285996  |  0.034844484  |\n",
       "| Age _||_ Sex |  0.086984738  |  8.257393e-52 |  0.075773780  |  0.098174484  |\n",
       "| Edct _||_ HrPW | Age, Immg, Sex |  0.195438303  | 4.833065e-259 |  0.184573763  |  0.206294661  |\n",
       "| Edct _||_ MrtS | Age | -0.050711171  |  1.206584e-18 | -0.061961468  | -0.039448057  |\n",
       "| HrPW _||_ MrtS | Age | -0.229278589  |  0.000000e+00 | -0.239997517  | -0.218592229  |\n",
       "| HrPW _||_ Race | Immg |  0.084380882  |  7.631673e-49 |  0.073164999  |  0.095576096  |\n",
       "| Immg _||_ Incm | Age, Edct, HrPW | -0.015910400  |  5.724627e-03 | -0.027191590  | -0.004625160  |\n",
       "| Immg _||_ MrtS | -0.030453015  |  1.221746e-07 | -0.041724194  | -0.019174096  |\n",
       "| Immg _||_ Sex |  0.003005682  |  6.016852e-01 | -0.008280109  |  0.014290707  |\n",
       "| Incm _||_ Race | Age, Edct, Immg, Sex |  0.082951786  |  2.987383e-47 |  0.071732812  |  0.094150394  |\n",
       "| Incm _||_ Race | Age, Edct, HrPW |  0.096510394  |  1.999275e-63 |  0.085317555  |  0.107680148  |\n",
       "| Incm _||_ Sex | Age, Edct, HrPW |  0.290434219  |  0.000000e+00 |  0.280184294  |  0.300903945  |\n",
       "| MrtS _||_ Race | -0.097075533  |  3.687141e-64 | -0.108243453  | -0.085884426  |\n",
       "| MrtS _||_ Sex | -0.426348288  |  0.000000e+00 | -0.436663708  | -0.417969404  |\n",
       "| Race _||_ Sex |  0.105148399  |  4.931086e-75 |  0.093974894  |  0.116297330  |\n",
       "\n"
      ],
      "text/plain": [
       "                                      estimate     p.value       2.5%        \n",
       "Age _||_ Immg                         -0.013766498  1.680764e-02 -0.025048117\n",
       "Age _||_ Race                          0.023568238  4.245434e-05  0.012285996\n",
       "Age _||_ Sex                           0.086984738  8.257393e-52  0.075773780\n",
       "Edct _||_ HrPW | Age, Immg, Sex        0.195438303 4.833065e-259  0.184573763\n",
       "Edct _||_ MrtS | Age                  -0.050711171  1.206584e-18 -0.061961468\n",
       "HrPW _||_ MrtS | Age                  -0.229278589  0.000000e+00 -0.239997517\n",
       "HrPW _||_ Race | Immg                  0.084380882  7.631673e-49  0.073164999\n",
       "Immg _||_ Incm | Age, Edct, HrPW      -0.015910400  5.724627e-03 -0.027191590\n",
       "Immg _||_ MrtS                        -0.030453015  1.221746e-07 -0.041724194\n",
       "Immg _||_ Sex                          0.003005682  6.016852e-01 -0.008280109\n",
       "Incm _||_ Race | Age, Edct, Immg, Sex  0.082951786  2.987383e-47  0.071732812\n",
       "Incm _||_ Race | Age, Edct, HrPW       0.096510394  1.999275e-63  0.085317555\n",
       "Incm _||_ Sex | Age, Edct, HrPW        0.290434219  0.000000e+00  0.280184294\n",
       "MrtS _||_ Race                        -0.097075533  3.687141e-64 -0.108243453\n",
       "MrtS _||_ Sex                         -0.426348288  0.000000e+00 -0.436663708\n",
       "Race _||_ Sex                          0.105148399  4.931086e-75  0.093974894\n",
       "                                      97.5%       \n",
       "Age _||_ Immg                         -0.002481374\n",
       "Age _||_ Race                          0.034844484\n",
       "Age _||_ Sex                           0.098174484\n",
       "Edct _||_ HrPW | Age, Immg, Sex        0.206294661\n",
       "Edct _||_ MrtS | Age                  -0.039448057\n",
       "HrPW _||_ MrtS | Age                  -0.218592229\n",
       "HrPW _||_ Race | Immg                  0.095576096\n",
       "Immg _||_ Incm | Age, Edct, HrPW      -0.004625160\n",
       "Immg _||_ MrtS                        -0.019174096\n",
       "Immg _||_ Sex                          0.014290707\n",
       "Incm _||_ Race | Age, Edct, Immg, Sex  0.094150394\n",
       "Incm _||_ Race | Age, Edct, HrPW       0.107680148\n",
       "Incm _||_ Sex | Age, Edct, HrPW        0.300903945\n",
       "MrtS _||_ Race                        -0.085884426\n",
       "MrtS _||_ Sex                         -0.417969404\n",
       "Race _||_ Sex                          0.116297330"
      ]
     },
     "metadata": {},
     "output_type": "display_data"
    }
   ],
   "source": [
    "localTests(model2,\n",
    "           sample.cov = corr,\n",
    "           sample.nobs = nrow(data))"
   ]
  },
  {
   "cell_type": "code",
   "execution_count": 15,
   "id": "south-contrary",
   "metadata": {},
   "outputs": [],
   "source": [
    "print(xtable(localTests(model2,\n",
    "                        sample.cov = corr,\n",
    "                        sample.nobs = nrow(data)),\n",
    "             type = \"latex\"),\n",
    "      file = \"r1m2.tex\")"
   ]
  },
  {
   "cell_type": "code",
   "execution_count": 16,
   "id": "wired-pleasure",
   "metadata": {},
   "outputs": [
    {
     "data": {
      "image/png": "[encoded data removed]",
      "text/plain": [
       "plot without title"
      ]
     },
     "metadata": {},
     "output_type": "display_data"
    }
   ],
   "source": [
    "plotLocalTestResults(localTests(model2,\n",
    "                                sample.cov = corr,\n",
    "                                sample.nobs = nrow(data)))"
   ]
  },
  {
   "cell_type": "code",
   "execution_count": 17,
   "id": "comprehensive-spine",
   "metadata": {},
   "outputs": [
    {
     "data": {
      "text/html": [
       "<table>\n",
       "<thead><tr><th></th><th scope=col>estimate</th><th scope=col>p.value</th><th scope=col>2.5%</th><th scope=col>97.5%</th></tr></thead>\n",
       "<tbody>\n",
       "\t<tr><th scope=row>Age _||_ Immg</th><td>-0.013766498</td><td>1.680764e-02</td><td>-0.025048117</td><td>-0.002481374</td></tr>\n",
       "\t<tr><th scope=row>Age _||_ Race</th><td> 0.023568238</td><td>4.245434e-05</td><td> 0.012285996</td><td> 0.034844484</td></tr>\n",
       "\t<tr><th scope=row>Age _||_ Sex</th><td> 0.086984738</td><td>8.257393e-52</td><td> 0.075773780</td><td> 0.098174484</td></tr>\n",
       "\t<tr><th scope=row>Edct _||_ MrtS | Age</th><td>-0.050711171</td><td>1.206584e-18</td><td>-0.061961468</td><td>-0.039448057</td></tr>\n",
       "\t<tr><th scope=row>HrPW _||_ MrtS | Age</th><td>-0.229278589</td><td>0.000000e+00</td><td>-0.239997517</td><td>-0.218592229</td></tr>\n",
       "\t<tr><th scope=row>HrPW _||_ Race | Immg</th><td> 0.084380882</td><td>7.631673e-49</td><td> 0.073164999</td><td> 0.095576096</td></tr>\n",
       "\t<tr><th scope=row>Immg _||_ MrtS</th><td>-0.030453015</td><td>1.221746e-07</td><td>-0.041724194</td><td>-0.019174096</td></tr>\n",
       "\t<tr><th scope=row>Immg _||_ Sex</th><td> 0.003005682</td><td>6.016852e-01</td><td>-0.008280109</td><td> 0.014290707</td></tr>\n",
       "\t<tr><th scope=row>MrtS _||_ Race</th><td>-0.097075533</td><td>3.687141e-64</td><td>-0.108243453</td><td>-0.085884426</td></tr>\n",
       "\t<tr><th scope=row>MrtS _||_ Sex</th><td>-0.426348288</td><td>0.000000e+00</td><td>-0.436663708</td><td>-0.417969404</td></tr>\n",
       "\t<tr><th scope=row>Race _||_ Sex</th><td> 0.105148399</td><td>4.931086e-75</td><td> 0.093974894</td><td> 0.116297330</td></tr>\n",
       "</tbody>\n",
       "</table>\n"
      ],
      "text/latex": [
       "\\begin{tabular}{r|llll}\n",
       "  & estimate & p.value & 2.5\\% & 97.5\\%\\\\\n",
       "\\hline\n",
       "\tAge \\_\\textbar{}\\textbar{}\\_ Immg & -0.013766498 & 1.680764e-02 & -0.025048117 & -0.002481374\\\\\n",
       "\tAge \\_\\textbar{}\\textbar{}\\_ Race &  0.023568238 & 4.245434e-05 &  0.012285996 &  0.034844484\\\\\n",
       "\tAge \\_\\textbar{}\\textbar{}\\_ Sex &  0.086984738 & 8.257393e-52 &  0.075773780 &  0.098174484\\\\\n",
       "\tEdct \\_\\textbar{}\\textbar{}\\_ MrtS \\textbar{} Age & -0.050711171 & 1.206584e-18 & -0.061961468 & -0.039448057\\\\\n",
       "\tHrPW \\_\\textbar{}\\textbar{}\\_ MrtS \\textbar{} Age & -0.229278589 & 0.000000e+00 & -0.239997517 & -0.218592229\\\\\n",
       "\tHrPW \\_\\textbar{}\\textbar{}\\_ Race \\textbar{} Immg &  0.084380882 & 7.631673e-49 &  0.073164999 &  0.095576096\\\\\n",
       "\tImmg \\_\\textbar{}\\textbar{}\\_ MrtS & -0.030453015 & 1.221746e-07 & -0.041724194 & -0.019174096\\\\\n",
       "\tImmg \\_\\textbar{}\\textbar{}\\_ Sex &  0.003005682 & 6.016852e-01 & -0.008280109 &  0.014290707\\\\\n",
       "\tMrtS \\_\\textbar{}\\textbar{}\\_ Race & -0.097075533 & 3.687141e-64 & -0.108243453 & -0.085884426\\\\\n",
       "\tMrtS \\_\\textbar{}\\textbar{}\\_ Sex & -0.426348288 & 0.000000e+00 & -0.436663708 & -0.417969404\\\\\n",
       "\tRace \\_\\textbar{}\\textbar{}\\_ Sex &  0.105148399 & 4.931086e-75 &  0.093974894 &  0.116297330\\\\\n",
       "\\end{tabular}\n"
      ],
      "text/markdown": [
       "\n",
       "| <!--/--> | estimate | p.value | 2.5% | 97.5% |\n",
       "|---|---|---|---|---|\n",
       "| Age _||_ Immg | -0.013766498 | 1.680764e-02 | -0.025048117 | -0.002481374 |\n",
       "| Age _||_ Race |  0.023568238 | 4.245434e-05 |  0.012285996 |  0.034844484 |\n",
       "| Age _||_ Sex |  0.086984738 | 8.257393e-52 |  0.075773780 |  0.098174484 |\n",
       "| Edct _||_ MrtS | Age | -0.050711171 | 1.206584e-18 | -0.061961468 | -0.039448057 |\n",
       "| HrPW _||_ MrtS | Age | -0.229278589 | 0.000000e+00 | -0.239997517 | -0.218592229 |\n",
       "| HrPW _||_ Race | Immg |  0.084380882 | 7.631673e-49 |  0.073164999 |  0.095576096 |\n",
       "| Immg _||_ MrtS | -0.030453015 | 1.221746e-07 | -0.041724194 | -0.019174096 |\n",
       "| Immg _||_ Sex |  0.003005682 | 6.016852e-01 | -0.008280109 |  0.014290707 |\n",
       "| MrtS _||_ Race | -0.097075533 | 3.687141e-64 | -0.108243453 | -0.085884426 |\n",
       "| MrtS _||_ Sex | -0.426348288 | 0.000000e+00 | -0.436663708 | -0.417969404 |\n",
       "| Race _||_ Sex |  0.105148399 | 4.931086e-75 |  0.093974894 |  0.116297330 |\n",
       "\n"
      ],
      "text/plain": [
       "                      estimate     p.value      2.5%         97.5%       \n",
       "Age _||_ Immg         -0.013766498 1.680764e-02 -0.025048117 -0.002481374\n",
       "Age _||_ Race          0.023568238 4.245434e-05  0.012285996  0.034844484\n",
       "Age _||_ Sex           0.086984738 8.257393e-52  0.075773780  0.098174484\n",
       "Edct _||_ MrtS | Age  -0.050711171 1.206584e-18 -0.061961468 -0.039448057\n",
       "HrPW _||_ MrtS | Age  -0.229278589 0.000000e+00 -0.239997517 -0.218592229\n",
       "HrPW _||_ Race | Immg  0.084380882 7.631673e-49  0.073164999  0.095576096\n",
       "Immg _||_ MrtS        -0.030453015 1.221746e-07 -0.041724194 -0.019174096\n",
       "Immg _||_ Sex          0.003005682 6.016852e-01 -0.008280109  0.014290707\n",
       "MrtS _||_ Race        -0.097075533 3.687141e-64 -0.108243453 -0.085884426\n",
       "MrtS _||_ Sex         -0.426348288 0.000000e+00 -0.436663708 -0.417969404\n",
       "Race _||_ Sex          0.105148399 4.931086e-75  0.093974894  0.116297330"
      ]
     },
     "metadata": {},
     "output_type": "display_data"
    }
   ],
   "source": [
    "localTests(x = model2,\n",
    "           sample.cov = corr,\n",
    "           sample.nobs = nrow(data),\n",
    "           max.conditioning.variables = 2)"
   ]
  },
  {
   "cell_type": "code",
   "execution_count": 18,
   "id": "available-sympathy",
   "metadata": {},
   "outputs": [],
   "source": [
    "print(xtable(localTests(model2,\n",
    "                        sample.cov = corr,\n",
    "                        sample.nobs = nrow(data),\n",
    "                        max.conditioning.variables = 2),\n",
    "             type = \"latex\"),\n",
    "      file = \"r2m2.tex\")"
   ]
  },
  {
   "cell_type": "code",
   "execution_count": 19,
   "id": "surprised-economics",
   "metadata": {},
   "outputs": [
    {
     "data": {
      "image/png": "[encoded data removed]",
      "text/plain": [
       "plot without title"
      ]
     },
     "metadata": {},
     "output_type": "display_data"
    }
   ],
   "source": [
    "plotLocalTestResults(localTests(model2,\n",
    "                                sample.cov = corr,\n",
    "                                sample.nobs = nrow(data),\n",
    "                                max.conditioning.variables = 2))"
   ]
  },
  {
   "cell_type": "code",
   "execution_count": null,
   "id": "clean-greece",
   "metadata": {},
   "outputs": [],
   "source": []
  }
 ],
 "metadata": {
  "kernelspec": {
   "display_name": "R",
   "language": "R",
   "name": "ir"
  },
  "language_info": {
   "codemirror_mode": "r",
   "file_extension": ".r",
   "mimetype": "text/x-r-source",
   "name": "R",
   "pygments_lexer": "r",
   "version": "3.6.1"
  }
 },
 "nbformat": 4,
 "nbformat_minor": 5
}

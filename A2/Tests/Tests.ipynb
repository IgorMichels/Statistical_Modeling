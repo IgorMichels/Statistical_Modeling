{
 "cells": [
  {
   "cell_type": "code",
   "execution_count": 1,
   "id": "verbal-creation",
   "metadata": {},
   "outputs": [
    {
     "name": "stderr",
     "output_type": "stream",
     "text": [
      "Warning message:\n",
      "\"package 'dagitty' was built under R version 3.6.3\"Warning message:\n",
      "\"package 'lavaan' was built under R version 3.6.3\"This is lavaan 0.6-8\n",
      "lavaan is FREE software! Please report any bugs.\n",
      "Warning message:\n",
      "\"package 'readxl' was built under R version 3.6.3\""
     ]
    }
   ],
   "source": [
    "library(dagitty)\n",
    "library(lavaan)\n",
    "library(readxl)\n",
    "library(flowCore)\n",
    "library(premessa)"
   ]
  },
  {
   "cell_type": "code",
   "execution_count": 2,
   "id": "happy-vietnamese",
   "metadata": {},
   "outputs": [
    {
     "name": "stderr",
     "output_type": "stream",
     "text": [
      "Plot coordinates for graph not supplied! Generating coordinates, see ?coordinates for how to set your own.\n"
     ]
    },
    {
     "data": {
      "image/png": "[encoded data removed]",
      "text/plain": [
       "plot without title"
      ]
     },
     "metadata": {},
     "output_type": "display_data"
    }
   ],
   "source": [
    "myDAG <- dagitty(\"dag {A -> B -> C A -> C}\")\n",
    "plot(myDAG)"
   ]
  },
  {
   "cell_type": "code",
   "execution_count": null,
   "id": "golden-legend",
   "metadata": {},
   "outputs": [],
   "source": []
  },
  {
   "cell_type": "code",
   "execution_count": 3,
   "id": "minimal-defensive",
   "metadata": {},
   "outputs": [],
   "source": [
    "myDAG <- dagitty( 'dag {\n",
    "Age -> Irradiation\n",
    "Age -> Menopause\n",
    "Irradiation -> Recurrence\n",
    "Menopause -> Recurrence\n",
    "}' )"
   ]
  },
  {
   "cell_type": "code",
   "execution_count": 4,
   "id": "responsible-triple",
   "metadata": {},
   "outputs": [
    {
     "name": "stderr",
     "output_type": "stream",
     "text": [
      "Plot coordinates for graph not supplied! Generating coordinates, see ?coordinates for how to set your own.\n"
     ]
    },
    {
     "data": {
      "image/png": "[encoded data removed]",
      "text/plain": [
       "plot without title"
      ]
     },
     "metadata": {},
     "output_type": "display_data"
    }
   ],
   "source": [
    "plot( myDAG )"
   ]
  },
  {
   "cell_type": "code",
   "execution_count": 5,
   "id": "southeast-subscriber",
   "metadata": {},
   "outputs": [],
   "source": [
    "data <- read.table( \"brca.txt\", header=TRUE )"
   ]
  },
  {
   "cell_type": "code",
   "execution_count": 6,
   "id": "stock-wellington",
   "metadata": {},
   "outputs": [
    {
     "data": {
      "text/plain": [
       "Age _||_ Rcrr | Irrd, Mnps\n",
       "Irrd _||_ Mnps | Age"
      ]
     },
     "metadata": {},
     "output_type": "display_data"
    }
   ],
   "source": [
    "impliedConditionalIndependencies( myDAG )"
   ]
  },
  {
   "cell_type": "code",
   "execution_count": 7,
   "id": "threaded-rebecca",
   "metadata": {},
   "outputs": [
    {
     "data": {
      "text/html": [
       "<table>\n",
       "<thead><tr><th></th><th scope=col>rmsea</th><th scope=col>x2</th><th scope=col>df</th><th scope=col>p.value</th><th scope=col>rmsea 2.5%</th><th scope=col>rmsea 97.5%</th></tr></thead>\n",
       "<tbody>\n",
       "\t<tr><th scope=row>Age _||_ Rcrr | Irrd, Mnps</th><td>0.3094734   </td><td>104.1102    </td><td>14          </td><td>7.695273e-16</td><td>0.1637174   </td><td>0.4827959   </td></tr>\n",
       "</tbody>\n",
       "</table>\n"
      ],
      "text/latex": [
       "\\begin{tabular}{r|llllll}\n",
       "  & rmsea & x2 & df & p.value & rmsea 2.5\\% & rmsea 97.5\\%\\\\\n",
       "\\hline\n",
       "\tAge \\_\\textbar{}\\textbar{}\\_ Rcrr \\textbar{} Irrd, Mnps & 0.3094734    & 104.1102     & 14           & 7.695273e-16 & 0.1637174    & 0.4827959   \\\\\n",
       "\\end{tabular}\n"
      ],
      "text/markdown": [
       "\n",
       "| <!--/--> | rmsea | x2 | df | p.value | rmsea 2.5% | rmsea 97.5% |\n",
       "|---|---|---|---|---|---|---|\n",
       "| Age _||_ Rcrr | Irrd, Mnps | 0.3094734    | 104.1102     | 14           | 7.695273e-16 | 0.1637174    | 0.4827959    |\n",
       "\n"
      ],
      "text/plain": [
       "                           rmsea     x2       df p.value      rmsea 2.5%\n",
       "Age _||_ Rcrr | Irrd, Mnps 0.3094734 104.1102 14 7.695273e-16 0.1637174 \n",
       "                           rmsea 97.5%\n",
       "Age _||_ Rcrr | Irrd, Mnps 0.4827959  "
      ]
     },
     "metadata": {},
     "output_type": "display_data"
    },
    {
     "data": {
      "text/html": [
       "<table>\n",
       "<thead><tr><th></th><th scope=col>rmsea</th><th scope=col>x2</th><th scope=col>df</th><th scope=col>p.value</th><th scope=col>rmsea 2.5%</th><th scope=col>rmsea 97.5%</th></tr></thead>\n",
       "<tbody>\n",
       "\t<tr><th scope=row>Irrd _||_ Mnps | Age</th><td>0.02884549</td><td>2.692835  </td><td>4         </td><td>0.6104689 </td><td>0         </td><td>0.3073013 </td></tr>\n",
       "</tbody>\n",
       "</table>\n"
      ],
      "text/latex": [
       "\\begin{tabular}{r|llllll}\n",
       "  & rmsea & x2 & df & p.value & rmsea 2.5\\% & rmsea 97.5\\%\\\\\n",
       "\\hline\n",
       "\tIrrd \\_\\textbar{}\\textbar{}\\_ Mnps \\textbar{} Age & 0.02884549 & 2.692835   & 4          & 0.6104689  & 0          & 0.3073013 \\\\\n",
       "\\end{tabular}\n"
      ],
      "text/markdown": [
       "\n",
       "| <!--/--> | rmsea | x2 | df | p.value | rmsea 2.5% | rmsea 97.5% |\n",
       "|---|---|---|---|---|---|---|\n",
       "| Irrd _||_ Mnps | Age | 0.02884549 | 2.692835   | 4          | 0.6104689  | 0          | 0.3073013  |\n",
       "\n"
      ],
      "text/plain": [
       "                     rmsea      x2       df p.value   rmsea 2.5% rmsea 97.5%\n",
       "Irrd _||_ Mnps | Age 0.02884549 2.692835 4  0.6104689 0          0.3073013  "
      ]
     },
     "metadata": {},
     "output_type": "display_data"
    }
   ],
   "source": [
    "ciTest( \"Age\", \"Recurrence\", c( \"Irradiation\", \"Menopause\" ),\n",
    "data, type= \"cis.chisq\" )\n",
    "ciTest( \"Irradiation\", \"Menopause\", \"Age\", data, type=\"cis.chisq\" )"
   ]
  },
  {
   "cell_type": "code",
   "execution_count": 8,
   "id": "stupid-ranking",
   "metadata": {},
   "outputs": [
    {
     "data": {
      "text/html": [
       "<table>\n",
       "<thead><tr><th></th><th scope=col>rmsea</th><th scope=col>x2</th><th scope=col>df</th><th scope=col>p.value</th><th scope=col>rmsea 2.5%</th><th scope=col>rmsea 97.5%</th></tr></thead>\n",
       "<tbody>\n",
       "\t<tr><th scope=row>Age _||_ Rcrr | Irrd, Mnps</th><td>0.30947343  </td><td>104.110174  </td><td>14          </td><td>7.695273e-16</td><td>0.1637174   </td><td>0.4827959   </td></tr>\n",
       "\t<tr><th scope=row>Irrd _||_ Mnps | Age</th><td>0.02884549  </td><td>  2.692835  </td><td> 4          </td><td>6.104689e-01</td><td>0.0000000   </td><td>0.3073013   </td></tr>\n",
       "</tbody>\n",
       "</table>\n"
      ],
      "text/latex": [
       "\\begin{tabular}{r|llllll}\n",
       "  & rmsea & x2 & df & p.value & rmsea 2.5\\% & rmsea 97.5\\%\\\\\n",
       "\\hline\n",
       "\tAge \\_\\textbar{}\\textbar{}\\_ Rcrr \\textbar{} Irrd, Mnps & 0.30947343   & 104.110174   & 14           & 7.695273e-16 & 0.1637174    & 0.4827959   \\\\\n",
       "\tIrrd \\_\\textbar{}\\textbar{}\\_ Mnps \\textbar{} Age & 0.02884549   &   2.692835   &  4           & 6.104689e-01 & 0.0000000    & 0.3073013   \\\\\n",
       "\\end{tabular}\n"
      ],
      "text/markdown": [
       "\n",
       "| <!--/--> | rmsea | x2 | df | p.value | rmsea 2.5% | rmsea 97.5% |\n",
       "|---|---|---|---|---|---|---|\n",
       "| Age _||_ Rcrr | Irrd, Mnps | 0.30947343   | 104.110174   | 14           | 7.695273e-16 | 0.1637174    | 0.4827959    |\n",
       "| Irrd _||_ Mnps | Age | 0.02884549   |   2.692835   |  4           | 6.104689e-01 | 0.0000000    | 0.3073013    |\n",
       "\n"
      ],
      "text/plain": [
       "                           rmsea      x2         df p.value      rmsea 2.5%\n",
       "Age _||_ Rcrr | Irrd, Mnps 0.30947343 104.110174 14 7.695273e-16 0.1637174 \n",
       "Irrd _||_ Mnps | Age       0.02884549   2.692835  4 6.104689e-01 0.0000000 \n",
       "                           rmsea 97.5%\n",
       "Age _||_ Rcrr | Irrd, Mnps 0.4827959  \n",
       "Irrd _||_ Mnps | Age       0.3073013  "
      ]
     },
     "metadata": {},
     "output_type": "display_data"
    }
   ],
   "source": [
    "localTests( myDAG, data, type=\"cis.chisq\" )"
   ]
  },
  {
   "cell_type": "code",
   "execution_count": null,
   "id": "decreased-anime",
   "metadata": {},
   "outputs": [],
   "source": []
  },
  {
   "cell_type": "code",
   "execution_count": 9,
   "id": "promising-pipeline",
   "metadata": {},
   "outputs": [],
   "source": [
    "data <- read.csv( file=\"protein_signal.csv\", header=TRUE )"
   ]
  },
  {
   "cell_type": "code",
   "execution_count": 10,
   "id": "finnish-ordering",
   "metadata": {},
   "outputs": [],
   "source": [
    "model <- dagitty( 'dag {\n",
    "bb=\"-0.5,-0.5,0.5,0.5\"\n",
    "P38 [pos=\"-0.155,-0.141\"]\n",
    "PIP2 [pos=\"-0.337,0.063\"]\n",
    "PIP3 [pos=\"-0.278,-0.068\"]\n",
    "PKA [pos=\"-0.127,-0.200\"]\n",
    "PKC [pos=\"-0.111,-0.287\"]\n",
    "Erk [pos=\"-0.061,-0.001\"]\n",
    "Akt [pos=\"-0.115,0.052\"]\n",
    "Jnk [pos=\"-0.208,-0.149\"]\n",
    "Plcg [pos=\"-0.337,-0.177\"]\n",
    "Mek [pos=\"-0.063,-0.096\"]\n",
    "Raf [pos=\"-0.066,-0.204\"]\n",
    "PIP2 -> PKC [pos=\"-0.485,-0.379\"]\n",
    "PIP3 -> PIP2\n",
    "PIP3 -> Akt\n",
    "PIP3 -> Plcg\n",
    "PKA -> P38\n",
    "PKA -> Erk\n",
    "PKA -> Akt\n",
    "PKA -> Jnk\n",
    "PKA -> Mek\n",
    "PKA -> Raf\n",
    "PKC -> P38 [pos=\"-0.166,-0.227\"]\n",
    "PKC -> Jnk [pos=\"-0.188,-0.258\"]\n",
    "PKC -> Mek [pos=\"-0.021,-0.245\"]\n",
    "PKC -> Raf\n",
    "Plcg -> PIP2\n",
    "Plcg -> PKC [pos=\"-0.248,-0.271\"]\n",
    "Mek -> Erk\n",
    "Raf -> Mek\n",
    "}' )"
   ]
  },
  {
   "cell_type": "code",
   "execution_count": 11,
   "id": "together-latvia",
   "metadata": {},
   "outputs": [
    {
     "data": {
      "image/png": "[encoded data removed]",
      "text/plain": [
       "plot without title"
      ]
     },
     "metadata": {},
     "output_type": "display_data"
    }
   ],
   "source": [
    "plot(model)"
   ]
  },
  {
   "cell_type": "code",
   "execution_count": 12,
   "id": "unlike-lingerie",
   "metadata": {},
   "outputs": [
    {
     "name": "stdout",
     "output_type": "stream",
     "text": [
      "                                    estimate       p.value         2.5%\n",
      "Akt _||_ Erk | Mek, PKA         0.8970851604  0.000000e+00  0.963463790\n",
      "Akt _||_ Erk | PKA, PKC         0.8976677512  0.000000e+00  0.964436850\n",
      "Akt _||_ Erk | PIP2, PKA, Plcg  0.8969931314  0.000000e+00  0.963310055\n",
      "Akt _||_ Erk | PIP3, PKA        0.8979297031  0.000000e+00  0.964875186\n",
      "Akt _||_ Jnk | PKA, PKC        -0.0571097695  6.600962e-10 -0.075175525\n",
      "Akt _||_ Jnk | PIP2, PKA, Plcg -0.0667608395  5.140573e-13 -0.084802677\n",
      "Akt _||_ Jnk | PIP3, PKA       -0.0624895340  1.393854e-11 -0.080541934\n",
      "Akt _||_ Mek | PKA, PKC         0.0648078273  2.383684e-12  0.046719287\n",
      "Akt _||_ Mek | PIP2, PKA, Plcg  0.0603038930  6.970457e-11  0.042205815\n",
      "Akt _||_ Mek | PIP3, PKA        0.0617998837  2.328828e-11  0.043705410\n",
      "Akt _||_ P38 | PKA, PKC         0.2137041498 1.508917e-121  0.196341569\n",
      "Akt _||_ P38 | PIP2, PKA, Plcg  0.1616372551  1.965115e-69  0.143919205\n",
      "Akt _||_ P38 | PIP3, PKA        0.1655014964  9.050500e-73  0.147806559\n",
      "Akt _||_ PIP2 | PIP3           -0.0136374356  1.407006e-01 -0.031772289\n",
      "Akt _||_ PKC | PIP2, Plcg      -0.0034278992  7.111872e-01 -0.021570048\n",
      "Akt _||_ PKC | PIP3            -0.0039815169  6.671376e-01 -0.022122632\n",
      "Akt _||_ Plcg | PIP3           -0.0638592012  4.937006e-12 -0.081907264\n",
      "Akt _||_ Raf | PKA, PKC        -0.0235946248  1.080260e-02 -0.041720263\n",
      "Akt _||_ Raf | PIP2, PKA, Plcg -0.0196800065  3.351180e-02 -0.037810778\n",
      "Akt _||_ Raf | PIP3, PKA       -0.0233162749  1.177094e-02 -0.041442241\n",
      "Erk _||_ Jnk | PKA, PKC        -0.0190370631  3.973284e-02 -0.037167720\n",
      "Erk _||_ Jnk | Mek, PKA        -0.0236008250  1.078186e-02 -0.041726456\n",
      "Erk _||_ P38 | PKA, PKC         0.2352229982 8.164557e-148  0.218043301\n",
      "Erk _||_ P38 | Mek, PKA         0.1875178021  2.286637e-93  0.169962075\n",
      "Erk _||_ PIP2 | PKC            -0.0106795997  2.486485e-01 -0.028816730\n",
      "Erk _||_ PIP2 | Mek, PKA       -0.0173498184  6.090157e-02 -0.035482143\n",
      "Erk _||_ PIP3 | PIP2, Plcg      0.0430115261  3.340170e-06  0.024887458\n",
      "Erk _||_ PIP3 | PKC             0.0310118228  8.054193e-04  0.012876355\n",
      "Erk _||_ PIP3 | Mek, PKA        0.0007349409  9.367273e-01 -0.017408781\n",
      "Erk _||_ PKC | Mek, PKA        -0.0212918847  2.143877e-02 -0.039420153\n",
      "Erk _||_ Plcg | PKC            -0.0655456540  1.338120e-12 -0.083589237\n",
      "Erk _||_ Plcg | Mek, PKA       -0.0691058037  7.644257e-14 -0.087140372\n",
      "Erk _||_ Raf | Mek, PKA        -0.1036019493  2.880355e-29 -0.121518799\n",
      "Jnk _||_ Mek | PKA, PKC         0.0087265133  3.458812e-01 -0.009418468\n",
      "Jnk _||_ P38 | PKA, PKC         0.0321854183  5.057859e-04  0.014050133\n",
      "Jnk _||_ PIP2 | PKC             0.0131965556  1.539968e-01 -0.004947342\n",
      "Jnk _||_ PIP3 | PIP2, Plcg      0.0614569561  2.999791e-11  0.043361827\n",
      "Jnk _||_ PIP3 | PKC             0.0487141516  1.392775e-07  0.030598484\n",
      "Jnk _||_ Plcg | PKC            -0.0426640538  4.001450e-06 -0.060759791\n",
      "Jnk _||_ Raf | PKA, PKC        -0.0679855460  1.913157e-13 -0.086023242\n",
      "Mek _||_ P38 | PKA, PKC         0.1085003780  5.852406e-32  0.090535520\n",
      "Mek _||_ PIP2 | PKC             0.0431071653  3.173489e-06  0.024983993\n",
      "Mek _||_ PIP3 | PIP2, Plcg     -0.0122087025  1.872444e-01 -0.030345472\n",
      "Mek _||_ PIP3 | PKC            -0.0099681582  2.815780e-01 -0.028105789\n",
      "Mek _||_ Plcg | PKC            -0.0365465049  7.832827e-05 -0.054653012\n",
      "P38 _||_ PIP2 | PKC            -0.0370824934  6.138214e-05 -0.055188111\n",
      "P38 _||_ PIP3 | PIP2, Plcg      0.0356793835  1.154907e-04  0.017547253\n",
      "P38 _||_ PIP3 | PKC            -0.0015846976  8.640847e-01 -0.019726843\n",
      "P38 _||_ Plcg | PKC            -0.0601620129  7.693778e-11 -0.078219545\n",
      "P38 _||_ Raf | PKA, PKC        -0.0722846553  5.224399e-15 -0.090310106\n",
      "PIP2 _||_ PKA                   0.0109783861  2.356352e-01 -0.007164976\n",
      "PIP2 _||_ Raf | PKC             0.0470172755  3.725312e-07  0.028899216\n",
      "PIP3 _||_ PKA                   0.1242992653  1.628804e-41  0.106398171\n",
      "PIP3 _||_ PKC | PIP2, Plcg      0.0491058792  1.105999e-07  0.030990002\n",
      "PIP3 _||_ Raf | PKC             0.0298126545  1.276224e-03  0.011676257\n",
      "PIP3 _||_ Raf | PIP2, Plcg      0.0147883923  1.101614e-01 -0.003355998\n",
      "PKA _||_ PKC                    0.1506394654  1.997989e-60  0.132863400\n",
      "PKA _||_ Plcg                   0.0147671144  1.106438e-01 -0.003375725\n",
      "Plcg _||_ Raf | PKC             0.0595229433  1.217059e-10  0.041424974\n",
      "                                       97.5%\n",
      "Akt _||_ Erk | Mek, PKA         0.9750846669\n",
      "Akt _||_ Erk | PKA, PKC         0.9760253392\n",
      "Akt _||_ Erk | PIP2, PKA, Plcg  0.9749365408\n",
      "Akt _||_ Erk | PIP3, PKA        0.9764490934\n",
      "Akt _||_ Jnk | PKA, PKC        -0.0390067031\n",
      "Akt _||_ Jnk | PIP2, PKA, Plcg -0.0486755522\n",
      "Akt _||_ Jnk | PIP3, PKA       -0.0443963911\n",
      "Akt _||_ Mek | PKA, PKC         0.0828541553\n",
      "Akt _||_ Mek | PIP2, PKA, Plcg  0.0783626161\n",
      "Akt _||_ Mek | PIP3, PKA        0.0798540533\n",
      "Akt _||_ P38 | PKA, PKC         0.2309967871\n",
      "Akt _||_ P38 | PIP2, PKA, Plcg  0.1792682785\n",
      "Akt _||_ P38 | PIP3, PKA        0.1831090696\n",
      "Akt _||_ PIP2 | PIP3            0.0045063921\n",
      "Akt _||_ PKC | PIP2, Plcg       0.0147165062\n",
      "Akt _||_ PKC | PIP3             0.0141622189\n",
      "Akt _||_ Plcg | PIP3           -0.0457695295\n",
      "Akt _||_ Raf | PKA, PKC        -0.0054534693\n",
      "Akt _||_ Raf | PIP2, PKA, Plcg -0.0015362876\n",
      "Akt _||_ Raf | PIP3, PKA       -0.0051749741\n",
      "Erk _||_ Jnk | PKA, PKC        -0.0008938819\n",
      "Erk _||_ Jnk | Mek, PKA        -0.0054596728\n",
      "Erk _||_ P38 | PKA, PKC         0.2523594587\n",
      "Erk _||_ P38 | Mek, PKA         0.2049884262\n",
      "Erk _||_ PIP2 | PKC             0.0074645593\n",
      "Erk _||_ PIP2 | Mek, PKA        0.0007939216\n",
      "Erk _||_ PIP3 | PIP2, Plcg      0.0611073861\n",
      "Erk _||_ PIP3 | PKC             0.0491269139\n",
      "Erk _||_ PIP3 | Mek, PKA        0.0188781794\n",
      "Erk _||_ PKC | Mek, PKA        -0.0031496114\n",
      "Erk _||_ Plcg | PKC            -0.0474593949\n",
      "Erk _||_ Plcg | Mek, PKA       -0.0510263145\n",
      "Erk _||_ Raf | Mek, PKA        -0.0856197056\n",
      "Jnk _||_ Mek | PKA, PKC         0.0268657507\n",
      "Jnk _||_ P38 | PKA, PKC         0.0502995571\n",
      "Jnk _||_ PIP2 | PKC             0.0313317689\n",
      "Jnk _||_ PIP3 | PIP2, Plcg      0.0795119993\n",
      "Jnk _||_ PIP3 | PKC             0.0667979167\n",
      "Jnk _||_ Plcg | PKC            -0.0245403370\n",
      "Jnk _||_ Raf | PKA, PKC        -0.0499036325\n",
      "Mek _||_ P38 | PKA, PKC         0.1263972121\n",
      "Mek _||_ PIP2 | PKC             0.0612020704\n",
      "Mek _||_ PIP3 | PIP2, Plcg      0.0059361025\n",
      "Mek _||_ PIP3 | PKC             0.0081760331\n",
      "Mek _||_ Plcg | PKC            -0.0184160031\n",
      "P38 _||_ PIP2 | PKC            -0.0189525317\n",
      "P38 _||_ PIP3 | PIP2, Plcg      0.0537880840\n",
      "P38 _||_ PIP3 | PKC             0.0165584913\n",
      "P38 _||_ Plcg | PKC            -0.0420652232\n",
      "P38 _||_ Raf | PKA, PKC        -0.0542122957\n",
      "PIP2 _||_ PKA                   0.0291145243\n",
      "PIP2 _||_ Raf | PKC             0.0651045308\n",
      "PIP3 _||_ PKA                   0.1421246064\n",
      "PIP3 _||_ PKC | PIP2, Plcg      0.0671895980\n",
      "PIP3 _||_ Raf | PKC             0.0479294598\n",
      "PIP3 _||_ Raf | PIP2, Plcg      0.0329230513\n",
      "PKA _||_ PKC                    0.1683304918\n",
      "PKA _||_ Plcg                   0.0329002384\n",
      "Plcg _||_ Raf | PKC             0.0775820625\n"
     ]
    }
   ],
   "source": [
    "res <- localTests( x=model, data=data, type=\"cis\" )\n",
    "print( res )"
   ]
  },
  {
   "cell_type": "code",
   "execution_count": 13,
   "id": "exterior-douglas",
   "metadata": {},
   "outputs": [
    {
     "name": "stdout",
     "output_type": "stream",
     "text": [
      "                                estimate       p.value         2.5%\n",
      "Akt _||_ Erk | Mek, PKA     0.8970851604  0.000000e+00  0.963463790\n",
      "Akt _||_ Erk | PKA, PKC     0.8976677512  0.000000e+00  0.964436850\n",
      "Akt _||_ Erk | PIP3, PKA    0.8979297031  0.000000e+00  0.964875186\n",
      "Akt _||_ Jnk | PKA, PKC    -0.0571097695  6.600962e-10 -0.075175525\n",
      "Akt _||_ Jnk | PIP3, PKA   -0.0624895340  1.393854e-11 -0.080541934\n",
      "Akt _||_ Mek | PKA, PKC     0.0648078273  2.383684e-12  0.046719287\n",
      "Akt _||_ Mek | PIP3, PKA    0.0617998837  2.328828e-11  0.043705410\n",
      "Akt _||_ P38 | PKA, PKC     0.2137041498 1.508917e-121  0.196341569\n",
      "Akt _||_ P38 | PIP3, PKA    0.1655014964  9.050500e-73  0.147806559\n",
      "Akt _||_ PIP2 | PIP3       -0.0136374356  1.407006e-01 -0.031772289\n",
      "Akt _||_ PKC | PIP2, Plcg  -0.0034278992  7.111872e-01 -0.021570048\n",
      "Akt _||_ PKC | PIP3        -0.0039815169  6.671376e-01 -0.022122632\n",
      "Akt _||_ Plcg | PIP3       -0.0638592012  4.937006e-12 -0.081907264\n",
      "Akt _||_ Raf | PKA, PKC    -0.0235946248  1.080260e-02 -0.041720263\n",
      "Akt _||_ Raf | PIP3, PKA   -0.0233162749  1.177094e-02 -0.041442241\n",
      "Erk _||_ Jnk | PKA, PKC    -0.0190370631  3.973284e-02 -0.037167720\n",
      "Erk _||_ Jnk | Mek, PKA    -0.0236008250  1.078186e-02 -0.041726456\n",
      "Erk _||_ P38 | PKA, PKC     0.2352229982 8.164557e-148  0.218043301\n",
      "Erk _||_ P38 | Mek, PKA     0.1875178021  2.286637e-93  0.169962075\n",
      "Erk _||_ PIP2 | PKC        -0.0106795997  2.486485e-01 -0.028816730\n",
      "Erk _||_ PIP2 | Mek, PKA   -0.0173498184  6.090157e-02 -0.035482143\n",
      "Erk _||_ PIP3 | PIP2, Plcg  0.0430115261  3.340170e-06  0.024887458\n",
      "Erk _||_ PIP3 | PKC         0.0310118228  8.054193e-04  0.012876355\n",
      "Erk _||_ PIP3 | Mek, PKA    0.0007349409  9.367273e-01 -0.017408781\n",
      "Erk _||_ PKC | Mek, PKA    -0.0212918847  2.143877e-02 -0.039420153\n",
      "Erk _||_ Plcg | PKC        -0.0655456540  1.338120e-12 -0.083589237\n",
      "Erk _||_ Plcg | Mek, PKA   -0.0691058037  7.644257e-14 -0.087140372\n",
      "Erk _||_ Raf | Mek, PKA    -0.1036019493  2.880355e-29 -0.121518799\n",
      "Jnk _||_ Mek | PKA, PKC     0.0087265133  3.458812e-01 -0.009418468\n",
      "Jnk _||_ P38 | PKA, PKC     0.0321854183  5.057859e-04  0.014050133\n",
      "Jnk _||_ PIP2 | PKC         0.0131965556  1.539968e-01 -0.004947342\n",
      "Jnk _||_ PIP3 | PIP2, Plcg  0.0614569561  2.999791e-11  0.043361827\n",
      "Jnk _||_ PIP3 | PKC         0.0487141516  1.392775e-07  0.030598484\n",
      "Jnk _||_ Plcg | PKC        -0.0426640538  4.001450e-06 -0.060759791\n",
      "Jnk _||_ Raf | PKA, PKC    -0.0679855460  1.913157e-13 -0.086023242\n",
      "Mek _||_ P38 | PKA, PKC     0.1085003780  5.852406e-32  0.090535520\n",
      "Mek _||_ PIP2 | PKC         0.0431071653  3.173489e-06  0.024983993\n",
      "Mek _||_ PIP3 | PIP2, Plcg -0.0122087025  1.872444e-01 -0.030345472\n",
      "Mek _||_ PIP3 | PKC        -0.0099681582  2.815780e-01 -0.028105789\n",
      "Mek _||_ Plcg | PKC        -0.0365465049  7.832827e-05 -0.054653012\n",
      "P38 _||_ PIP2 | PKC        -0.0370824934  6.138214e-05 -0.055188111\n",
      "P38 _||_ PIP3 | PIP2, Plcg  0.0356793835  1.154907e-04  0.017547253\n",
      "P38 _||_ PIP3 | PKC        -0.0015846976  8.640847e-01 -0.019726843\n",
      "P38 _||_ Plcg | PKC        -0.0601620129  7.693778e-11 -0.078219545\n",
      "P38 _||_ Raf | PKA, PKC    -0.0722846553  5.224399e-15 -0.090310106\n",
      "PIP2 _||_ PKA               0.0109783861  2.356352e-01 -0.007164976\n",
      "PIP2 _||_ Raf | PKC         0.0470172755  3.725312e-07  0.028899216\n",
      "PIP3 _||_ PKA               0.1242992653  1.628804e-41  0.106398171\n",
      "PIP3 _||_ PKC | PIP2, Plcg  0.0491058792  1.105999e-07  0.030990002\n",
      "PIP3 _||_ Raf | PKC         0.0298126545  1.276224e-03  0.011676257\n",
      "PIP3 _||_ Raf | PIP2, Plcg  0.0147883923  1.101614e-01 -0.003355998\n",
      "PKA _||_ PKC                0.1506394654  1.997989e-60  0.132863400\n",
      "PKA _||_ Plcg               0.0147671144  1.106438e-01 -0.003375725\n",
      "Plcg _||_ Raf | PKC         0.0595229433  1.217059e-10  0.041424974\n",
      "                                   97.5%\n",
      "Akt _||_ Erk | Mek, PKA     0.9750846669\n",
      "Akt _||_ Erk | PKA, PKC     0.9760253392\n",
      "Akt _||_ Erk | PIP3, PKA    0.9764490934\n",
      "Akt _||_ Jnk | PKA, PKC    -0.0390067031\n",
      "Akt _||_ Jnk | PIP3, PKA   -0.0443963911\n",
      "Akt _||_ Mek | PKA, PKC     0.0828541553\n",
      "Akt _||_ Mek | PIP3, PKA    0.0798540533\n",
      "Akt _||_ P38 | PKA, PKC     0.2309967871\n",
      "Akt _||_ P38 | PIP3, PKA    0.1831090696\n",
      "Akt _||_ PIP2 | PIP3        0.0045063921\n",
      "Akt _||_ PKC | PIP2, Plcg   0.0147165062\n",
      "Akt _||_ PKC | PIP3         0.0141622189\n",
      "Akt _||_ Plcg | PIP3       -0.0457695295\n",
      "Akt _||_ Raf | PKA, PKC    -0.0054534693\n",
      "Akt _||_ Raf | PIP3, PKA   -0.0051749741\n",
      "Erk _||_ Jnk | PKA, PKC    -0.0008938819\n",
      "Erk _||_ Jnk | Mek, PKA    -0.0054596728\n",
      "Erk _||_ P38 | PKA, PKC     0.2523594587\n",
      "Erk _||_ P38 | Mek, PKA     0.2049884262\n",
      "Erk _||_ PIP2 | PKC         0.0074645593\n",
      "Erk _||_ PIP2 | Mek, PKA    0.0007939216\n",
      "Erk _||_ PIP3 | PIP2, Plcg  0.0611073861\n",
      "Erk _||_ PIP3 | PKC         0.0491269139\n",
      "Erk _||_ PIP3 | Mek, PKA    0.0188781794\n",
      "Erk _||_ PKC | Mek, PKA    -0.0031496114\n",
      "Erk _||_ Plcg | PKC        -0.0474593949\n",
      "Erk _||_ Plcg | Mek, PKA   -0.0510263145\n",
      "Erk _||_ Raf | Mek, PKA    -0.0856197056\n",
      "Jnk _||_ Mek | PKA, PKC     0.0268657507\n",
      "Jnk _||_ P38 | PKA, PKC     0.0502995571\n",
      "Jnk _||_ PIP2 | PKC         0.0313317689\n",
      "Jnk _||_ PIP3 | PIP2, Plcg  0.0795119993\n",
      "Jnk _||_ PIP3 | PKC         0.0667979167\n",
      "Jnk _||_ Plcg | PKC        -0.0245403370\n",
      "Jnk _||_ Raf | PKA, PKC    -0.0499036325\n",
      "Mek _||_ P38 | PKA, PKC     0.1263972121\n",
      "Mek _||_ PIP2 | PKC         0.0612020704\n",
      "Mek _||_ PIP3 | PIP2, Plcg  0.0059361025\n",
      "Mek _||_ PIP3 | PKC         0.0081760331\n",
      "Mek _||_ Plcg | PKC        -0.0184160031\n",
      "P38 _||_ PIP2 | PKC        -0.0189525317\n",
      "P38 _||_ PIP3 | PIP2, Plcg  0.0537880840\n",
      "P38 _||_ PIP3 | PKC         0.0165584913\n",
      "P38 _||_ Plcg | PKC        -0.0420652232\n",
      "P38 _||_ Raf | PKA, PKC    -0.0542122957\n",
      "PIP2 _||_ PKA               0.0291145243\n",
      "PIP2 _||_ Raf | PKC         0.0651045308\n",
      "PIP3 _||_ PKA               0.1421246064\n",
      "PIP3 _||_ PKC | PIP2, Plcg  0.0671895980\n",
      "PIP3 _||_ Raf | PKC         0.0479294598\n",
      "PIP3 _||_ Raf | PIP2, Plcg  0.0329230513\n",
      "PKA _||_ PKC                0.1683304918\n",
      "PKA _||_ Plcg               0.0329002384\n",
      "Plcg _||_ Raf | PKC         0.0775820625\n"
     ]
    }
   ],
   "source": [
    "res <- localTests( x=model, data=data,\n",
    "max.conditioning.variables=2 )\n",
    "print( res )"
   ]
  },
  {
   "cell_type": "code",
   "execution_count": 14,
   "id": "cognitive-associate",
   "metadata": {},
   "outputs": [],
   "source": [
    "res <- res[order( abs( res$estimate ) ),]"
   ]
  },
  {
   "cell_type": "code",
   "execution_count": 15,
   "id": "mysterious-tradition",
   "metadata": {},
   "outputs": [
    {
     "data": {
      "image/png": "[encoded data removed]",
      "text/plain": [
       "plot without title"
      ]
     },
     "metadata": {},
     "output_type": "display_data"
    }
   ],
   "source": [
    "plotLocalTestResults( tail( res, 20) )"
   ]
  },
  {
   "cell_type": "code",
   "execution_count": null,
   "id": "choice-drawing",
   "metadata": {},
   "outputs": [],
   "source": []
  },
  {
   "cell_type": "code",
   "execution_count": 16,
   "id": "sacred-hindu",
   "metadata": {},
   "outputs": [],
   "source": [
    "# X <- rlnorm( 500 )\n",
    "# par( font.main=1, cex.main=1, bty='l',\n",
    "# mfrow=c( 1, 2 ), pch=19, mar=c( 4, 4, 2, 1 ) )\n",
    "# qqnorm( X, main=\"Before log transformation\", cex=.5 )\n",
    "# qqnorm( log( X ), main=\"After log transformation\", cex=.5 )"
   ]
  },
  {
   "cell_type": "code",
   "execution_count": 17,
   "id": "genuine-plumbing",
   "metadata": {},
   "outputs": [],
   "source": [
    "# dataset <- as.matrix( read_excel( \"cd3cd28.xls\" ) )\n",
    "# d_flow <- as_flowFrame( dataset )\n",
    "# lgcl <- estimateLogicle( d_flow,\n",
    "# channels=colnames( d_flow))\n",
    "# d_trans <- exprs( transform( d_flow, lgcl ) )\n",
    "# par( font.main=1, cex.main=1, bty=\"l\",\n",
    "# mfrow=c( 1, 2 ), pch=19, mar=c( 4, 4, 2, 1 ) )\n",
    "# qqnorm( dataset[, 4], main=\"Before logicle transformation\", cex=.5 )\n",
    "# qqnorm( d_trans[, 4], main=\"After logicle transformation\", cex=.5 )"
   ]
  },
  {
   "cell_type": "code",
   "execution_count": 18,
   "id": "fifteen-sunset",
   "metadata": {},
   "outputs": [],
   "source": [
    "# localTests( myDAG, data, type=\"cis.loess\",\n",
    "# R=100, max.conditioning.variables=4 )"
   ]
  },
  {
   "cell_type": "code",
   "execution_count": null,
   "id": "frozen-print",
   "metadata": {},
   "outputs": [],
   "source": []
  },
  {
   "cell_type": "code",
   "execution_count": 19,
   "id": "painful-ensemble",
   "metadata": {},
   "outputs": [],
   "source": [
    "data <- read.csv( \"adult.csv\" )"
   ]
  },
  {
   "cell_type": "code",
   "execution_count": 20,
   "id": "pleasant-discussion",
   "metadata": {},
   "outputs": [
    {
     "data": {
      "text/html": [
       "<table>\n",
       "<thead><tr><th scope=col>Age</th><th scope=col>Education</th><th scope=col>MaritalStatus</th><th scope=col>Race</th><th scope=col>Sex</th><th scope=col>HoursPerWeek</th><th scope=col>Immigrant</th><th scope=col>Income</th></tr></thead>\n",
       "<tbody>\n",
       "\t<tr><td>35-49                                            </td><td>Academic-Degree                                  </td><td>Never-married                                    </td><td><span style=white-space:pre-wrap>White    </span></td><td><span style=white-space:pre-wrap>Male  </span>   </td><td>40                                               </td><td>no                                               </td><td>&lt;=50K                                         </td></tr>\n",
       "\t<tr><td>50-65                                                </td><td>Academic-Degree                                      </td><td><span style=white-space:pre-wrap>Is-Married   </span></td><td><span style=white-space:pre-wrap>White    </span>    </td><td><span style=white-space:pre-wrap>Male  </span>       </td><td>&lt;20                                               </td><td>no                                                   </td><td>&lt;=50K                                             </td></tr>\n",
       "\t<tr><td>35-49                                                  </td><td><span style=white-space:pre-wrap>HS-grad        </span></td><td><span style=white-space:pre-wrap>Was-Married  </span>  </td><td><span style=white-space:pre-wrap>White    </span>      </td><td><span style=white-space:pre-wrap>Male  </span>         </td><td>40                                                     </td><td>no                                                     </td><td>&lt;=50K                                               </td></tr>\n",
       "\t<tr><td>50-65                                                  </td><td><span style=white-space:pre-wrap>Non-HS-Grad    </span></td><td><span style=white-space:pre-wrap>Is-Married   </span>  </td><td>Non-White                                              </td><td><span style=white-space:pre-wrap>Male  </span>         </td><td>40                                                     </td><td>no                                                     </td><td>&lt;=50K                                               </td></tr>\n",
       "\t<tr><td>20-34                                                </td><td>Academic-Degree                                      </td><td><span style=white-space:pre-wrap>Is-Married   </span></td><td>Non-White                                            </td><td>Female                                               </td><td>40                                                   </td><td>yes                                                  </td><td>&lt;=50K                                             </td></tr>\n",
       "\t<tr><td>35-49                                                </td><td>Academic-Degree                                      </td><td><span style=white-space:pre-wrap>Is-Married   </span></td><td><span style=white-space:pre-wrap>White    </span>    </td><td>Female                                               </td><td>40                                                   </td><td>no                                                   </td><td>&lt;=50K                                             </td></tr>\n",
       "</tbody>\n",
       "</table>\n"
      ],
      "text/latex": [
       "\\begin{tabular}{r|llllllll}\n",
       " Age & Education & MaritalStatus & Race & Sex & HoursPerWeek & Immigrant & Income\\\\\n",
       "\\hline\n",
       "\t 35-49           & Academic-Degree & Never-married   & White           & Male            & 40              & no              & <=50K          \\\\\n",
       "\t 50-65           & Academic-Degree & Is-Married      & White           & Male            & <20             & no              & <=50K          \\\\\n",
       "\t 35-49           & HS-grad         & Was-Married     & White           & Male            & 40              & no              & <=50K          \\\\\n",
       "\t 50-65           & Non-HS-Grad     & Is-Married      & Non-White       & Male            & 40              & no              & <=50K          \\\\\n",
       "\t 20-34           & Academic-Degree & Is-Married      & Non-White       & Female          & 40              & yes             & <=50K          \\\\\n",
       "\t 35-49           & Academic-Degree & Is-Married      & White           & Female          & 40              & no              & <=50K          \\\\\n",
       "\\end{tabular}\n"
      ],
      "text/markdown": [
       "\n",
       "| Age | Education | MaritalStatus | Race | Sex | HoursPerWeek | Immigrant | Income |\n",
       "|---|---|---|---|---|---|---|---|\n",
       "| 35-49           | Academic-Degree | Never-married   | White           | Male            | 40              | no              | <=50K           |\n",
       "| 50-65           | Academic-Degree | Is-Married      | White           | Male            | <20             | no              | <=50K           |\n",
       "| 35-49           | HS-grad         | Was-Married     | White           | Male            | 40              | no              | <=50K           |\n",
       "| 50-65           | Non-HS-Grad     | Is-Married      | Non-White       | Male            | 40              | no              | <=50K           |\n",
       "| 20-34           | Academic-Degree | Is-Married      | Non-White       | Female          | 40              | yes             | <=50K           |\n",
       "| 35-49           | Academic-Degree | Is-Married      | White           | Female          | 40              | no              | <=50K           |\n",
       "\n"
      ],
      "text/plain": [
       "  Age   Education       MaritalStatus Race      Sex    HoursPerWeek Immigrant\n",
       "1 35-49 Academic-Degree Never-married White     Male   40           no       \n",
       "2 50-65 Academic-Degree Is-Married    White     Male   <20          no       \n",
       "3 35-49 HS-grad         Was-Married   White     Male   40           no       \n",
       "4 50-65 Non-HS-Grad     Is-Married    Non-White Male   40           no       \n",
       "5 20-34 Academic-Degree Is-Married    Non-White Female 40           yes      \n",
       "6 35-49 Academic-Degree Is-Married    White     Female 40           no       \n",
       "  Income\n",
       "1 <=50K \n",
       "2 <=50K \n",
       "3 <=50K \n",
       "4 <=50K \n",
       "5 <=50K \n",
       "6 <=50K "
      ]
     },
     "metadata": {},
     "output_type": "display_data"
    }
   ],
   "source": [
    "head(data)"
   ]
  },
  {
   "cell_type": "code",
   "execution_count": 21,
   "id": "binding-working",
   "metadata": {},
   "outputs": [],
   "source": [
    "data$Age <- ordered( data$Age,\n",
    "levels=c( \"<20\", \"20-34\", \"35-49\", \"50-65\", \">65\" ) )\n",
    "data$Education <- ordered(data$Education,\n",
    "levels=c( \"Non-HS-Grad\", \"HS-grad\",\n",
    "\"College-Associate\", \"Academic-Degree\" ) )\n",
    "data$HoursPerWeek <- ordered( data$HoursPerWeek,\n",
    "levels=c( \"<20\", \"20-39\", \"40\", \">40\" ) )\n",
    "data$Income <- ordered(data$Income,\n",
    "levels=c( \"<=50K\", \">50K\" ) )"
   ]
  },
  {
   "cell_type": "code",
   "execution_count": 22,
   "id": "extraordinary-founder",
   "metadata": {},
   "outputs": [
    {
     "data": {
      "text/html": [
       "<table>\n",
       "<thead><tr><th scope=col>Age</th><th scope=col>Education</th><th scope=col>MaritalStatus</th><th scope=col>Race</th><th scope=col>Sex</th><th scope=col>HoursPerWeek</th><th scope=col>Immigrant</th><th scope=col>Income</th></tr></thead>\n",
       "<tbody>\n",
       "\t<tr><td>35-49                                            </td><td>Academic-Degree                                  </td><td>Never-married                                    </td><td><span style=white-space:pre-wrap>White    </span></td><td><span style=white-space:pre-wrap>Male  </span>   </td><td>40                                               </td><td>no                                               </td><td>&lt;=50K                                         </td></tr>\n",
       "\t<tr><td>50-65                                                </td><td>Academic-Degree                                      </td><td><span style=white-space:pre-wrap>Is-Married   </span></td><td><span style=white-space:pre-wrap>White    </span>    </td><td><span style=white-space:pre-wrap>Male  </span>       </td><td>&lt;20                                               </td><td>no                                                   </td><td>&lt;=50K                                             </td></tr>\n",
       "\t<tr><td>35-49                                                  </td><td><span style=white-space:pre-wrap>HS-grad        </span></td><td><span style=white-space:pre-wrap>Was-Married  </span>  </td><td><span style=white-space:pre-wrap>White    </span>      </td><td><span style=white-space:pre-wrap>Male  </span>         </td><td>40                                                     </td><td>no                                                     </td><td>&lt;=50K                                               </td></tr>\n",
       "\t<tr><td>50-65                                                  </td><td><span style=white-space:pre-wrap>Non-HS-Grad    </span></td><td><span style=white-space:pre-wrap>Is-Married   </span>  </td><td>Non-White                                              </td><td><span style=white-space:pre-wrap>Male  </span>         </td><td>40                                                     </td><td>no                                                     </td><td>&lt;=50K                                               </td></tr>\n",
       "\t<tr><td>20-34                                                </td><td>Academic-Degree                                      </td><td><span style=white-space:pre-wrap>Is-Married   </span></td><td>Non-White                                            </td><td>Female                                               </td><td>40                                                   </td><td>yes                                                  </td><td>&lt;=50K                                             </td></tr>\n",
       "\t<tr><td>35-49                                                </td><td>Academic-Degree                                      </td><td><span style=white-space:pre-wrap>Is-Married   </span></td><td><span style=white-space:pre-wrap>White    </span>    </td><td>Female                                               </td><td>40                                                   </td><td>no                                                   </td><td>&lt;=50K                                             </td></tr>\n",
       "</tbody>\n",
       "</table>\n"
      ],
      "text/latex": [
       "\\begin{tabular}{r|llllllll}\n",
       " Age & Education & MaritalStatus & Race & Sex & HoursPerWeek & Immigrant & Income\\\\\n",
       "\\hline\n",
       "\t 35-49           & Academic-Degree & Never-married   & White           & Male            & 40              & no              & <=50K          \\\\\n",
       "\t 50-65           & Academic-Degree & Is-Married      & White           & Male            & <20             & no              & <=50K          \\\\\n",
       "\t 35-49           & HS-grad         & Was-Married     & White           & Male            & 40              & no              & <=50K          \\\\\n",
       "\t 50-65           & Non-HS-Grad     & Is-Married      & Non-White       & Male            & 40              & no              & <=50K          \\\\\n",
       "\t 20-34           & Academic-Degree & Is-Married      & Non-White       & Female          & 40              & yes             & <=50K          \\\\\n",
       "\t 35-49           & Academic-Degree & Is-Married      & White           & Female          & 40              & no              & <=50K          \\\\\n",
       "\\end{tabular}\n"
      ],
      "text/markdown": [
       "\n",
       "| Age | Education | MaritalStatus | Race | Sex | HoursPerWeek | Immigrant | Income |\n",
       "|---|---|---|---|---|---|---|---|\n",
       "| 35-49           | Academic-Degree | Never-married   | White           | Male            | 40              | no              | <=50K           |\n",
       "| 50-65           | Academic-Degree | Is-Married      | White           | Male            | <20             | no              | <=50K           |\n",
       "| 35-49           | HS-grad         | Was-Married     | White           | Male            | 40              | no              | <=50K           |\n",
       "| 50-65           | Non-HS-Grad     | Is-Married      | Non-White       | Male            | 40              | no              | <=50K           |\n",
       "| 20-34           | Academic-Degree | Is-Married      | Non-White       | Female          | 40              | yes             | <=50K           |\n",
       "| 35-49           | Academic-Degree | Is-Married      | White           | Female          | 40              | no              | <=50K           |\n",
       "\n"
      ],
      "text/plain": [
       "  Age   Education       MaritalStatus Race      Sex    HoursPerWeek Immigrant\n",
       "1 35-49 Academic-Degree Never-married White     Male   40           no       \n",
       "2 50-65 Academic-Degree Is-Married    White     Male   <20          no       \n",
       "3 35-49 HS-grad         Was-Married   White     Male   40           no       \n",
       "4 50-65 Non-HS-Grad     Is-Married    Non-White Male   40           no       \n",
       "5 20-34 Academic-Degree Is-Married    Non-White Female 40           yes      \n",
       "6 35-49 Academic-Degree Is-Married    White     Female 40           no       \n",
       "  Income\n",
       "1 <=50K \n",
       "2 <=50K \n",
       "3 <=50K \n",
       "4 <=50K \n",
       "5 <=50K \n",
       "6 <=50K "
      ]
     },
     "metadata": {},
     "output_type": "display_data"
    }
   ],
   "source": [
    "head(data)"
   ]
  },
  {
   "cell_type": "code",
   "execution_count": 23,
   "id": "polish-functionality",
   "metadata": {},
   "outputs": [],
   "source": [
    "data$Race <- as.integer( data$Race )\n",
    "data$Sex <- as.integer( data$Sex )\n",
    "data$Immigrant <- as.integer( data$Immigrant )"
   ]
  },
  {
   "cell_type": "code",
   "execution_count": 24,
   "id": "wrapped-relation",
   "metadata": {},
   "outputs": [
    {
     "data": {
      "text/html": [
       "<table>\n",
       "<thead><tr><th scope=col>Age</th><th scope=col>Education</th><th scope=col>MaritalStatus</th><th scope=col>Race</th><th scope=col>Sex</th><th scope=col>HoursPerWeek</th><th scope=col>Immigrant</th><th scope=col>Income</th></tr></thead>\n",
       "<tbody>\n",
       "\t<tr><td>35-49          </td><td>Academic-Degree</td><td>Never-married  </td><td>2              </td><td>2              </td><td>40             </td><td>1              </td><td>&lt;=50K       </td></tr>\n",
       "\t<tr><td>50-65                                                </td><td>Academic-Degree                                      </td><td><span style=white-space:pre-wrap>Is-Married   </span></td><td>2                                                    </td><td>2                                                    </td><td>&lt;20                                               </td><td>1                                                    </td><td>&lt;=50K                                             </td></tr>\n",
       "\t<tr><td>35-49                                                  </td><td><span style=white-space:pre-wrap>HS-grad        </span></td><td><span style=white-space:pre-wrap>Was-Married  </span>  </td><td>2                                                      </td><td>2                                                      </td><td>40                                                     </td><td>1                                                      </td><td>&lt;=50K                                               </td></tr>\n",
       "\t<tr><td>50-65                                                  </td><td><span style=white-space:pre-wrap>Non-HS-Grad    </span></td><td><span style=white-space:pre-wrap>Is-Married   </span>  </td><td>1                                                      </td><td>2                                                      </td><td>40                                                     </td><td>1                                                      </td><td>&lt;=50K                                               </td></tr>\n",
       "\t<tr><td>20-34                                                </td><td>Academic-Degree                                      </td><td><span style=white-space:pre-wrap>Is-Married   </span></td><td>1                                                    </td><td>1                                                    </td><td>40                                                   </td><td>2                                                    </td><td>&lt;=50K                                             </td></tr>\n",
       "\t<tr><td>35-49                                                </td><td>Academic-Degree                                      </td><td><span style=white-space:pre-wrap>Is-Married   </span></td><td>2                                                    </td><td>1                                                    </td><td>40                                                   </td><td>1                                                    </td><td>&lt;=50K                                             </td></tr>\n",
       "</tbody>\n",
       "</table>\n"
      ],
      "text/latex": [
       "\\begin{tabular}{r|llllllll}\n",
       " Age & Education & MaritalStatus & Race & Sex & HoursPerWeek & Immigrant & Income\\\\\n",
       "\\hline\n",
       "\t 35-49           & Academic-Degree & Never-married   & 2               & 2               & 40              & 1               & <=50K          \\\\\n",
       "\t 50-65           & Academic-Degree & Is-Married      & 2               & 2               & <20             & 1               & <=50K          \\\\\n",
       "\t 35-49           & HS-grad         & Was-Married     & 2               & 2               & 40              & 1               & <=50K          \\\\\n",
       "\t 50-65           & Non-HS-Grad     & Is-Married      & 1               & 2               & 40              & 1               & <=50K          \\\\\n",
       "\t 20-34           & Academic-Degree & Is-Married      & 1               & 1               & 40              & 2               & <=50K          \\\\\n",
       "\t 35-49           & Academic-Degree & Is-Married      & 2               & 1               & 40              & 1               & <=50K          \\\\\n",
       "\\end{tabular}\n"
      ],
      "text/markdown": [
       "\n",
       "| Age | Education | MaritalStatus | Race | Sex | HoursPerWeek | Immigrant | Income |\n",
       "|---|---|---|---|---|---|---|---|\n",
       "| 35-49           | Academic-Degree | Never-married   | 2               | 2               | 40              | 1               | <=50K           |\n",
       "| 50-65           | Academic-Degree | Is-Married      | 2               | 2               | <20             | 1               | <=50K           |\n",
       "| 35-49           | HS-grad         | Was-Married     | 2               | 2               | 40              | 1               | <=50K           |\n",
       "| 50-65           | Non-HS-Grad     | Is-Married      | 1               | 2               | 40              | 1               | <=50K           |\n",
       "| 20-34           | Academic-Degree | Is-Married      | 1               | 1               | 40              | 2               | <=50K           |\n",
       "| 35-49           | Academic-Degree | Is-Married      | 2               | 1               | 40              | 1               | <=50K           |\n",
       "\n"
      ],
      "text/plain": [
       "  Age   Education       MaritalStatus Race Sex HoursPerWeek Immigrant Income\n",
       "1 35-49 Academic-Degree Never-married 2    2   40           1         <=50K \n",
       "2 50-65 Academic-Degree Is-Married    2    2   <20          1         <=50K \n",
       "3 35-49 HS-grad         Was-Married   2    2   40           1         <=50K \n",
       "4 50-65 Non-HS-Grad     Is-Married    1    2   40           1         <=50K \n",
       "5 20-34 Academic-Degree Is-Married    1    1   40           2         <=50K \n",
       "6 35-49 Academic-Degree Is-Married    2    1   40           1         <=50K "
      ]
     },
     "metadata": {},
     "output_type": "display_data"
    }
   ],
   "source": [
    "head(data)"
   ]
  },
  {
   "cell_type": "code",
   "execution_count": 25,
   "id": "smaller-poultry",
   "metadata": {},
   "outputs": [],
   "source": [
    "levels(data$MaritalStatus) <- list(\n",
    "Married=\"Is-Married\",\n",
    "NotMarried=c( \"Was-Married\", \"Never-married\" ) )"
   ]
  },
  {
   "cell_type": "code",
   "execution_count": 26,
   "id": "double-mumbai",
   "metadata": {},
   "outputs": [
    {
     "data": {
      "text/html": [
       "<table>\n",
       "<thead><tr><th scope=col>Age</th><th scope=col>Education</th><th scope=col>MaritalStatus</th><th scope=col>Race</th><th scope=col>Sex</th><th scope=col>HoursPerWeek</th><th scope=col>Immigrant</th><th scope=col>Income</th></tr></thead>\n",
       "<tbody>\n",
       "\t<tr><td>35-49          </td><td>Academic-Degree</td><td>NotMarried     </td><td>2              </td><td>2              </td><td>40             </td><td>1              </td><td>&lt;=50K       </td></tr>\n",
       "\t<tr><td>50-65                                             </td><td>Academic-Degree                                   </td><td><span style=white-space:pre-wrap>Married   </span></td><td>2                                                 </td><td>2                                                 </td><td>&lt;20                                            </td><td>1                                                 </td><td>&lt;=50K                                          </td></tr>\n",
       "\t<tr><td>35-49                                                  </td><td><span style=white-space:pre-wrap>HS-grad        </span></td><td>NotMarried                                             </td><td>2                                                      </td><td>2                                                      </td><td>40                                                     </td><td>1                                                      </td><td>&lt;=50K                                               </td></tr>\n",
       "\t<tr><td>50-65                                                  </td><td><span style=white-space:pre-wrap>Non-HS-Grad    </span></td><td><span style=white-space:pre-wrap>Married   </span>     </td><td>1                                                      </td><td>2                                                      </td><td>40                                                     </td><td>1                                                      </td><td>&lt;=50K                                               </td></tr>\n",
       "\t<tr><td>20-34                                             </td><td>Academic-Degree                                   </td><td><span style=white-space:pre-wrap>Married   </span></td><td>1                                                 </td><td>1                                                 </td><td>40                                                </td><td>2                                                 </td><td>&lt;=50K                                          </td></tr>\n",
       "\t<tr><td>35-49                                             </td><td>Academic-Degree                                   </td><td><span style=white-space:pre-wrap>Married   </span></td><td>2                                                 </td><td>1                                                 </td><td>40                                                </td><td>1                                                 </td><td>&lt;=50K                                          </td></tr>\n",
       "</tbody>\n",
       "</table>\n"
      ],
      "text/latex": [
       "\\begin{tabular}{r|llllllll}\n",
       " Age & Education & MaritalStatus & Race & Sex & HoursPerWeek & Immigrant & Income\\\\\n",
       "\\hline\n",
       "\t 35-49           & Academic-Degree & NotMarried      & 2               & 2               & 40              & 1               & <=50K          \\\\\n",
       "\t 50-65           & Academic-Degree & Married         & 2               & 2               & <20             & 1               & <=50K          \\\\\n",
       "\t 35-49           & HS-grad         & NotMarried      & 2               & 2               & 40              & 1               & <=50K          \\\\\n",
       "\t 50-65           & Non-HS-Grad     & Married         & 1               & 2               & 40              & 1               & <=50K          \\\\\n",
       "\t 20-34           & Academic-Degree & Married         & 1               & 1               & 40              & 2               & <=50K          \\\\\n",
       "\t 35-49           & Academic-Degree & Married         & 2               & 1               & 40              & 1               & <=50K          \\\\\n",
       "\\end{tabular}\n"
      ],
      "text/markdown": [
       "\n",
       "| Age | Education | MaritalStatus | Race | Sex | HoursPerWeek | Immigrant | Income |\n",
       "|---|---|---|---|---|---|---|---|\n",
       "| 35-49           | Academic-Degree | NotMarried      | 2               | 2               | 40              | 1               | <=50K           |\n",
       "| 50-65           | Academic-Degree | Married         | 2               | 2               | <20             | 1               | <=50K           |\n",
       "| 35-49           | HS-grad         | NotMarried      | 2               | 2               | 40              | 1               | <=50K           |\n",
       "| 50-65           | Non-HS-Grad     | Married         | 1               | 2               | 40              | 1               | <=50K           |\n",
       "| 20-34           | Academic-Degree | Married         | 1               | 1               | 40              | 2               | <=50K           |\n",
       "| 35-49           | Academic-Degree | Married         | 2               | 1               | 40              | 1               | <=50K           |\n",
       "\n"
      ],
      "text/plain": [
       "  Age   Education       MaritalStatus Race Sex HoursPerWeek Immigrant Income\n",
       "1 35-49 Academic-Degree NotMarried    2    2   40           1         <=50K \n",
       "2 50-65 Academic-Degree Married       2    2   <20          1         <=50K \n",
       "3 35-49 HS-grad         NotMarried    2    2   40           1         <=50K \n",
       "4 50-65 Non-HS-Grad     Married       1    2   40           1         <=50K \n",
       "5 20-34 Academic-Degree Married       1    1   40           2         <=50K \n",
       "6 35-49 Academic-Degree Married       2    1   40           1         <=50K "
      ]
     },
     "metadata": {},
     "output_type": "display_data"
    }
   ],
   "source": [
    "head(data)"
   ]
  },
  {
   "cell_type": "code",
   "execution_count": 27,
   "id": "monetary-expert",
   "metadata": {},
   "outputs": [],
   "source": [
    "data$MaritalStatus <- as.integer( data$MaritalStatus )"
   ]
  },
  {
   "cell_type": "code",
   "execution_count": 28,
   "id": "decreased-interest",
   "metadata": {},
   "outputs": [
    {
     "data": {
      "text/html": [
       "<table>\n",
       "<thead><tr><th scope=col>Age</th><th scope=col>Education</th><th scope=col>MaritalStatus</th><th scope=col>Race</th><th scope=col>Sex</th><th scope=col>HoursPerWeek</th><th scope=col>Immigrant</th><th scope=col>Income</th></tr></thead>\n",
       "<tbody>\n",
       "\t<tr><td>35-49          </td><td>Academic-Degree</td><td>2              </td><td>2              </td><td>2              </td><td>40             </td><td>1              </td><td>&lt;=50K       </td></tr>\n",
       "\t<tr><td>50-65          </td><td>Academic-Degree</td><td>1              </td><td>2              </td><td>2              </td><td>&lt;20         </td><td>1              </td><td>&lt;=50K       </td></tr>\n",
       "\t<tr><td>35-49                                                  </td><td><span style=white-space:pre-wrap>HS-grad        </span></td><td>2                                                      </td><td>2                                                      </td><td>2                                                      </td><td>40                                                     </td><td>1                                                      </td><td>&lt;=50K                                               </td></tr>\n",
       "\t<tr><td>50-65                                                  </td><td><span style=white-space:pre-wrap>Non-HS-Grad    </span></td><td>1                                                      </td><td>1                                                      </td><td>2                                                      </td><td>40                                                     </td><td>1                                                      </td><td>&lt;=50K                                               </td></tr>\n",
       "\t<tr><td>20-34          </td><td>Academic-Degree</td><td>1              </td><td>1              </td><td>1              </td><td>40             </td><td>2              </td><td>&lt;=50K       </td></tr>\n",
       "\t<tr><td>35-49          </td><td>Academic-Degree</td><td>1              </td><td>2              </td><td>1              </td><td>40             </td><td>1              </td><td>&lt;=50K       </td></tr>\n",
       "</tbody>\n",
       "</table>\n"
      ],
      "text/latex": [
       "\\begin{tabular}{r|llllllll}\n",
       " Age & Education & MaritalStatus & Race & Sex & HoursPerWeek & Immigrant & Income\\\\\n",
       "\\hline\n",
       "\t 35-49           & Academic-Degree & 2               & 2               & 2               & 40              & 1               & <=50K          \\\\\n",
       "\t 50-65           & Academic-Degree & 1               & 2               & 2               & <20             & 1               & <=50K          \\\\\n",
       "\t 35-49           & HS-grad         & 2               & 2               & 2               & 40              & 1               & <=50K          \\\\\n",
       "\t 50-65           & Non-HS-Grad     & 1               & 1               & 2               & 40              & 1               & <=50K          \\\\\n",
       "\t 20-34           & Academic-Degree & 1               & 1               & 1               & 40              & 2               & <=50K          \\\\\n",
       "\t 35-49           & Academic-Degree & 1               & 2               & 1               & 40              & 1               & <=50K          \\\\\n",
       "\\end{tabular}\n"
      ],
      "text/markdown": [
       "\n",
       "| Age | Education | MaritalStatus | Race | Sex | HoursPerWeek | Immigrant | Income |\n",
       "|---|---|---|---|---|---|---|---|\n",
       "| 35-49           | Academic-Degree | 2               | 2               | 2               | 40              | 1               | <=50K           |\n",
       "| 50-65           | Academic-Degree | 1               | 2               | 2               | <20             | 1               | <=50K           |\n",
       "| 35-49           | HS-grad         | 2               | 2               | 2               | 40              | 1               | <=50K           |\n",
       "| 50-65           | Non-HS-Grad     | 1               | 1               | 2               | 40              | 1               | <=50K           |\n",
       "| 20-34           | Academic-Degree | 1               | 1               | 1               | 40              | 2               | <=50K           |\n",
       "| 35-49           | Academic-Degree | 1               | 2               | 1               | 40              | 1               | <=50K           |\n",
       "\n"
      ],
      "text/plain": [
       "  Age   Education       MaritalStatus Race Sex HoursPerWeek Immigrant Income\n",
       "1 35-49 Academic-Degree 2             2    2   40           1         <=50K \n",
       "2 50-65 Academic-Degree 1             2    2   <20          1         <=50K \n",
       "3 35-49 HS-grad         2             2    2   40           1         <=50K \n",
       "4 50-65 Non-HS-Grad     1             1    2   40           1         <=50K \n",
       "5 20-34 Academic-Degree 1             1    1   40           2         <=50K \n",
       "6 35-49 Academic-Degree 1             2    1   40           1         <=50K "
      ]
     },
     "metadata": {},
     "output_type": "display_data"
    }
   ],
   "source": [
    "head(data)"
   ]
  },
  {
   "cell_type": "code",
   "execution_count": 29,
   "id": "recovered-cuisine",
   "metadata": {},
   "outputs": [],
   "source": [
    "corr <- lavCor( data )"
   ]
  },
  {
   "cell_type": "code",
   "execution_count": 30,
   "id": "built-contract",
   "metadata": {},
   "outputs": [
    {
     "data": {
      "text/html": [
       "<table>\n",
       "<thead><tr><th></th><th scope=col>Age</th><th scope=col>Education</th><th scope=col>MaritalStatus</th><th scope=col>Race</th><th scope=col>Sex</th><th scope=col>HoursPerWeek</th><th scope=col>Immigrant</th><th scope=col>Income</th></tr></thead>\n",
       "<tbody>\n",
       "\t<tr><th scope=row>Age</th><td> 1.00000000 </td><td> 0.084321379</td><td>-0.31736534 </td><td> 0.02356824 </td><td> 0.086984738</td><td> 0.14034588 </td><td>-0.013766498</td><td> 0.35164879 </td></tr>\n",
       "\t<tr><th scope=row>Education</th><td> 0.08432138 </td><td> 1.000000000</td><td>-0.07467899 </td><td> 0.05443497 </td><td> 0.001153065</td><td> 0.19738384 </td><td>-0.088518287</td><td> 0.46504760 </td></tr>\n",
       "\t<tr><th scope=row>MaritalStatus</th><td>-0.31736534 </td><td>-0.074678991</td><td> 1.00000000 </td><td>-0.09707553 </td><td>-0.426348288</td><td>-0.25981461 </td><td>-0.030453015</td><td>-0.55990128 </td></tr>\n",
       "\t<tr><th scope=row>Race</th><td> 0.02356824 </td><td> 0.054434972</td><td>-0.09707553 </td><td> 1.00000000 </td><td> 0.105148399</td><td> 0.08816635 </td><td>-0.192114623</td><td> 0.12741911 </td></tr>\n",
       "\t<tr><th scope=row>Sex</th><td> 0.08698474 </td><td> 0.001153065</td><td>-0.42634829 </td><td> 0.10514840 </td><td> 1.000000000</td><td> 0.27904865 </td><td> 0.003005682</td><td> 0.32034302 </td></tr>\n",
       "\t<tr><th scope=row>HoursPerWeek</th><td> 0.14034588 </td><td> 0.197383839</td><td>-0.25981461 </td><td> 0.08816635 </td><td> 0.279048646</td><td> 1.00000000 </td><td>-0.028055483</td><td> 0.39574713 </td></tr>\n",
       "\t<tr><th scope=row>Immigrant</th><td>-0.01376650 </td><td>-0.088518287</td><td>-0.03045302 </td><td>-0.19211462 </td><td> 0.003005682</td><td>-0.02805548 </td><td> 1.000000000</td><td>-0.05828284 </td></tr>\n",
       "\t<tr><th scope=row>Income</th><td> 0.35164879 </td><td> 0.465047602</td><td>-0.55990128 </td><td> 0.12741911 </td><td> 0.320343017</td><td> 0.39574713 </td><td>-0.058282845</td><td> 1.00000000 </td></tr>\n",
       "</tbody>\n",
       "</table>\n"
      ],
      "text/latex": [
       "\\begin{tabular}{r|llllllll}\n",
       "  & Age & Education & MaritalStatus & Race & Sex & HoursPerWeek & Immigrant & Income\\\\\n",
       "\\hline\n",
       "\tAge &  1.00000000  &  0.084321379 & -0.31736534  &  0.02356824  &  0.086984738 &  0.14034588  & -0.013766498 &  0.35164879 \\\\\n",
       "\tEducation &  0.08432138  &  1.000000000 & -0.07467899  &  0.05443497  &  0.001153065 &  0.19738384  & -0.088518287 &  0.46504760 \\\\\n",
       "\tMaritalStatus & -0.31736534  & -0.074678991 &  1.00000000  & -0.09707553  & -0.426348288 & -0.25981461  & -0.030453015 & -0.55990128 \\\\\n",
       "\tRace &  0.02356824  &  0.054434972 & -0.09707553  &  1.00000000  &  0.105148399 &  0.08816635  & -0.192114623 &  0.12741911 \\\\\n",
       "\tSex &  0.08698474  &  0.001153065 & -0.42634829  &  0.10514840  &  1.000000000 &  0.27904865  &  0.003005682 &  0.32034302 \\\\\n",
       "\tHoursPerWeek &  0.14034588  &  0.197383839 & -0.25981461  &  0.08816635  &  0.279048646 &  1.00000000  & -0.028055483 &  0.39574713 \\\\\n",
       "\tImmigrant & -0.01376650  & -0.088518287 & -0.03045302  & -0.19211462  &  0.003005682 & -0.02805548  &  1.000000000 & -0.05828284 \\\\\n",
       "\tIncome &  0.35164879  &  0.465047602 & -0.55990128  &  0.12741911  &  0.320343017 &  0.39574713  & -0.058282845 &  1.00000000 \\\\\n",
       "\\end{tabular}\n"
      ],
      "text/markdown": [
       "\n",
       "| <!--/--> | Age | Education | MaritalStatus | Race | Sex | HoursPerWeek | Immigrant | Income |\n",
       "|---|---|---|---|---|---|---|---|---|\n",
       "| Age |  1.00000000  |  0.084321379 | -0.31736534  |  0.02356824  |  0.086984738 |  0.14034588  | -0.013766498 |  0.35164879  |\n",
       "| Education |  0.08432138  |  1.000000000 | -0.07467899  |  0.05443497  |  0.001153065 |  0.19738384  | -0.088518287 |  0.46504760  |\n",
       "| MaritalStatus | -0.31736534  | -0.074678991 |  1.00000000  | -0.09707553  | -0.426348288 | -0.25981461  | -0.030453015 | -0.55990128  |\n",
       "| Race |  0.02356824  |  0.054434972 | -0.09707553  |  1.00000000  |  0.105148399 |  0.08816635  | -0.192114623 |  0.12741911  |\n",
       "| Sex |  0.08698474  |  0.001153065 | -0.42634829  |  0.10514840  |  1.000000000 |  0.27904865  |  0.003005682 |  0.32034302  |\n",
       "| HoursPerWeek |  0.14034588  |  0.197383839 | -0.25981461  |  0.08816635  |  0.279048646 |  1.00000000  | -0.028055483 |  0.39574713  |\n",
       "| Immigrant | -0.01376650  | -0.088518287 | -0.03045302  | -0.19211462  |  0.003005682 | -0.02805548  |  1.000000000 | -0.05828284  |\n",
       "| Income |  0.35164879  |  0.465047602 | -0.55990128  |  0.12741911  |  0.320343017 |  0.39574713  | -0.058282845 |  1.00000000  |\n",
       "\n"
      ],
      "text/plain": [
       "              Age         Education    MaritalStatus Race        Sex         \n",
       "Age            1.00000000  0.084321379 -0.31736534    0.02356824  0.086984738\n",
       "Education      0.08432138  1.000000000 -0.07467899    0.05443497  0.001153065\n",
       "MaritalStatus -0.31736534 -0.074678991  1.00000000   -0.09707553 -0.426348288\n",
       "Race           0.02356824  0.054434972 -0.09707553    1.00000000  0.105148399\n",
       "Sex            0.08698474  0.001153065 -0.42634829    0.10514840  1.000000000\n",
       "HoursPerWeek   0.14034588  0.197383839 -0.25981461    0.08816635  0.279048646\n",
       "Immigrant     -0.01376650 -0.088518287 -0.03045302   -0.19211462  0.003005682\n",
       "Income         0.35164879  0.465047602 -0.55990128    0.12741911  0.320343017\n",
       "              HoursPerWeek Immigrant    Income     \n",
       "Age            0.14034588  -0.013766498  0.35164879\n",
       "Education      0.19738384  -0.088518287  0.46504760\n",
       "MaritalStatus -0.25981461  -0.030453015 -0.55990128\n",
       "Race           0.08816635  -0.192114623  0.12741911\n",
       "Sex            0.27904865   0.003005682  0.32034302\n",
       "HoursPerWeek   1.00000000  -0.028055483  0.39574713\n",
       "Immigrant     -0.02805548   1.000000000 -0.05828284\n",
       "Income         0.39574713  -0.058282845  1.00000000"
      ]
     },
     "metadata": {},
     "output_type": "display_data"
    }
   ],
   "source": [
    "corr"
   ]
  },
  {
   "cell_type": "code",
   "execution_count": 31,
   "id": "grave-hampton",
   "metadata": {},
   "outputs": [],
   "source": [
    "model <- dagitty( 'dag {\n",
    "bb=\"-4.6,-3.8,3.7,3.7\"\n",
    "Age [pos=\"-2,-2.6\"]\n",
    "Education [pos=\"1.4,0.5\"]\n",
    "HoursPerWeek [pos=\"-0.6,-0.1\"]\n",
    "Immigrant [pos=\"1.1,-2.6\"]\n",
    "Income [pos=\"-1.6,2.7\"]\n",
    "MaritalStatus [pos=\"-3.7,-2.6\"]\n",
    "Race [pos=\"3.0,-2.5\"]\n",
    "Sex [pos=\"-0.5,-2.6\"]\n",
    "Age -> { Education HoursPerWeek Income MaritalStatus }\n",
    "Education -> Income\n",
    "HoursPerWeek -> Income\n",
    "Immigrant -> { Education HoursPerWeek }\n",
    "Immigrant <-> Race\n",
    "MaritalStatus -> Income\n",
    "Race -> Education\n",
    "Sex -> { Education HoursPerWeek }\n",
    "}' )"
   ]
  },
  {
   "cell_type": "code",
   "execution_count": 32,
   "id": "recreational-simpson",
   "metadata": {},
   "outputs": [
    {
     "data": {
      "image/png": "[encoded data removed]",
      "text/plain": [
       "plot without title"
      ]
     },
     "metadata": {},
     "output_type": "display_data"
    }
   ],
   "source": [
    "plot(model)"
   ]
  },
  {
   "cell_type": "code",
   "execution_count": 33,
   "id": "unknown-macedonia",
   "metadata": {},
   "outputs": [
    {
     "data": {
      "text/html": [
       "<table>\n",
       "<thead><tr><th></th><th scope=col>estimate</th><th scope=col>p.value</th><th scope=col>2.5%</th><th scope=col>97.5%</th></tr></thead>\n",
       "<tbody>\n",
       "\t<tr><th scope=row>Age _||_ Immg</th><td>-0.013766498 </td><td> 1.680764e-02</td><td>-0.025048117 </td><td>-0.002481374 </td></tr>\n",
       "\t<tr><th scope=row>Age _||_ Race</th><td> 0.023568238 </td><td> 4.245434e-05</td><td> 0.012285996 </td><td> 0.034844484 </td></tr>\n",
       "\t<tr><th scope=row>Age _||_ Sex</th><td> 0.086984738 </td><td> 8.257393e-52</td><td> 0.075773780 </td><td> 0.098174484 </td></tr>\n",
       "\t<tr><th scope=row>Edct _||_ HrPW | Age, Immg, Sex</th><td> 0.195438303 </td><td>4.833065e-259</td><td> 0.184573763 </td><td> 0.206294661 </td></tr>\n",
       "\t<tr><th scope=row>Edct _||_ MrtS | Age</th><td>-0.050711171 </td><td> 1.206584e-18</td><td>-0.061961468 </td><td>-0.039448057 </td></tr>\n",
       "\t<tr><th scope=row>HrPW _||_ MrtS | Age</th><td>-0.229278589 </td><td> 0.000000e+00</td><td>-0.239997517 </td><td>-0.218592229 </td></tr>\n",
       "\t<tr><th scope=row>HrPW _||_ Race | Immg</th><td> 0.084380882 </td><td> 7.631673e-49</td><td> 0.073164999 </td><td> 0.095576096 </td></tr>\n",
       "\t<tr><th scope=row>Immg _||_ Incm | Age, Edct, HrPW</th><td>-0.015910400 </td><td> 5.724627e-03</td><td>-0.027191590 </td><td>-0.004625160 </td></tr>\n",
       "\t<tr><th scope=row>Immg _||_ MrtS</th><td>-0.030453015 </td><td> 1.221746e-07</td><td>-0.041724194 </td><td>-0.019174096 </td></tr>\n",
       "\t<tr><th scope=row>Immg _||_ Sex</th><td> 0.003005682 </td><td> 6.016852e-01</td><td>-0.008280109 </td><td> 0.014290707 </td></tr>\n",
       "\t<tr><th scope=row>Incm _||_ Race | Age, Edct, Immg, Sex</th><td> 0.082951786 </td><td> 2.987383e-47</td><td> 0.071732812 </td><td> 0.094150394 </td></tr>\n",
       "\t<tr><th scope=row>Incm _||_ Race | Age, Edct, HrPW</th><td> 0.096510394 </td><td> 1.999275e-63</td><td> 0.085317555 </td><td> 0.107680148 </td></tr>\n",
       "\t<tr><th scope=row>Incm _||_ Sex | Age, Edct, HrPW</th><td> 0.290434219 </td><td> 0.000000e+00</td><td> 0.280184294 </td><td> 0.300903945 </td></tr>\n",
       "\t<tr><th scope=row>MrtS _||_ Race</th><td>-0.097075533 </td><td> 3.687141e-64</td><td>-0.108243453 </td><td>-0.085884426 </td></tr>\n",
       "\t<tr><th scope=row>MrtS _||_ Sex</th><td>-0.426348288 </td><td> 0.000000e+00</td><td>-0.436663708 </td><td>-0.417969404 </td></tr>\n",
       "\t<tr><th scope=row>Race _||_ Sex</th><td> 0.105148399 </td><td> 4.931086e-75</td><td> 0.093974894 </td><td> 0.116297330 </td></tr>\n",
       "</tbody>\n",
       "</table>\n"
      ],
      "text/latex": [
       "\\begin{tabular}{r|llll}\n",
       "  & estimate & p.value & 2.5\\% & 97.5\\%\\\\\n",
       "\\hline\n",
       "\tAge \\_\\textbar{}\\textbar{}\\_ Immg & -0.013766498  &  1.680764e-02 & -0.025048117  & -0.002481374 \\\\\n",
       "\tAge \\_\\textbar{}\\textbar{}\\_ Race &  0.023568238  &  4.245434e-05 &  0.012285996  &  0.034844484 \\\\\n",
       "\tAge \\_\\textbar{}\\textbar{}\\_ Sex &  0.086984738  &  8.257393e-52 &  0.075773780  &  0.098174484 \\\\\n",
       "\tEdct \\_\\textbar{}\\textbar{}\\_ HrPW \\textbar{} Age, Immg, Sex &  0.195438303  & 4.833065e-259 &  0.184573763  &  0.206294661 \\\\\n",
       "\tEdct \\_\\textbar{}\\textbar{}\\_ MrtS \\textbar{} Age & -0.050711171  &  1.206584e-18 & -0.061961468  & -0.039448057 \\\\\n",
       "\tHrPW \\_\\textbar{}\\textbar{}\\_ MrtS \\textbar{} Age & -0.229278589  &  0.000000e+00 & -0.239997517  & -0.218592229 \\\\\n",
       "\tHrPW \\_\\textbar{}\\textbar{}\\_ Race \\textbar{} Immg &  0.084380882  &  7.631673e-49 &  0.073164999  &  0.095576096 \\\\\n",
       "\tImmg \\_\\textbar{}\\textbar{}\\_ Incm \\textbar{} Age, Edct, HrPW & -0.015910400  &  5.724627e-03 & -0.027191590  & -0.004625160 \\\\\n",
       "\tImmg \\_\\textbar{}\\textbar{}\\_ MrtS & -0.030453015  &  1.221746e-07 & -0.041724194  & -0.019174096 \\\\\n",
       "\tImmg \\_\\textbar{}\\textbar{}\\_ Sex &  0.003005682  &  6.016852e-01 & -0.008280109  &  0.014290707 \\\\\n",
       "\tIncm \\_\\textbar{}\\textbar{}\\_ Race \\textbar{} Age, Edct, Immg, Sex &  0.082951786  &  2.987383e-47 &  0.071732812  &  0.094150394 \\\\\n",
       "\tIncm \\_\\textbar{}\\textbar{}\\_ Race \\textbar{} Age, Edct, HrPW &  0.096510394  &  1.999275e-63 &  0.085317555  &  0.107680148 \\\\\n",
       "\tIncm \\_\\textbar{}\\textbar{}\\_ Sex \\textbar{} Age, Edct, HrPW &  0.290434219  &  0.000000e+00 &  0.280184294  &  0.300903945 \\\\\n",
       "\tMrtS \\_\\textbar{}\\textbar{}\\_ Race & -0.097075533  &  3.687141e-64 & -0.108243453  & -0.085884426 \\\\\n",
       "\tMrtS \\_\\textbar{}\\textbar{}\\_ Sex & -0.426348288  &  0.000000e+00 & -0.436663708  & -0.417969404 \\\\\n",
       "\tRace \\_\\textbar{}\\textbar{}\\_ Sex &  0.105148399  &  4.931086e-75 &  0.093974894  &  0.116297330 \\\\\n",
       "\\end{tabular}\n"
      ],
      "text/markdown": [
       "\n",
       "| <!--/--> | estimate | p.value | 2.5% | 97.5% |\n",
       "|---|---|---|---|---|\n",
       "| Age _||_ Immg | -0.013766498  |  1.680764e-02 | -0.025048117  | -0.002481374  |\n",
       "| Age _||_ Race |  0.023568238  |  4.245434e-05 |  0.012285996  |  0.034844484  |\n",
       "| Age _||_ Sex |  0.086984738  |  8.257393e-52 |  0.075773780  |  0.098174484  |\n",
       "| Edct _||_ HrPW | Age, Immg, Sex |  0.195438303  | 4.833065e-259 |  0.184573763  |  0.206294661  |\n",
       "| Edct _||_ MrtS | Age | -0.050711171  |  1.206584e-18 | -0.061961468  | -0.039448057  |\n",
       "| HrPW _||_ MrtS | Age | -0.229278589  |  0.000000e+00 | -0.239997517  | -0.218592229  |\n",
       "| HrPW _||_ Race | Immg |  0.084380882  |  7.631673e-49 |  0.073164999  |  0.095576096  |\n",
       "| Immg _||_ Incm | Age, Edct, HrPW | -0.015910400  |  5.724627e-03 | -0.027191590  | -0.004625160  |\n",
       "| Immg _||_ MrtS | -0.030453015  |  1.221746e-07 | -0.041724194  | -0.019174096  |\n",
       "| Immg _||_ Sex |  0.003005682  |  6.016852e-01 | -0.008280109  |  0.014290707  |\n",
       "| Incm _||_ Race | Age, Edct, Immg, Sex |  0.082951786  |  2.987383e-47 |  0.071732812  |  0.094150394  |\n",
       "| Incm _||_ Race | Age, Edct, HrPW |  0.096510394  |  1.999275e-63 |  0.085317555  |  0.107680148  |\n",
       "| Incm _||_ Sex | Age, Edct, HrPW |  0.290434219  |  0.000000e+00 |  0.280184294  |  0.300903945  |\n",
       "| MrtS _||_ Race | -0.097075533  |  3.687141e-64 | -0.108243453  | -0.085884426  |\n",
       "| MrtS _||_ Sex | -0.426348288  |  0.000000e+00 | -0.436663708  | -0.417969404  |\n",
       "| Race _||_ Sex |  0.105148399  |  4.931086e-75 |  0.093974894  |  0.116297330  |\n",
       "\n"
      ],
      "text/plain": [
       "                                      estimate     p.value       2.5%        \n",
       "Age _||_ Immg                         -0.013766498  1.680764e-02 -0.025048117\n",
       "Age _||_ Race                          0.023568238  4.245434e-05  0.012285996\n",
       "Age _||_ Sex                           0.086984738  8.257393e-52  0.075773780\n",
       "Edct _||_ HrPW | Age, Immg, Sex        0.195438303 4.833065e-259  0.184573763\n",
       "Edct _||_ MrtS | Age                  -0.050711171  1.206584e-18 -0.061961468\n",
       "HrPW _||_ MrtS | Age                  -0.229278589  0.000000e+00 -0.239997517\n",
       "HrPW _||_ Race | Immg                  0.084380882  7.631673e-49  0.073164999\n",
       "Immg _||_ Incm | Age, Edct, HrPW      -0.015910400  5.724627e-03 -0.027191590\n",
       "Immg _||_ MrtS                        -0.030453015  1.221746e-07 -0.041724194\n",
       "Immg _||_ Sex                          0.003005682  6.016852e-01 -0.008280109\n",
       "Incm _||_ Race | Age, Edct, Immg, Sex  0.082951786  2.987383e-47  0.071732812\n",
       "Incm _||_ Race | Age, Edct, HrPW       0.096510394  1.999275e-63  0.085317555\n",
       "Incm _||_ Sex | Age, Edct, HrPW        0.290434219  0.000000e+00  0.280184294\n",
       "MrtS _||_ Race                        -0.097075533  3.687141e-64 -0.108243453\n",
       "MrtS _||_ Sex                         -0.426348288  0.000000e+00 -0.436663708\n",
       "Race _||_ Sex                          0.105148399  4.931086e-75  0.093974894\n",
       "                                      97.5%       \n",
       "Age _||_ Immg                         -0.002481374\n",
       "Age _||_ Race                          0.034844484\n",
       "Age _||_ Sex                           0.098174484\n",
       "Edct _||_ HrPW | Age, Immg, Sex        0.206294661\n",
       "Edct _||_ MrtS | Age                  -0.039448057\n",
       "HrPW _||_ MrtS | Age                  -0.218592229\n",
       "HrPW _||_ Race | Immg                  0.095576096\n",
       "Immg _||_ Incm | Age, Edct, HrPW      -0.004625160\n",
       "Immg _||_ MrtS                        -0.019174096\n",
       "Immg _||_ Sex                          0.014290707\n",
       "Incm _||_ Race | Age, Edct, Immg, Sex  0.094150394\n",
       "Incm _||_ Race | Age, Edct, HrPW       0.107680148\n",
       "Incm _||_ Sex | Age, Edct, HrPW        0.300903945\n",
       "MrtS _||_ Race                        -0.085884426\n",
       "MrtS _||_ Sex                         -0.417969404\n",
       "Race _||_ Sex                          0.116297330"
      ]
     },
     "metadata": {},
     "output_type": "display_data"
    }
   ],
   "source": [
    "localTests( model, sample.cov=corr, sample.nobs=nrow( data ) )"
   ]
  },
  {
   "cell_type": "code",
   "execution_count": 34,
   "id": "vocal-intervention",
   "metadata": {},
   "outputs": [
    {
     "data": {
      "text/html": [
       "<table>\n",
       "<thead><tr><th></th><th scope=col>estimate</th><th scope=col>p.value</th><th scope=col>2.5%</th><th scope=col>97.5%</th></tr></thead>\n",
       "<tbody>\n",
       "\t<tr><th scope=row>Age _||_ Immg</th><td>-0.013766498</td><td>1.680764e-02</td><td>-0.025048117</td><td>-0.002481374</td></tr>\n",
       "\t<tr><th scope=row>Age _||_ Race</th><td> 0.023568238</td><td>4.245434e-05</td><td> 0.012285996</td><td> 0.034844484</td></tr>\n",
       "\t<tr><th scope=row>Age _||_ Sex</th><td> 0.086984738</td><td>8.257393e-52</td><td> 0.075773780</td><td> 0.098174484</td></tr>\n",
       "\t<tr><th scope=row>Edct _||_ MrtS | Age</th><td>-0.050711171</td><td>1.206584e-18</td><td>-0.061961468</td><td>-0.039448057</td></tr>\n",
       "\t<tr><th scope=row>HrPW _||_ MrtS | Age</th><td>-0.229278589</td><td>0.000000e+00</td><td>-0.239997517</td><td>-0.218592229</td></tr>\n",
       "\t<tr><th scope=row>HrPW _||_ Race | Immg</th><td> 0.084380882</td><td>7.631673e-49</td><td> 0.073164999</td><td> 0.095576096</td></tr>\n",
       "\t<tr><th scope=row>Immg _||_ MrtS</th><td>-0.030453015</td><td>1.221746e-07</td><td>-0.041724194</td><td>-0.019174096</td></tr>\n",
       "\t<tr><th scope=row>Immg _||_ Sex</th><td> 0.003005682</td><td>6.016852e-01</td><td>-0.008280109</td><td> 0.014290707</td></tr>\n",
       "\t<tr><th scope=row>MrtS _||_ Race</th><td>-0.097075533</td><td>3.687141e-64</td><td>-0.108243453</td><td>-0.085884426</td></tr>\n",
       "\t<tr><th scope=row>MrtS _||_ Sex</th><td>-0.426348288</td><td>0.000000e+00</td><td>-0.436663708</td><td>-0.417969404</td></tr>\n",
       "\t<tr><th scope=row>Race _||_ Sex</th><td> 0.105148399</td><td>4.931086e-75</td><td> 0.093974894</td><td> 0.116297330</td></tr>\n",
       "</tbody>\n",
       "</table>\n"
      ],
      "text/latex": [
       "\\begin{tabular}{r|llll}\n",
       "  & estimate & p.value & 2.5\\% & 97.5\\%\\\\\n",
       "\\hline\n",
       "\tAge \\_\\textbar{}\\textbar{}\\_ Immg & -0.013766498 & 1.680764e-02 & -0.025048117 & -0.002481374\\\\\n",
       "\tAge \\_\\textbar{}\\textbar{}\\_ Race &  0.023568238 & 4.245434e-05 &  0.012285996 &  0.034844484\\\\\n",
       "\tAge \\_\\textbar{}\\textbar{}\\_ Sex &  0.086984738 & 8.257393e-52 &  0.075773780 &  0.098174484\\\\\n",
       "\tEdct \\_\\textbar{}\\textbar{}\\_ MrtS \\textbar{} Age & -0.050711171 & 1.206584e-18 & -0.061961468 & -0.039448057\\\\\n",
       "\tHrPW \\_\\textbar{}\\textbar{}\\_ MrtS \\textbar{} Age & -0.229278589 & 0.000000e+00 & -0.239997517 & -0.218592229\\\\\n",
       "\tHrPW \\_\\textbar{}\\textbar{}\\_ Race \\textbar{} Immg &  0.084380882 & 7.631673e-49 &  0.073164999 &  0.095576096\\\\\n",
       "\tImmg \\_\\textbar{}\\textbar{}\\_ MrtS & -0.030453015 & 1.221746e-07 & -0.041724194 & -0.019174096\\\\\n",
       "\tImmg \\_\\textbar{}\\textbar{}\\_ Sex &  0.003005682 & 6.016852e-01 & -0.008280109 &  0.014290707\\\\\n",
       "\tMrtS \\_\\textbar{}\\textbar{}\\_ Race & -0.097075533 & 3.687141e-64 & -0.108243453 & -0.085884426\\\\\n",
       "\tMrtS \\_\\textbar{}\\textbar{}\\_ Sex & -0.426348288 & 0.000000e+00 & -0.436663708 & -0.417969404\\\\\n",
       "\tRace \\_\\textbar{}\\textbar{}\\_ Sex &  0.105148399 & 4.931086e-75 &  0.093974894 &  0.116297330\\\\\n",
       "\\end{tabular}\n"
      ],
      "text/markdown": [
       "\n",
       "| <!--/--> | estimate | p.value | 2.5% | 97.5% |\n",
       "|---|---|---|---|---|\n",
       "| Age _||_ Immg | -0.013766498 | 1.680764e-02 | -0.025048117 | -0.002481374 |\n",
       "| Age _||_ Race |  0.023568238 | 4.245434e-05 |  0.012285996 |  0.034844484 |\n",
       "| Age _||_ Sex |  0.086984738 | 8.257393e-52 |  0.075773780 |  0.098174484 |\n",
       "| Edct _||_ MrtS | Age | -0.050711171 | 1.206584e-18 | -0.061961468 | -0.039448057 |\n",
       "| HrPW _||_ MrtS | Age | -0.229278589 | 0.000000e+00 | -0.239997517 | -0.218592229 |\n",
       "| HrPW _||_ Race | Immg |  0.084380882 | 7.631673e-49 |  0.073164999 |  0.095576096 |\n",
       "| Immg _||_ MrtS | -0.030453015 | 1.221746e-07 | -0.041724194 | -0.019174096 |\n",
       "| Immg _||_ Sex |  0.003005682 | 6.016852e-01 | -0.008280109 |  0.014290707 |\n",
       "| MrtS _||_ Race | -0.097075533 | 3.687141e-64 | -0.108243453 | -0.085884426 |\n",
       "| MrtS _||_ Sex | -0.426348288 | 0.000000e+00 | -0.436663708 | -0.417969404 |\n",
       "| Race _||_ Sex |  0.105148399 | 4.931086e-75 |  0.093974894 |  0.116297330 |\n",
       "\n"
      ],
      "text/plain": [
       "                      estimate     p.value      2.5%         97.5%       \n",
       "Age _||_ Immg         -0.013766498 1.680764e-02 -0.025048117 -0.002481374\n",
       "Age _||_ Race          0.023568238 4.245434e-05  0.012285996  0.034844484\n",
       "Age _||_ Sex           0.086984738 8.257393e-52  0.075773780  0.098174484\n",
       "Edct _||_ MrtS | Age  -0.050711171 1.206584e-18 -0.061961468 -0.039448057\n",
       "HrPW _||_ MrtS | Age  -0.229278589 0.000000e+00 -0.239997517 -0.218592229\n",
       "HrPW _||_ Race | Immg  0.084380882 7.631673e-49  0.073164999  0.095576096\n",
       "Immg _||_ MrtS        -0.030453015 1.221746e-07 -0.041724194 -0.019174096\n",
       "Immg _||_ Sex          0.003005682 6.016852e-01 -0.008280109  0.014290707\n",
       "MrtS _||_ Race        -0.097075533 3.687141e-64 -0.108243453 -0.085884426\n",
       "MrtS _||_ Sex         -0.426348288 0.000000e+00 -0.436663708 -0.417969404\n",
       "Race _||_ Sex          0.105148399 4.931086e-75  0.093974894  0.116297330"
      ]
     },
     "metadata": {},
     "output_type": "display_data"
    }
   ],
   "source": [
    "localTests( x=model, sample.cov=corr,\n",
    "sample.nobs=nrow( data ),\n",
    "max.conditioning.variables=2 )"
   ]
  },
  {
   "cell_type": "code",
   "execution_count": 35,
   "id": "married-parking",
   "metadata": {},
   "outputs": [
    {
     "data": {
      "text/html": [
       "<table>\n",
       "<thead><tr><th scope=col>Age</th><th scope=col>Education</th><th scope=col>MaritalStatus</th><th scope=col>Race</th><th scope=col>Sex</th><th scope=col>HoursPerWeek</th><th scope=col>Immigrant</th><th scope=col>Income</th></tr></thead>\n",
       "<tbody>\n",
       "\t<tr><td>35-49          </td><td>Academic-Degree</td><td>2              </td><td>2              </td><td>2              </td><td>40             </td><td>1              </td><td>&lt;=50K       </td></tr>\n",
       "\t<tr><td>50-65          </td><td>Academic-Degree</td><td>1              </td><td>2              </td><td>2              </td><td>&lt;20         </td><td>1              </td><td>&lt;=50K       </td></tr>\n",
       "\t<tr><td>35-49                                                  </td><td><span style=white-space:pre-wrap>HS-grad        </span></td><td>2                                                      </td><td>2                                                      </td><td>2                                                      </td><td>40                                                     </td><td>1                                                      </td><td>&lt;=50K                                               </td></tr>\n",
       "\t<tr><td>50-65                                                  </td><td><span style=white-space:pre-wrap>Non-HS-Grad    </span></td><td>1                                                      </td><td>1                                                      </td><td>2                                                      </td><td>40                                                     </td><td>1                                                      </td><td>&lt;=50K                                               </td></tr>\n",
       "\t<tr><td>20-34          </td><td>Academic-Degree</td><td>1              </td><td>1              </td><td>1              </td><td>40             </td><td>2              </td><td>&lt;=50K       </td></tr>\n",
       "\t<tr><td>35-49          </td><td>Academic-Degree</td><td>1              </td><td>2              </td><td>1              </td><td>40             </td><td>1              </td><td>&lt;=50K       </td></tr>\n",
       "</tbody>\n",
       "</table>\n"
      ],
      "text/latex": [
       "\\begin{tabular}{r|llllllll}\n",
       " Age & Education & MaritalStatus & Race & Sex & HoursPerWeek & Immigrant & Income\\\\\n",
       "\\hline\n",
       "\t 35-49           & Academic-Degree & 2               & 2               & 2               & 40              & 1               & <=50K          \\\\\n",
       "\t 50-65           & Academic-Degree & 1               & 2               & 2               & <20             & 1               & <=50K          \\\\\n",
       "\t 35-49           & HS-grad         & 2               & 2               & 2               & 40              & 1               & <=50K          \\\\\n",
       "\t 50-65           & Non-HS-Grad     & 1               & 1               & 2               & 40              & 1               & <=50K          \\\\\n",
       "\t 20-34           & Academic-Degree & 1               & 1               & 1               & 40              & 2               & <=50K          \\\\\n",
       "\t 35-49           & Academic-Degree & 1               & 2               & 1               & 40              & 1               & <=50K          \\\\\n",
       "\\end{tabular}\n"
      ],
      "text/markdown": [
       "\n",
       "| Age | Education | MaritalStatus | Race | Sex | HoursPerWeek | Immigrant | Income |\n",
       "|---|---|---|---|---|---|---|---|\n",
       "| 35-49           | Academic-Degree | 2               | 2               | 2               | 40              | 1               | <=50K           |\n",
       "| 50-65           | Academic-Degree | 1               | 2               | 2               | <20             | 1               | <=50K           |\n",
       "| 35-49           | HS-grad         | 2               | 2               | 2               | 40              | 1               | <=50K           |\n",
       "| 50-65           | Non-HS-Grad     | 1               | 1               | 2               | 40              | 1               | <=50K           |\n",
       "| 20-34           | Academic-Degree | 1               | 1               | 1               | 40              | 2               | <=50K           |\n",
       "| 35-49           | Academic-Degree | 1               | 2               | 1               | 40              | 1               | <=50K           |\n",
       "\n"
      ],
      "text/plain": [
       "  Age   Education       MaritalStatus Race Sex HoursPerWeek Immigrant Income\n",
       "1 35-49 Academic-Degree 2             2    2   40           1         <=50K \n",
       "2 50-65 Academic-Degree 1             2    2   <20          1         <=50K \n",
       "3 35-49 HS-grad         2             2    2   40           1         <=50K \n",
       "4 50-65 Non-HS-Grad     1             1    2   40           1         <=50K \n",
       "5 20-34 Academic-Degree 1             1    1   40           2         <=50K \n",
       "6 35-49 Academic-Degree 1             2    1   40           1         <=50K "
      ]
     },
     "metadata": {},
     "output_type": "display_data"
    }
   ],
   "source": [
    "head(data)"
   ]
  },
  {
   "cell_type": "code",
   "execution_count": 36,
   "id": "framed-exemption",
   "metadata": {},
   "outputs": [
    {
     "data": {
      "image/png": "[encoded data removed]",
      "text/plain": [
       "plot without title"
      ]
     },
     "metadata": {},
     "output_type": "display_data"
    }
   ],
   "source": [
    "plotLocalTestResults( localTests( model,\n",
    "sample.cov=corr, sample.nobs=nrow( data ) ) )"
   ]
  },
  {
   "cell_type": "code",
   "execution_count": 37,
   "id": "prompt-zealand",
   "metadata": {},
   "outputs": [],
   "source": [
    "model <- dagitty( 'dag {\n",
    "bb=\"-4.6,-3.8,3.7,3.7\"\n",
    "Age [pos=\"-2,-2.6\"]\n",
    "Education [pos=\"1.4,0.5\"]\n",
    "HoursPerWeek [pos=\"-0.6,-0.1\"]\n",
    "Immigrant [pos=\"1.1,-2.6\"]\n",
    "Income [pos=\"-1.6,2.7\"]\n",
    "MaritalStatus [pos=\"-3.7,-2.6\"]\n",
    "Race [pos=\"3.0,-2.5\"]\n",
    "Sex [pos=\"-0.5,-2.6\"]\n",
    "Age -> { Income MaritalStatus }\n",
    "Education -> Income\n",
    "HoursPerWeek -> Income\n",
    "Immigrant -> { Education }\n",
    "Immigrant <-> Race\n",
    "MaritalStatus -> Income\n",
    "Race -> Education\n",
    "Sex -> { Education }\n",
    "}' )"
   ]
  },
  {
   "cell_type": "code",
   "execution_count": 38,
   "id": "acoustic-pressure",
   "metadata": {},
   "outputs": [
    {
     "data": {
      "image/png": "[encoded data removed]",
      "text/plain": [
       "plot without title"
      ]
     },
     "metadata": {},
     "output_type": "display_data"
    }
   ],
   "source": [
    "plot(model)"
   ]
  },
  {
   "cell_type": "code",
   "execution_count": 39,
   "id": "natural-athens",
   "metadata": {},
   "outputs": [
    {
     "data": {
      "text/html": [
       "<table>\n",
       "<thead><tr><th></th><th scope=col>estimate</th><th scope=col>p.value</th><th scope=col>2.5%</th><th scope=col>97.5%</th></tr></thead>\n",
       "<tbody>\n",
       "\t<tr><th scope=row>Age _||_ Edct</th><td> 0.084321379 </td><td> 8.866104e-49</td><td> 0.073105576 </td><td> 0.095516526 </td></tr>\n",
       "\t<tr><th scope=row>Age _||_ HrPW</th><td> 0.140345881 </td><td>6.269761e-133</td><td> 0.129267531 </td><td> 0.151396949 </td></tr>\n",
       "\t<tr><th scope=row>Age _||_ Immg</th><td>-0.013766498 </td><td> 1.680764e-02</td><td>-0.025048117 </td><td>-0.002481374 </td></tr>\n",
       "\t<tr><th scope=row>Age _||_ Race</th><td> 0.023568238 </td><td> 4.245434e-05</td><td> 0.012285996 </td><td> 0.034844484 </td></tr>\n",
       "\t<tr><th scope=row>Age _||_ Sex</th><td> 0.086984738 </td><td> 8.257393e-52</td><td> 0.075773780 </td><td> 0.098174484 </td></tr>\n",
       "\t<tr><th scope=row>Edct _||_ HrPW</th><td> 0.197383839 </td><td>2.398037e-264</td><td> 0.186529032 </td><td> 0.208232033 </td></tr>\n",
       "\t<tr><th scope=row>Edct _||_ MrtS</th><td>-0.074678991 </td><td> 1.337122e-38</td><td>-0.085892424 </td><td>-0.063447022 </td></tr>\n",
       "\t<tr><th scope=row>HrPW _||_ Immg</th><td>-0.028055483 </td><td> 1.096430e-06</td><td>-0.039328547 </td><td>-0.016775285 </td></tr>\n",
       "\t<tr><th scope=row>HrPW _||_ MrtS</th><td>-0.259814609 </td><td> 0.000000e+00</td><td>-0.270406271 </td><td>-0.249325527 </td></tr>\n",
       "\t<tr><th scope=row>HrPW _||_ Race</th><td> 0.088166348 </td><td> 3.480544e-53</td><td> 0.076957592 </td><td> 0.099353649 </td></tr>\n",
       "\t<tr><th scope=row>HrPW _||_ Sex</th><td> 0.279048646 </td><td> 0.000000e+00</td><td> 0.268704677 </td><td> 0.289562210 </td></tr>\n",
       "\t<tr><th scope=row>Immg _||_ Incm | Edct</th><td>-0.019411911 </td><td> 7.475803e-04</td><td>-0.030690886 </td><td>-0.008127995 </td></tr>\n",
       "\t<tr><th scope=row>Immg _||_ MrtS</th><td>-0.030453015 </td><td> 1.221746e-07</td><td>-0.041724194 </td><td>-0.019174096 </td></tr>\n",
       "\t<tr><th scope=row>Immg _||_ Sex</th><td> 0.003005682 </td><td> 6.016852e-01</td><td>-0.008280109 </td><td> 0.014290707 </td></tr>\n",
       "\t<tr><th scope=row>Incm _||_ Race | Edct</th><td> 0.115506069 </td><td> 2.758339e-90</td><td> 0.104357236 </td><td> 0.126628882 </td></tr>\n",
       "\t<tr><th scope=row>Incm _||_ Sex | Edct</th><td> 0.361247231 </td><td> 0.000000e+00</td><td> 0.351768032 </td><td> 0.371513834 </td></tr>\n",
       "\t<tr><th scope=row>MrtS _||_ Race</th><td>-0.097075533 </td><td> 3.687141e-64</td><td>-0.108243453 </td><td>-0.085884426 </td></tr>\n",
       "\t<tr><th scope=row>MrtS _||_ Sex</th><td>-0.426348288 </td><td> 0.000000e+00</td><td>-0.436663708 </td><td>-0.417969404 </td></tr>\n",
       "\t<tr><th scope=row>Race _||_ Sex</th><td> 0.105148399 </td><td> 4.931086e-75</td><td> 0.093974894 </td><td> 0.116297330 </td></tr>\n",
       "</tbody>\n",
       "</table>\n"
      ],
      "text/latex": [
       "\\begin{tabular}{r|llll}\n",
       "  & estimate & p.value & 2.5\\% & 97.5\\%\\\\\n",
       "\\hline\n",
       "\tAge \\_\\textbar{}\\textbar{}\\_ Edct &  0.084321379  &  8.866104e-49 &  0.073105576  &  0.095516526 \\\\\n",
       "\tAge \\_\\textbar{}\\textbar{}\\_ HrPW &  0.140345881  & 6.269761e-133 &  0.129267531  &  0.151396949 \\\\\n",
       "\tAge \\_\\textbar{}\\textbar{}\\_ Immg & -0.013766498  &  1.680764e-02 & -0.025048117  & -0.002481374 \\\\\n",
       "\tAge \\_\\textbar{}\\textbar{}\\_ Race &  0.023568238  &  4.245434e-05 &  0.012285996  &  0.034844484 \\\\\n",
       "\tAge \\_\\textbar{}\\textbar{}\\_ Sex &  0.086984738  &  8.257393e-52 &  0.075773780  &  0.098174484 \\\\\n",
       "\tEdct \\_\\textbar{}\\textbar{}\\_ HrPW &  0.197383839  & 2.398037e-264 &  0.186529032  &  0.208232033 \\\\\n",
       "\tEdct \\_\\textbar{}\\textbar{}\\_ MrtS & -0.074678991  &  1.337122e-38 & -0.085892424  & -0.063447022 \\\\\n",
       "\tHrPW \\_\\textbar{}\\textbar{}\\_ Immg & -0.028055483  &  1.096430e-06 & -0.039328547  & -0.016775285 \\\\\n",
       "\tHrPW \\_\\textbar{}\\textbar{}\\_ MrtS & -0.259814609  &  0.000000e+00 & -0.270406271  & -0.249325527 \\\\\n",
       "\tHrPW \\_\\textbar{}\\textbar{}\\_ Race &  0.088166348  &  3.480544e-53 &  0.076957592  &  0.099353649 \\\\\n",
       "\tHrPW \\_\\textbar{}\\textbar{}\\_ Sex &  0.279048646  &  0.000000e+00 &  0.268704677  &  0.289562210 \\\\\n",
       "\tImmg \\_\\textbar{}\\textbar{}\\_ Incm \\textbar{} Edct & -0.019411911  &  7.475803e-04 & -0.030690886  & -0.008127995 \\\\\n",
       "\tImmg \\_\\textbar{}\\textbar{}\\_ MrtS & -0.030453015  &  1.221746e-07 & -0.041724194  & -0.019174096 \\\\\n",
       "\tImmg \\_\\textbar{}\\textbar{}\\_ Sex &  0.003005682  &  6.016852e-01 & -0.008280109  &  0.014290707 \\\\\n",
       "\tIncm \\_\\textbar{}\\textbar{}\\_ Race \\textbar{} Edct &  0.115506069  &  2.758339e-90 &  0.104357236  &  0.126628882 \\\\\n",
       "\tIncm \\_\\textbar{}\\textbar{}\\_ Sex \\textbar{} Edct &  0.361247231  &  0.000000e+00 &  0.351768032  &  0.371513834 \\\\\n",
       "\tMrtS \\_\\textbar{}\\textbar{}\\_ Race & -0.097075533  &  3.687141e-64 & -0.108243453  & -0.085884426 \\\\\n",
       "\tMrtS \\_\\textbar{}\\textbar{}\\_ Sex & -0.426348288  &  0.000000e+00 & -0.436663708  & -0.417969404 \\\\\n",
       "\tRace \\_\\textbar{}\\textbar{}\\_ Sex &  0.105148399  &  4.931086e-75 &  0.093974894  &  0.116297330 \\\\\n",
       "\\end{tabular}\n"
      ],
      "text/markdown": [
       "\n",
       "| <!--/--> | estimate | p.value | 2.5% | 97.5% |\n",
       "|---|---|---|---|---|\n",
       "| Age _||_ Edct |  0.084321379  |  8.866104e-49 |  0.073105576  |  0.095516526  |\n",
       "| Age _||_ HrPW |  0.140345881  | 6.269761e-133 |  0.129267531  |  0.151396949  |\n",
       "| Age _||_ Immg | -0.013766498  |  1.680764e-02 | -0.025048117  | -0.002481374  |\n",
       "| Age _||_ Race |  0.023568238  |  4.245434e-05 |  0.012285996  |  0.034844484  |\n",
       "| Age _||_ Sex |  0.086984738  |  8.257393e-52 |  0.075773780  |  0.098174484  |\n",
       "| Edct _||_ HrPW |  0.197383839  | 2.398037e-264 |  0.186529032  |  0.208232033  |\n",
       "| Edct _||_ MrtS | -0.074678991  |  1.337122e-38 | -0.085892424  | -0.063447022  |\n",
       "| HrPW _||_ Immg | -0.028055483  |  1.096430e-06 | -0.039328547  | -0.016775285  |\n",
       "| HrPW _||_ MrtS | -0.259814609  |  0.000000e+00 | -0.270406271  | -0.249325527  |\n",
       "| HrPW _||_ Race |  0.088166348  |  3.480544e-53 |  0.076957592  |  0.099353649  |\n",
       "| HrPW _||_ Sex |  0.279048646  |  0.000000e+00 |  0.268704677  |  0.289562210  |\n",
       "| Immg _||_ Incm | Edct | -0.019411911  |  7.475803e-04 | -0.030690886  | -0.008127995  |\n",
       "| Immg _||_ MrtS | -0.030453015  |  1.221746e-07 | -0.041724194  | -0.019174096  |\n",
       "| Immg _||_ Sex |  0.003005682  |  6.016852e-01 | -0.008280109  |  0.014290707  |\n",
       "| Incm _||_ Race | Edct |  0.115506069  |  2.758339e-90 |  0.104357236  |  0.126628882  |\n",
       "| Incm _||_ Sex | Edct |  0.361247231  |  0.000000e+00 |  0.351768032  |  0.371513834  |\n",
       "| MrtS _||_ Race | -0.097075533  |  3.687141e-64 | -0.108243453  | -0.085884426  |\n",
       "| MrtS _||_ Sex | -0.426348288  |  0.000000e+00 | -0.436663708  | -0.417969404  |\n",
       "| Race _||_ Sex |  0.105148399  |  4.931086e-75 |  0.093974894  |  0.116297330  |\n",
       "\n"
      ],
      "text/plain": [
       "                      estimate     p.value       2.5%         97.5%       \n",
       "Age _||_ Edct          0.084321379  8.866104e-49  0.073105576  0.095516526\n",
       "Age _||_ HrPW          0.140345881 6.269761e-133  0.129267531  0.151396949\n",
       "Age _||_ Immg         -0.013766498  1.680764e-02 -0.025048117 -0.002481374\n",
       "Age _||_ Race          0.023568238  4.245434e-05  0.012285996  0.034844484\n",
       "Age _||_ Sex           0.086984738  8.257393e-52  0.075773780  0.098174484\n",
       "Edct _||_ HrPW         0.197383839 2.398037e-264  0.186529032  0.208232033\n",
       "Edct _||_ MrtS        -0.074678991  1.337122e-38 -0.085892424 -0.063447022\n",
       "HrPW _||_ Immg        -0.028055483  1.096430e-06 -0.039328547 -0.016775285\n",
       "HrPW _||_ MrtS        -0.259814609  0.000000e+00 -0.270406271 -0.249325527\n",
       "HrPW _||_ Race         0.088166348  3.480544e-53  0.076957592  0.099353649\n",
       "HrPW _||_ Sex          0.279048646  0.000000e+00  0.268704677  0.289562210\n",
       "Immg _||_ Incm | Edct -0.019411911  7.475803e-04 -0.030690886 -0.008127995\n",
       "Immg _||_ MrtS        -0.030453015  1.221746e-07 -0.041724194 -0.019174096\n",
       "Immg _||_ Sex          0.003005682  6.016852e-01 -0.008280109  0.014290707\n",
       "Incm _||_ Race | Edct  0.115506069  2.758339e-90  0.104357236  0.126628882\n",
       "Incm _||_ Sex | Edct   0.361247231  0.000000e+00  0.351768032  0.371513834\n",
       "MrtS _||_ Race        -0.097075533  3.687141e-64 -0.108243453 -0.085884426\n",
       "MrtS _||_ Sex         -0.426348288  0.000000e+00 -0.436663708 -0.417969404\n",
       "Race _||_ Sex          0.105148399  4.931086e-75  0.093974894  0.116297330"
      ]
     },
     "metadata": {},
     "output_type": "display_data"
    }
   ],
   "source": [
    "localTests( model, sample.cov=corr, sample.nobs=nrow( data ) )"
   ]
  },
  {
   "cell_type": "code",
   "execution_count": 40,
   "id": "distinct-diagram",
   "metadata": {},
   "outputs": [
    {
     "data": {
      "text/html": [
       "<table>\n",
       "<thead><tr><th></th><th scope=col>estimate</th><th scope=col>p.value</th><th scope=col>2.5%</th><th scope=col>97.5%</th></tr></thead>\n",
       "<tbody>\n",
       "\t<tr><th scope=row>Age _||_ Edct</th><td> 0.084321379 </td><td> 8.866104e-49</td><td> 0.073105576 </td><td> 0.095516526 </td></tr>\n",
       "\t<tr><th scope=row>Age _||_ HrPW</th><td> 0.140345881 </td><td>6.269761e-133</td><td> 0.129267531 </td><td> 0.151396949 </td></tr>\n",
       "\t<tr><th scope=row>Age _||_ Immg</th><td>-0.013766498 </td><td> 1.680764e-02</td><td>-0.025048117 </td><td>-0.002481374 </td></tr>\n",
       "\t<tr><th scope=row>Age _||_ Race</th><td> 0.023568238 </td><td> 4.245434e-05</td><td> 0.012285996 </td><td> 0.034844484 </td></tr>\n",
       "\t<tr><th scope=row>Age _||_ Sex</th><td> 0.086984738 </td><td> 8.257393e-52</td><td> 0.075773780 </td><td> 0.098174484 </td></tr>\n",
       "\t<tr><th scope=row>Edct _||_ HrPW</th><td> 0.197383839 </td><td>2.398037e-264</td><td> 0.186529032 </td><td> 0.208232033 </td></tr>\n",
       "\t<tr><th scope=row>Edct _||_ MrtS</th><td>-0.074678991 </td><td> 1.337122e-38</td><td>-0.085892424 </td><td>-0.063447022 </td></tr>\n",
       "\t<tr><th scope=row>HrPW _||_ Immg</th><td>-0.028055483 </td><td> 1.096430e-06</td><td>-0.039328547 </td><td>-0.016775285 </td></tr>\n",
       "\t<tr><th scope=row>HrPW _||_ MrtS</th><td>-0.259814609 </td><td> 0.000000e+00</td><td>-0.270406271 </td><td>-0.249325527 </td></tr>\n",
       "\t<tr><th scope=row>HrPW _||_ Race</th><td> 0.088166348 </td><td> 3.480544e-53</td><td> 0.076957592 </td><td> 0.099353649 </td></tr>\n",
       "\t<tr><th scope=row>HrPW _||_ Sex</th><td> 0.279048646 </td><td> 0.000000e+00</td><td> 0.268704677 </td><td> 0.289562210 </td></tr>\n",
       "\t<tr><th scope=row>Immg _||_ Incm | Edct</th><td>-0.019411911 </td><td> 7.475803e-04</td><td>-0.030690886 </td><td>-0.008127995 </td></tr>\n",
       "\t<tr><th scope=row>Immg _||_ MrtS</th><td>-0.030453015 </td><td> 1.221746e-07</td><td>-0.041724194 </td><td>-0.019174096 </td></tr>\n",
       "\t<tr><th scope=row>Immg _||_ Sex</th><td> 0.003005682 </td><td> 6.016852e-01</td><td>-0.008280109 </td><td> 0.014290707 </td></tr>\n",
       "\t<tr><th scope=row>Incm _||_ Race | Edct</th><td> 0.115506069 </td><td> 2.758339e-90</td><td> 0.104357236 </td><td> 0.126628882 </td></tr>\n",
       "\t<tr><th scope=row>Incm _||_ Sex | Edct</th><td> 0.361247231 </td><td> 0.000000e+00</td><td> 0.351768032 </td><td> 0.371513834 </td></tr>\n",
       "\t<tr><th scope=row>MrtS _||_ Race</th><td>-0.097075533 </td><td> 3.687141e-64</td><td>-0.108243453 </td><td>-0.085884426 </td></tr>\n",
       "\t<tr><th scope=row>MrtS _||_ Sex</th><td>-0.426348288 </td><td> 0.000000e+00</td><td>-0.436663708 </td><td>-0.417969404 </td></tr>\n",
       "\t<tr><th scope=row>Race _||_ Sex</th><td> 0.105148399 </td><td> 4.931086e-75</td><td> 0.093974894 </td><td> 0.116297330 </td></tr>\n",
       "</tbody>\n",
       "</table>\n"
      ],
      "text/latex": [
       "\\begin{tabular}{r|llll}\n",
       "  & estimate & p.value & 2.5\\% & 97.5\\%\\\\\n",
       "\\hline\n",
       "\tAge \\_\\textbar{}\\textbar{}\\_ Edct &  0.084321379  &  8.866104e-49 &  0.073105576  &  0.095516526 \\\\\n",
       "\tAge \\_\\textbar{}\\textbar{}\\_ HrPW &  0.140345881  & 6.269761e-133 &  0.129267531  &  0.151396949 \\\\\n",
       "\tAge \\_\\textbar{}\\textbar{}\\_ Immg & -0.013766498  &  1.680764e-02 & -0.025048117  & -0.002481374 \\\\\n",
       "\tAge \\_\\textbar{}\\textbar{}\\_ Race &  0.023568238  &  4.245434e-05 &  0.012285996  &  0.034844484 \\\\\n",
       "\tAge \\_\\textbar{}\\textbar{}\\_ Sex &  0.086984738  &  8.257393e-52 &  0.075773780  &  0.098174484 \\\\\n",
       "\tEdct \\_\\textbar{}\\textbar{}\\_ HrPW &  0.197383839  & 2.398037e-264 &  0.186529032  &  0.208232033 \\\\\n",
       "\tEdct \\_\\textbar{}\\textbar{}\\_ MrtS & -0.074678991  &  1.337122e-38 & -0.085892424  & -0.063447022 \\\\\n",
       "\tHrPW \\_\\textbar{}\\textbar{}\\_ Immg & -0.028055483  &  1.096430e-06 & -0.039328547  & -0.016775285 \\\\\n",
       "\tHrPW \\_\\textbar{}\\textbar{}\\_ MrtS & -0.259814609  &  0.000000e+00 & -0.270406271  & -0.249325527 \\\\\n",
       "\tHrPW \\_\\textbar{}\\textbar{}\\_ Race &  0.088166348  &  3.480544e-53 &  0.076957592  &  0.099353649 \\\\\n",
       "\tHrPW \\_\\textbar{}\\textbar{}\\_ Sex &  0.279048646  &  0.000000e+00 &  0.268704677  &  0.289562210 \\\\\n",
       "\tImmg \\_\\textbar{}\\textbar{}\\_ Incm \\textbar{} Edct & -0.019411911  &  7.475803e-04 & -0.030690886  & -0.008127995 \\\\\n",
       "\tImmg \\_\\textbar{}\\textbar{}\\_ MrtS & -0.030453015  &  1.221746e-07 & -0.041724194  & -0.019174096 \\\\\n",
       "\tImmg \\_\\textbar{}\\textbar{}\\_ Sex &  0.003005682  &  6.016852e-01 & -0.008280109  &  0.014290707 \\\\\n",
       "\tIncm \\_\\textbar{}\\textbar{}\\_ Race \\textbar{} Edct &  0.115506069  &  2.758339e-90 &  0.104357236  &  0.126628882 \\\\\n",
       "\tIncm \\_\\textbar{}\\textbar{}\\_ Sex \\textbar{} Edct &  0.361247231  &  0.000000e+00 &  0.351768032  &  0.371513834 \\\\\n",
       "\tMrtS \\_\\textbar{}\\textbar{}\\_ Race & -0.097075533  &  3.687141e-64 & -0.108243453  & -0.085884426 \\\\\n",
       "\tMrtS \\_\\textbar{}\\textbar{}\\_ Sex & -0.426348288  &  0.000000e+00 & -0.436663708  & -0.417969404 \\\\\n",
       "\tRace \\_\\textbar{}\\textbar{}\\_ Sex &  0.105148399  &  4.931086e-75 &  0.093974894  &  0.116297330 \\\\\n",
       "\\end{tabular}\n"
      ],
      "text/markdown": [
       "\n",
       "| <!--/--> | estimate | p.value | 2.5% | 97.5% |\n",
       "|---|---|---|---|---|\n",
       "| Age _||_ Edct |  0.084321379  |  8.866104e-49 |  0.073105576  |  0.095516526  |\n",
       "| Age _||_ HrPW |  0.140345881  | 6.269761e-133 |  0.129267531  |  0.151396949  |\n",
       "| Age _||_ Immg | -0.013766498  |  1.680764e-02 | -0.025048117  | -0.002481374  |\n",
       "| Age _||_ Race |  0.023568238  |  4.245434e-05 |  0.012285996  |  0.034844484  |\n",
       "| Age _||_ Sex |  0.086984738  |  8.257393e-52 |  0.075773780  |  0.098174484  |\n",
       "| Edct _||_ HrPW |  0.197383839  | 2.398037e-264 |  0.186529032  |  0.208232033  |\n",
       "| Edct _||_ MrtS | -0.074678991  |  1.337122e-38 | -0.085892424  | -0.063447022  |\n",
       "| HrPW _||_ Immg | -0.028055483  |  1.096430e-06 | -0.039328547  | -0.016775285  |\n",
       "| HrPW _||_ MrtS | -0.259814609  |  0.000000e+00 | -0.270406271  | -0.249325527  |\n",
       "| HrPW _||_ Race |  0.088166348  |  3.480544e-53 |  0.076957592  |  0.099353649  |\n",
       "| HrPW _||_ Sex |  0.279048646  |  0.000000e+00 |  0.268704677  |  0.289562210  |\n",
       "| Immg _||_ Incm | Edct | -0.019411911  |  7.475803e-04 | -0.030690886  | -0.008127995  |\n",
       "| Immg _||_ MrtS | -0.030453015  |  1.221746e-07 | -0.041724194  | -0.019174096  |\n",
       "| Immg _||_ Sex |  0.003005682  |  6.016852e-01 | -0.008280109  |  0.014290707  |\n",
       "| Incm _||_ Race | Edct |  0.115506069  |  2.758339e-90 |  0.104357236  |  0.126628882  |\n",
       "| Incm _||_ Sex | Edct |  0.361247231  |  0.000000e+00 |  0.351768032  |  0.371513834  |\n",
       "| MrtS _||_ Race | -0.097075533  |  3.687141e-64 | -0.108243453  | -0.085884426  |\n",
       "| MrtS _||_ Sex | -0.426348288  |  0.000000e+00 | -0.436663708  | -0.417969404  |\n",
       "| Race _||_ Sex |  0.105148399  |  4.931086e-75 |  0.093974894  |  0.116297330  |\n",
       "\n"
      ],
      "text/plain": [
       "                      estimate     p.value       2.5%         97.5%       \n",
       "Age _||_ Edct          0.084321379  8.866104e-49  0.073105576  0.095516526\n",
       "Age _||_ HrPW          0.140345881 6.269761e-133  0.129267531  0.151396949\n",
       "Age _||_ Immg         -0.013766498  1.680764e-02 -0.025048117 -0.002481374\n",
       "Age _||_ Race          0.023568238  4.245434e-05  0.012285996  0.034844484\n",
       "Age _||_ Sex           0.086984738  8.257393e-52  0.075773780  0.098174484\n",
       "Edct _||_ HrPW         0.197383839 2.398037e-264  0.186529032  0.208232033\n",
       "Edct _||_ MrtS        -0.074678991  1.337122e-38 -0.085892424 -0.063447022\n",
       "HrPW _||_ Immg        -0.028055483  1.096430e-06 -0.039328547 -0.016775285\n",
       "HrPW _||_ MrtS        -0.259814609  0.000000e+00 -0.270406271 -0.249325527\n",
       "HrPW _||_ Race         0.088166348  3.480544e-53  0.076957592  0.099353649\n",
       "HrPW _||_ Sex          0.279048646  0.000000e+00  0.268704677  0.289562210\n",
       "Immg _||_ Incm | Edct -0.019411911  7.475803e-04 -0.030690886 -0.008127995\n",
       "Immg _||_ MrtS        -0.030453015  1.221746e-07 -0.041724194 -0.019174096\n",
       "Immg _||_ Sex          0.003005682  6.016852e-01 -0.008280109  0.014290707\n",
       "Incm _||_ Race | Edct  0.115506069  2.758339e-90  0.104357236  0.126628882\n",
       "Incm _||_ Sex | Edct   0.361247231  0.000000e+00  0.351768032  0.371513834\n",
       "MrtS _||_ Race        -0.097075533  3.687141e-64 -0.108243453 -0.085884426\n",
       "MrtS _||_ Sex         -0.426348288  0.000000e+00 -0.436663708 -0.417969404\n",
       "Race _||_ Sex          0.105148399  4.931086e-75  0.093974894  0.116297330"
      ]
     },
     "metadata": {},
     "output_type": "display_data"
    }
   ],
   "source": [
    "localTests( x=model, sample.cov=corr,\n",
    "sample.nobs=nrow( data ),\n",
    "max.conditioning.variables=2 )"
   ]
  },
  {
   "cell_type": "code",
   "execution_count": 41,
   "id": "visible-assault",
   "metadata": {},
   "outputs": [
    {
     "data": {
      "image/png": "[encoded data removed]",
      "text/plain": [
       "plot without title"
      ]
     },
     "metadata": {},
     "output_type": "display_data"
    }
   ],
   "source": [
    "plotLocalTestResults( localTests( model,\n",
    "sample.cov=corr, sample.nobs=nrow( data ) ) )"
   ]
  },
  {
   "cell_type": "code",
   "execution_count": 42,
   "id": "executed-coordinate",
   "metadata": {},
   "outputs": [
    {
     "data": {
      "text/html": [
       "<table>\n",
       "<thead><tr><th scope=col>Age</th><th scope=col>Education</th><th scope=col>MaritalStatus</th><th scope=col>Race</th><th scope=col>Sex</th><th scope=col>HoursPerWeek</th><th scope=col>Immigrant</th><th scope=col>Income</th></tr></thead>\n",
       "<tbody>\n",
       "\t<tr><td>35-49                                                    </td><td><span style=white-space:pre-wrap>Academic-Degree  </span></td><td>2                                                        </td><td>2                                                        </td><td>2                                                        </td><td><span style=white-space:pre-wrap>40   </span>            </td><td>1                                                        </td><td>&lt;=50K                                                 </td></tr>\n",
       "\t<tr><td>50-65                                                    </td><td><span style=white-space:pre-wrap>Academic-Degree  </span></td><td>1                                                        </td><td>2                                                        </td><td>2                                                        </td><td><span style=white-space:pre-wrap>&lt;20  </span>         </td><td>1                                                        </td><td>&lt;=50K                                                 </td></tr>\n",
       "\t<tr><td>35-49                                                    </td><td><span style=white-space:pre-wrap>HS-grad          </span></td><td>2                                                        </td><td>2                                                        </td><td>2                                                        </td><td><span style=white-space:pre-wrap>40   </span>            </td><td>1                                                        </td><td>&lt;=50K                                                 </td></tr>\n",
       "\t<tr><td>50-65                                                    </td><td><span style=white-space:pre-wrap>Non-HS-Grad      </span></td><td>1                                                        </td><td>1                                                        </td><td>2                                                        </td><td><span style=white-space:pre-wrap>40   </span>            </td><td>1                                                        </td><td>&lt;=50K                                                 </td></tr>\n",
       "\t<tr><td>20-34                                                    </td><td><span style=white-space:pre-wrap>Academic-Degree  </span></td><td>1                                                        </td><td>1                                                        </td><td>1                                                        </td><td><span style=white-space:pre-wrap>40   </span>            </td><td>2                                                        </td><td>&lt;=50K                                                 </td></tr>\n",
       "\t<tr><td>35-49                                                    </td><td><span style=white-space:pre-wrap>Academic-Degree  </span></td><td>1                                                        </td><td>2                                                        </td><td>1                                                        </td><td><span style=white-space:pre-wrap>40   </span>            </td><td>1                                                        </td><td>&lt;=50K                                                 </td></tr>\n",
       "\t<tr><td>35-49                                                    </td><td><span style=white-space:pre-wrap>Non-HS-Grad      </span></td><td>1                                                        </td><td>1                                                        </td><td>1                                                        </td><td><span style=white-space:pre-wrap>&lt;20  </span>         </td><td>2                                                        </td><td>&lt;=50K                                                 </td></tr>\n",
       "\t<tr><td>50-65                                                    </td><td><span style=white-space:pre-wrap>HS-grad          </span></td><td>1                                                        </td><td>2                                                        </td><td>2                                                        </td><td><span style=white-space:pre-wrap>&gt;40  </span>         </td><td>1                                                        </td><td>&gt;50K                                                  </td></tr>\n",
       "\t<tr><td>20-34                                                    </td><td><span style=white-space:pre-wrap>Academic-Degree  </span></td><td>2                                                        </td><td>2                                                        </td><td>1                                                        </td><td><span style=white-space:pre-wrap>&gt;40  </span>         </td><td>1                                                        </td><td>&gt;50K                                                  </td></tr>\n",
       "\t<tr><td>35-49                                                    </td><td><span style=white-space:pre-wrap>Academic-Degree  </span></td><td>1                                                        </td><td>2                                                        </td><td>2                                                        </td><td><span style=white-space:pre-wrap>40   </span>            </td><td>1                                                        </td><td>&gt;50K                                                  </td></tr>\n",
       "\t<tr><td>35-49                                           </td><td>College-Associate                               </td><td>1                                               </td><td>1                                               </td><td>2                                               </td><td><span style=white-space:pre-wrap>&gt;40  </span></td><td>1                                               </td><td>&gt;50K                                         </td></tr>\n",
       "\t<tr><td>20-34                                                    </td><td><span style=white-space:pre-wrap>Academic-Degree  </span></td><td>1                                                        </td><td>1                                                        </td><td>2                                                        </td><td><span style=white-space:pre-wrap>40   </span>            </td><td>2                                                        </td><td>&gt;50K                                                  </td></tr>\n",
       "\t<tr><td>20-34                                                    </td><td><span style=white-space:pre-wrap>Academic-Degree  </span></td><td>2                                                        </td><td>2                                                        </td><td>1                                                        </td><td>20-39                                                    </td><td>1                                                        </td><td>&lt;=50K                                                 </td></tr>\n",
       "\t<tr><td>20-34                                           </td><td>College-Associate                               </td><td>2                                               </td><td>1                                               </td><td>2                                               </td><td><span style=white-space:pre-wrap>&gt;40  </span></td><td>1                                               </td><td>&lt;=50K                                        </td></tr>\n",
       "\t<tr><td>20-34                                                    </td><td><span style=white-space:pre-wrap>Non-HS-Grad      </span></td><td>1                                                        </td><td>1                                                        </td><td>2                                                        </td><td><span style=white-space:pre-wrap>&gt;40  </span>         </td><td>2                                                        </td><td>&lt;=50K                                                 </td></tr>\n",
       "\t<tr><td>20-34                                                    </td><td><span style=white-space:pre-wrap>HS-grad          </span></td><td>2                                                        </td><td>2                                                        </td><td>2                                                        </td><td>20-39                                                    </td><td>1                                                        </td><td>&lt;=50K                                                 </td></tr>\n",
       "\t<tr><td>20-34                                                    </td><td><span style=white-space:pre-wrap>HS-grad          </span></td><td>2                                                        </td><td>2                                                        </td><td>2                                                        </td><td><span style=white-space:pre-wrap>40   </span>            </td><td>1                                                        </td><td>&lt;=50K                                                 </td></tr>\n",
       "\t<tr><td>35-49                                                    </td><td><span style=white-space:pre-wrap>Non-HS-Grad      </span></td><td>1                                                        </td><td>2                                                        </td><td>2                                                        </td><td><span style=white-space:pre-wrap>&gt;40  </span>         </td><td>1                                                        </td><td>&lt;=50K                                                 </td></tr>\n",
       "\t<tr><td>35-49                                                    </td><td><span style=white-space:pre-wrap>Academic-Degree  </span></td><td>2                                                        </td><td>2                                                        </td><td>1                                                        </td><td><span style=white-space:pre-wrap>&gt;40  </span>         </td><td>1                                                        </td><td>&gt;50K                                                  </td></tr>\n",
       "\t<tr><td>35-49                                                    </td><td><span style=white-space:pre-wrap>Academic-Degree  </span></td><td>1                                                        </td><td>2                                                        </td><td>2                                                        </td><td><span style=white-space:pre-wrap>&gt;40  </span>         </td><td>1                                                        </td><td>&gt;50K                                                  </td></tr>\n",
       "\t<tr><td>50-65                                                    </td><td><span style=white-space:pre-wrap>HS-grad          </span></td><td>2                                                        </td><td>1                                                        </td><td>1                                                        </td><td>20-39                                                    </td><td>1                                                        </td><td>&lt;=50K                                                 </td></tr>\n",
       "\t<tr><td>35-49                                                    </td><td><span style=white-space:pre-wrap>Non-HS-Grad      </span></td><td>1                                                        </td><td>1                                                        </td><td>2                                                        </td><td><span style=white-space:pre-wrap>40   </span>            </td><td>1                                                        </td><td>&lt;=50K                                                 </td></tr>\n",
       "\t<tr><td>35-49                                                    </td><td><span style=white-space:pre-wrap>Non-HS-Grad      </span></td><td>1                                                        </td><td>2                                                        </td><td>2                                                        </td><td><span style=white-space:pre-wrap>40   </span>            </td><td>1                                                        </td><td>&lt;=50K                                                 </td></tr>\n",
       "\t<tr><td>50-65                                                    </td><td><span style=white-space:pre-wrap>HS-grad          </span></td><td>2                                                        </td><td>2                                                        </td><td>1                                                        </td><td><span style=white-space:pre-wrap>40   </span>            </td><td>1                                                        </td><td>&lt;=50K                                                 </td></tr>\n",
       "\t<tr><td>50-65                                                    </td><td><span style=white-space:pre-wrap>Academic-Degree  </span></td><td>1                                                        </td><td>2                                                        </td><td>2                                                        </td><td><span style=white-space:pre-wrap>40   </span>            </td><td>1                                                        </td><td>&gt;50K                                                  </td></tr>\n",
       "\t<tr><td><span style=white-space:pre-wrap>&lt;20  </span>         </td><td><span style=white-space:pre-wrap>HS-grad          </span></td><td>2                                                        </td><td>2                                                        </td><td>2                                                        </td><td><span style=white-space:pre-wrap>40   </span>            </td><td>1                                                        </td><td>&lt;=50K                                                 </td></tr>\n",
       "\t<tr><td>35-49                                                    </td><td><span style=white-space:pre-wrap>HS-grad          </span></td><td>2                                                        </td><td>2                                                        </td><td>2                                                        </td><td><span style=white-space:pre-wrap>&gt;40  </span>         </td><td>1                                                        </td><td>&lt;=50K                                                 </td></tr>\n",
       "\t<tr><td>35-49                                                    </td><td><span style=white-space:pre-wrap>HS-grad          </span></td><td>1                                                        </td><td>2                                                        </td><td>2                                                        </td><td><span style=white-space:pre-wrap>40   </span>            </td><td>1                                                        </td><td>&lt;=50K                                                 </td></tr>\n",
       "\t<tr><td>20-34                                           </td><td>College-Associate                               </td><td>2                                               </td><td>2                                               </td><td>2                                               </td><td><span style=white-space:pre-wrap>&gt;40  </span></td><td>1                                               </td><td>&lt;=50K                                        </td></tr>\n",
       "\t<tr><td>20-34                                           </td><td>College-Associate                               </td><td>2                                               </td><td>1                                               </td><td>2                                               </td><td><span style=white-space:pre-wrap>&gt;40  </span></td><td>1                                               </td><td>&lt;=50K                                        </td></tr>\n",
       "\t<tr><td>...</td><td>...</td><td>...</td><td>...</td><td>...</td><td>...</td><td>...</td><td>...</td></tr>\n",
       "\t<tr><td>20-34                                                    </td><td><span style=white-space:pre-wrap>Non-HS-Grad      </span></td><td>1                                                        </td><td>2                                                        </td><td>2                                                        </td><td><span style=white-space:pre-wrap>40   </span>            </td><td>1                                                        </td><td>&lt;=50K                                                 </td></tr>\n",
       "\t<tr><td>20-34                                        </td><td>College-Associate                            </td><td>2                                            </td><td>2                                            </td><td>2                                            </td><td><span style=white-space:pre-wrap>40   </span></td><td>1                                            </td><td>&lt;=50K                                     </td></tr>\n",
       "\t<tr><td>20-34                                                    </td><td><span style=white-space:pre-wrap>HS-grad          </span></td><td>1                                                        </td><td>2                                                        </td><td>1                                                        </td><td><span style=white-space:pre-wrap>40   </span>            </td><td>1                                                        </td><td>&lt;=50K                                                 </td></tr>\n",
       "\t<tr><td>20-34                                                    </td><td><span style=white-space:pre-wrap>HS-grad          </span></td><td>2                                                        </td><td>2                                                        </td><td>1                                                        </td><td>20-39                                                    </td><td>1                                                        </td><td>&lt;=50K                                                 </td></tr>\n",
       "\t<tr><td>20-34                                                    </td><td><span style=white-space:pre-wrap>Academic-Degree  </span></td><td>1                                                        </td><td>2                                                        </td><td>2                                                        </td><td><span style=white-space:pre-wrap>&gt;40  </span>         </td><td>1                                                        </td><td>&gt;50K                                                  </td></tr>\n",
       "\t<tr><td>50-65                                                    </td><td><span style=white-space:pre-wrap>Academic-Degree  </span></td><td>1                                                        </td><td>1                                                        </td><td>2                                                        </td><td><span style=white-space:pre-wrap>&gt;40  </span>         </td><td>2                                                        </td><td>&gt;50K                                                  </td></tr>\n",
       "\t<tr><td>35-49            </td><td>College-Associate</td><td>2                </td><td>2                </td><td>1                </td><td>20-39            </td><td>1                </td><td>&lt;=50K         </td></tr>\n",
       "\t<tr><td>20-34                                                    </td><td><span style=white-space:pre-wrap>Non-HS-Grad      </span></td><td>2                                                        </td><td>1                                                        </td><td>2                                                        </td><td>20-39                                                    </td><td>1                                                        </td><td>&lt;=50K                                                 </td></tr>\n",
       "\t<tr><td>20-34                                                    </td><td><span style=white-space:pre-wrap>Academic-Degree  </span></td><td>2                                                        </td><td>2                                                        </td><td>1                                                        </td><td><span style=white-space:pre-wrap>&gt;40  </span>         </td><td>1                                                        </td><td>&gt;50K                                                  </td></tr>\n",
       "\t<tr><td>20-34                                                    </td><td><span style=white-space:pre-wrap>HS-grad          </span></td><td>2                                                        </td><td>1                                                        </td><td>2                                                        </td><td><span style=white-space:pre-wrap>&gt;40  </span>         </td><td>1                                                        </td><td>&lt;=50K                                                 </td></tr>\n",
       "\t<tr><td>35-49                                                    </td><td><span style=white-space:pre-wrap>Academic-Degree  </span></td><td>2                                                        </td><td>1                                                        </td><td>1                                                        </td><td><span style=white-space:pre-wrap>&gt;40  </span>         </td><td>1                                                        </td><td>&gt;50K                                                  </td></tr>\n",
       "\t<tr><td>35-49                                                    </td><td><span style=white-space:pre-wrap>HS-grad          </span></td><td>2                                                        </td><td>2                                                        </td><td>1                                                        </td><td><span style=white-space:pre-wrap>40   </span>            </td><td>1                                                        </td><td>&lt;=50K                                                 </td></tr>\n",
       "\t<tr><td>35-49                                           </td><td>College-Associate                               </td><td>2                                               </td><td>2                                               </td><td>1                                               </td><td><span style=white-space:pre-wrap>&gt;40  </span></td><td>1                                               </td><td>&lt;=50K                                        </td></tr>\n",
       "\t<tr><td>20-34                                                    </td><td><span style=white-space:pre-wrap>Academic-Degree  </span></td><td>2                                                        </td><td>1                                                        </td><td>1                                                        </td><td>20-39                                                    </td><td>1                                                        </td><td>&lt;=50K                                                 </td></tr>\n",
       "\t<tr><td>35-49            </td><td>College-Associate</td><td>1                </td><td>2                </td><td>1                </td><td>20-39            </td><td>1                </td><td>&gt;50K          </td></tr>\n",
       "\t<tr><td>35-49                                        </td><td>College-Associate                            </td><td>2                                            </td><td>2                                            </td><td>1                                            </td><td><span style=white-space:pre-wrap>40   </span></td><td>1                                            </td><td>&lt;=50K                                     </td></tr>\n",
       "\t<tr><td>35-49                                                    </td><td><span style=white-space:pre-wrap>HS-grad          </span></td><td>1                                                        </td><td>2                                                        </td><td>2                                                        </td><td><span style=white-space:pre-wrap>40   </span>            </td><td>2                                                        </td><td>&lt;=50K                                                 </td></tr>\n",
       "\t<tr><td>50-65                                                    </td><td><span style=white-space:pre-wrap>Academic-Degree  </span></td><td>2                                                        </td><td>2                                                        </td><td>2                                                        </td><td><span style=white-space:pre-wrap>&gt;40  </span>         </td><td>1                                                        </td><td>&lt;=50K                                                 </td></tr>\n",
       "\t<tr><td>35-49                                        </td><td>College-Associate                            </td><td>2                                            </td><td>2                                            </td><td>1                                            </td><td><span style=white-space:pre-wrap>40   </span></td><td>1                                            </td><td>&lt;=50K                                     </td></tr>\n",
       "\t<tr><td>35-49                                           </td><td>College-Associate                               </td><td>1                                               </td><td>2                                               </td><td>2                                               </td><td><span style=white-space:pre-wrap>&gt;40  </span></td><td>1                                               </td><td>&lt;=50K                                        </td></tr>\n",
       "\t<tr><td>20-34                                                    </td><td><span style=white-space:pre-wrap>Non-HS-Grad      </span></td><td>1                                                        </td><td>1                                                        </td><td>2                                                        </td><td><span style=white-space:pre-wrap>40   </span>            </td><td>1                                                        </td><td>&lt;=50K                                                 </td></tr>\n",
       "\t<tr><td>35-49                                           </td><td>College-Associate                               </td><td>1                                               </td><td>2                                               </td><td>2                                               </td><td><span style=white-space:pre-wrap>&gt;40  </span></td><td>1                                               </td><td>&lt;=50K                                        </td></tr>\n",
       "\t<tr><td>20-34                                                    </td><td><span style=white-space:pre-wrap>Academic-Degree  </span></td><td>2                                                        </td><td>1                                                        </td><td>2                                                        </td><td><span style=white-space:pre-wrap>&lt;20  </span>         </td><td>2                                                        </td><td>&lt;=50K                                                 </td></tr>\n",
       "\t<tr><td>50-65                                                    </td><td><span style=white-space:pre-wrap>Academic-Degree  </span></td><td>1                                                        </td><td>2                                                        </td><td>2                                                        </td><td><span style=white-space:pre-wrap>40   </span>            </td><td>1                                                        </td><td>&gt;50K                                                  </td></tr>\n",
       "\t<tr><td>20-34                                        </td><td>College-Associate                            </td><td>2                                            </td><td>2                                            </td><td>2                                            </td><td><span style=white-space:pre-wrap>40   </span></td><td>1                                            </td><td>&lt;=50K                                     </td></tr>\n",
       "\t<tr><td>20-34            </td><td>College-Associate</td><td>1                </td><td>2                </td><td>1                </td><td>20-39            </td><td>1                </td><td>&lt;=50K         </td></tr>\n",
       "\t<tr><td>35-49                                                    </td><td><span style=white-space:pre-wrap>HS-grad          </span></td><td>1                                                        </td><td>2                                                        </td><td>2                                                        </td><td><span style=white-space:pre-wrap>40   </span>            </td><td>1                                                        </td><td>&gt;50K                                                  </td></tr>\n",
       "\t<tr><td>50-65                                                    </td><td><span style=white-space:pre-wrap>HS-grad          </span></td><td>2                                                        </td><td>2                                                        </td><td>1                                                        </td><td><span style=white-space:pre-wrap>40   </span>            </td><td>1                                                        </td><td>&lt;=50K                                                 </td></tr>\n",
       "\t<tr><td>20-34                                                    </td><td><span style=white-space:pre-wrap>HS-grad          </span></td><td>2                                                        </td><td>2                                                        </td><td>2                                                        </td><td>20-39                                                    </td><td>1                                                        </td><td>&lt;=50K                                                 </td></tr>\n",
       "\t<tr><td>50-65                                                    </td><td><span style=white-space:pre-wrap>HS-grad          </span></td><td>1                                                        </td><td>2                                                        </td><td>1                                                        </td><td><span style=white-space:pre-wrap>40   </span>            </td><td>1                                                        </td><td>&gt;50K                                                  </td></tr>\n",
       "</tbody>\n",
       "</table>\n"
      ],
      "text/latex": [
       "\\begin{tabular}{r|llllllll}\n",
       " Age & Education & MaritalStatus & Race & Sex & HoursPerWeek & Immigrant & Income\\\\\n",
       "\\hline\n",
       "\t 35-49             & Academic-Degree   & 2                 & 2                 & 2                 & 40                & 1                 & <=50K            \\\\\n",
       "\t 50-65             & Academic-Degree   & 1                 & 2                 & 2                 & <20               & 1                 & <=50K            \\\\\n",
       "\t 35-49             & HS-grad           & 2                 & 2                 & 2                 & 40                & 1                 & <=50K            \\\\\n",
       "\t 50-65             & Non-HS-Grad       & 1                 & 1                 & 2                 & 40                & 1                 & <=50K            \\\\\n",
       "\t 20-34             & Academic-Degree   & 1                 & 1                 & 1                 & 40                & 2                 & <=50K            \\\\\n",
       "\t 35-49             & Academic-Degree   & 1                 & 2                 & 1                 & 40                & 1                 & <=50K            \\\\\n",
       "\t 35-49             & Non-HS-Grad       & 1                 & 1                 & 1                 & <20               & 2                 & <=50K            \\\\\n",
       "\t 50-65             & HS-grad           & 1                 & 2                 & 2                 & >40               & 1                 & >50K             \\\\\n",
       "\t 20-34             & Academic-Degree   & 2                 & 2                 & 1                 & >40               & 1                 & >50K             \\\\\n",
       "\t 35-49             & Academic-Degree   & 1                 & 2                 & 2                 & 40                & 1                 & >50K             \\\\\n",
       "\t 35-49             & College-Associate & 1                 & 1                 & 2                 & >40               & 1                 & >50K             \\\\\n",
       "\t 20-34             & Academic-Degree   & 1                 & 1                 & 2                 & 40                & 2                 & >50K             \\\\\n",
       "\t 20-34             & Academic-Degree   & 2                 & 2                 & 1                 & 20-39             & 1                 & <=50K            \\\\\n",
       "\t 20-34             & College-Associate & 2                 & 1                 & 2                 & >40               & 1                 & <=50K            \\\\\n",
       "\t 20-34             & Non-HS-Grad       & 1                 & 1                 & 2                 & >40               & 2                 & <=50K            \\\\\n",
       "\t 20-34             & HS-grad           & 2                 & 2                 & 2                 & 20-39             & 1                 & <=50K            \\\\\n",
       "\t 20-34             & HS-grad           & 2                 & 2                 & 2                 & 40                & 1                 & <=50K            \\\\\n",
       "\t 35-49             & Non-HS-Grad       & 1                 & 2                 & 2                 & >40               & 1                 & <=50K            \\\\\n",
       "\t 35-49             & Academic-Degree   & 2                 & 2                 & 1                 & >40               & 1                 & >50K             \\\\\n",
       "\t 35-49             & Academic-Degree   & 1                 & 2                 & 2                 & >40               & 1                 & >50K             \\\\\n",
       "\t 50-65             & HS-grad           & 2                 & 1                 & 1                 & 20-39             & 1                 & <=50K            \\\\\n",
       "\t 35-49             & Non-HS-Grad       & 1                 & 1                 & 2                 & 40                & 1                 & <=50K            \\\\\n",
       "\t 35-49             & Non-HS-Grad       & 1                 & 2                 & 2                 & 40                & 1                 & <=50K            \\\\\n",
       "\t 50-65             & HS-grad           & 2                 & 2                 & 1                 & 40                & 1                 & <=50K            \\\\\n",
       "\t 50-65             & Academic-Degree   & 1                 & 2                 & 2                 & 40                & 1                 & >50K             \\\\\n",
       "\t <20               & HS-grad           & 2                 & 2                 & 2                 & 40                & 1                 & <=50K            \\\\\n",
       "\t 35-49             & HS-grad           & 2                 & 2                 & 2                 & >40               & 1                 & <=50K            \\\\\n",
       "\t 35-49             & HS-grad           & 1                 & 2                 & 2                 & 40                & 1                 & <=50K            \\\\\n",
       "\t 20-34             & College-Associate & 2                 & 2                 & 2                 & >40               & 1                 & <=50K            \\\\\n",
       "\t 20-34             & College-Associate & 2                 & 1                 & 2                 & >40               & 1                 & <=50K            \\\\\n",
       "\t ... & ... & ... & ... & ... & ... & ... & ...\\\\\n",
       "\t 20-34             & Non-HS-Grad       & 1                 & 2                 & 2                 & 40                & 1                 & <=50K            \\\\\n",
       "\t 20-34             & College-Associate & 2                 & 2                 & 2                 & 40                & 1                 & <=50K            \\\\\n",
       "\t 20-34             & HS-grad           & 1                 & 2                 & 1                 & 40                & 1                 & <=50K            \\\\\n",
       "\t 20-34             & HS-grad           & 2                 & 2                 & 1                 & 20-39             & 1                 & <=50K            \\\\\n",
       "\t 20-34             & Academic-Degree   & 1                 & 2                 & 2                 & >40               & 1                 & >50K             \\\\\n",
       "\t 50-65             & Academic-Degree   & 1                 & 1                 & 2                 & >40               & 2                 & >50K             \\\\\n",
       "\t 35-49             & College-Associate & 2                 & 2                 & 1                 & 20-39             & 1                 & <=50K            \\\\\n",
       "\t 20-34             & Non-HS-Grad       & 2                 & 1                 & 2                 & 20-39             & 1                 & <=50K            \\\\\n",
       "\t 20-34             & Academic-Degree   & 2                 & 2                 & 1                 & >40               & 1                 & >50K             \\\\\n",
       "\t 20-34             & HS-grad           & 2                 & 1                 & 2                 & >40               & 1                 & <=50K            \\\\\n",
       "\t 35-49             & Academic-Degree   & 2                 & 1                 & 1                 & >40               & 1                 & >50K             \\\\\n",
       "\t 35-49             & HS-grad           & 2                 & 2                 & 1                 & 40                & 1                 & <=50K            \\\\\n",
       "\t 35-49             & College-Associate & 2                 & 2                 & 1                 & >40               & 1                 & <=50K            \\\\\n",
       "\t 20-34             & Academic-Degree   & 2                 & 1                 & 1                 & 20-39             & 1                 & <=50K            \\\\\n",
       "\t 35-49             & College-Associate & 1                 & 2                 & 1                 & 20-39             & 1                 & >50K             \\\\\n",
       "\t 35-49             & College-Associate & 2                 & 2                 & 1                 & 40                & 1                 & <=50K            \\\\\n",
       "\t 35-49             & HS-grad           & 1                 & 2                 & 2                 & 40                & 2                 & <=50K            \\\\\n",
       "\t 50-65             & Academic-Degree   & 2                 & 2                 & 2                 & >40               & 1                 & <=50K            \\\\\n",
       "\t 35-49             & College-Associate & 2                 & 2                 & 1                 & 40                & 1                 & <=50K            \\\\\n",
       "\t 35-49             & College-Associate & 1                 & 2                 & 2                 & >40               & 1                 & <=50K            \\\\\n",
       "\t 20-34             & Non-HS-Grad       & 1                 & 1                 & 2                 & 40                & 1                 & <=50K            \\\\\n",
       "\t 35-49             & College-Associate & 1                 & 2                 & 2                 & >40               & 1                 & <=50K            \\\\\n",
       "\t 20-34             & Academic-Degree   & 2                 & 1                 & 2                 & <20               & 2                 & <=50K            \\\\\n",
       "\t 50-65             & Academic-Degree   & 1                 & 2                 & 2                 & 40                & 1                 & >50K             \\\\\n",
       "\t 20-34             & College-Associate & 2                 & 2                 & 2                 & 40                & 1                 & <=50K            \\\\\n",
       "\t 20-34             & College-Associate & 1                 & 2                 & 1                 & 20-39             & 1                 & <=50K            \\\\\n",
       "\t 35-49             & HS-grad           & 1                 & 2                 & 2                 & 40                & 1                 & >50K             \\\\\n",
       "\t 50-65             & HS-grad           & 2                 & 2                 & 1                 & 40                & 1                 & <=50K            \\\\\n",
       "\t 20-34             & HS-grad           & 2                 & 2                 & 2                 & 20-39             & 1                 & <=50K            \\\\\n",
       "\t 50-65             & HS-grad           & 1                 & 2                 & 1                 & 40                & 1                 & >50K             \\\\\n",
       "\\end{tabular}\n"
      ],
      "text/markdown": [
       "\n",
       "| Age | Education | MaritalStatus | Race | Sex | HoursPerWeek | Immigrant | Income |\n",
       "|---|---|---|---|---|---|---|---|\n",
       "| 35-49             | Academic-Degree   | 2                 | 2                 | 2                 | 40                | 1                 | <=50K             |\n",
       "| 50-65             | Academic-Degree   | 1                 | 2                 | 2                 | <20               | 1                 | <=50K             |\n",
       "| 35-49             | HS-grad           | 2                 | 2                 | 2                 | 40                | 1                 | <=50K             |\n",
       "| 50-65             | Non-HS-Grad       | 1                 | 1                 | 2                 | 40                | 1                 | <=50K             |\n",
       "| 20-34             | Academic-Degree   | 1                 | 1                 | 1                 | 40                | 2                 | <=50K             |\n",
       "| 35-49             | Academic-Degree   | 1                 | 2                 | 1                 | 40                | 1                 | <=50K             |\n",
       "| 35-49             | Non-HS-Grad       | 1                 | 1                 | 1                 | <20               | 2                 | <=50K             |\n",
       "| 50-65             | HS-grad           | 1                 | 2                 | 2                 | >40               | 1                 | >50K              |\n",
       "| 20-34             | Academic-Degree   | 2                 | 2                 | 1                 | >40               | 1                 | >50K              |\n",
       "| 35-49             | Academic-Degree   | 1                 | 2                 | 2                 | 40                | 1                 | >50K              |\n",
       "| 35-49             | College-Associate | 1                 | 1                 | 2                 | >40               | 1                 | >50K              |\n",
       "| 20-34             | Academic-Degree   | 1                 | 1                 | 2                 | 40                | 2                 | >50K              |\n",
       "| 20-34             | Academic-Degree   | 2                 | 2                 | 1                 | 20-39             | 1                 | <=50K             |\n",
       "| 20-34             | College-Associate | 2                 | 1                 | 2                 | >40               | 1                 | <=50K             |\n",
       "| 20-34             | Non-HS-Grad       | 1                 | 1                 | 2                 | >40               | 2                 | <=50K             |\n",
       "| 20-34             | HS-grad           | 2                 | 2                 | 2                 | 20-39             | 1                 | <=50K             |\n",
       "| 20-34             | HS-grad           | 2                 | 2                 | 2                 | 40                | 1                 | <=50K             |\n",
       "| 35-49             | Non-HS-Grad       | 1                 | 2                 | 2                 | >40               | 1                 | <=50K             |\n",
       "| 35-49             | Academic-Degree   | 2                 | 2                 | 1                 | >40               | 1                 | >50K              |\n",
       "| 35-49             | Academic-Degree   | 1                 | 2                 | 2                 | >40               | 1                 | >50K              |\n",
       "| 50-65             | HS-grad           | 2                 | 1                 | 1                 | 20-39             | 1                 | <=50K             |\n",
       "| 35-49             | Non-HS-Grad       | 1                 | 1                 | 2                 | 40                | 1                 | <=50K             |\n",
       "| 35-49             | Non-HS-Grad       | 1                 | 2                 | 2                 | 40                | 1                 | <=50K             |\n",
       "| 50-65             | HS-grad           | 2                 | 2                 | 1                 | 40                | 1                 | <=50K             |\n",
       "| 50-65             | Academic-Degree   | 1                 | 2                 | 2                 | 40                | 1                 | >50K              |\n",
       "| <20               | HS-grad           | 2                 | 2                 | 2                 | 40                | 1                 | <=50K             |\n",
       "| 35-49             | HS-grad           | 2                 | 2                 | 2                 | >40               | 1                 | <=50K             |\n",
       "| 35-49             | HS-grad           | 1                 | 2                 | 2                 | 40                | 1                 | <=50K             |\n",
       "| 20-34             | College-Associate | 2                 | 2                 | 2                 | >40               | 1                 | <=50K             |\n",
       "| 20-34             | College-Associate | 2                 | 1                 | 2                 | >40               | 1                 | <=50K             |\n",
       "| ... | ... | ... | ... | ... | ... | ... | ... |\n",
       "| 20-34             | Non-HS-Grad       | 1                 | 2                 | 2                 | 40                | 1                 | <=50K             |\n",
       "| 20-34             | College-Associate | 2                 | 2                 | 2                 | 40                | 1                 | <=50K             |\n",
       "| 20-34             | HS-grad           | 1                 | 2                 | 1                 | 40                | 1                 | <=50K             |\n",
       "| 20-34             | HS-grad           | 2                 | 2                 | 1                 | 20-39             | 1                 | <=50K             |\n",
       "| 20-34             | Academic-Degree   | 1                 | 2                 | 2                 | >40               | 1                 | >50K              |\n",
       "| 50-65             | Academic-Degree   | 1                 | 1                 | 2                 | >40               | 2                 | >50K              |\n",
       "| 35-49             | College-Associate | 2                 | 2                 | 1                 | 20-39             | 1                 | <=50K             |\n",
       "| 20-34             | Non-HS-Grad       | 2                 | 1                 | 2                 | 20-39             | 1                 | <=50K             |\n",
       "| 20-34             | Academic-Degree   | 2                 | 2                 | 1                 | >40               | 1                 | >50K              |\n",
       "| 20-34             | HS-grad           | 2                 | 1                 | 2                 | >40               | 1                 | <=50K             |\n",
       "| 35-49             | Academic-Degree   | 2                 | 1                 | 1                 | >40               | 1                 | >50K              |\n",
       "| 35-49             | HS-grad           | 2                 | 2                 | 1                 | 40                | 1                 | <=50K             |\n",
       "| 35-49             | College-Associate | 2                 | 2                 | 1                 | >40               | 1                 | <=50K             |\n",
       "| 20-34             | Academic-Degree   | 2                 | 1                 | 1                 | 20-39             | 1                 | <=50K             |\n",
       "| 35-49             | College-Associate | 1                 | 2                 | 1                 | 20-39             | 1                 | >50K              |\n",
       "| 35-49             | College-Associate | 2                 | 2                 | 1                 | 40                | 1                 | <=50K             |\n",
       "| 35-49             | HS-grad           | 1                 | 2                 | 2                 | 40                | 2                 | <=50K             |\n",
       "| 50-65             | Academic-Degree   | 2                 | 2                 | 2                 | >40               | 1                 | <=50K             |\n",
       "| 35-49             | College-Associate | 2                 | 2                 | 1                 | 40                | 1                 | <=50K             |\n",
       "| 35-49             | College-Associate | 1                 | 2                 | 2                 | >40               | 1                 | <=50K             |\n",
       "| 20-34             | Non-HS-Grad       | 1                 | 1                 | 2                 | 40                | 1                 | <=50K             |\n",
       "| 35-49             | College-Associate | 1                 | 2                 | 2                 | >40               | 1                 | <=50K             |\n",
       "| 20-34             | Academic-Degree   | 2                 | 1                 | 2                 | <20               | 2                 | <=50K             |\n",
       "| 50-65             | Academic-Degree   | 1                 | 2                 | 2                 | 40                | 1                 | >50K              |\n",
       "| 20-34             | College-Associate | 2                 | 2                 | 2                 | 40                | 1                 | <=50K             |\n",
       "| 20-34             | College-Associate | 1                 | 2                 | 1                 | 20-39             | 1                 | <=50K             |\n",
       "| 35-49             | HS-grad           | 1                 | 2                 | 2                 | 40                | 1                 | >50K              |\n",
       "| 50-65             | HS-grad           | 2                 | 2                 | 1                 | 40                | 1                 | <=50K             |\n",
       "| 20-34             | HS-grad           | 2                 | 2                 | 2                 | 20-39             | 1                 | <=50K             |\n",
       "| 50-65             | HS-grad           | 1                 | 2                 | 1                 | 40                | 1                 | >50K              |\n",
       "\n"
      ],
      "text/plain": [
       "      Age   Education         MaritalStatus Race Sex HoursPerWeek Immigrant\n",
       "1     35-49 Academic-Degree   2             2    2   40           1        \n",
       "2     50-65 Academic-Degree   1             2    2   <20          1        \n",
       "3     35-49 HS-grad           2             2    2   40           1        \n",
       "4     50-65 Non-HS-Grad       1             1    2   40           1        \n",
       "5     20-34 Academic-Degree   1             1    1   40           2        \n",
       "6     35-49 Academic-Degree   1             2    1   40           1        \n",
       "7     35-49 Non-HS-Grad       1             1    1   <20          2        \n",
       "8     50-65 HS-grad           1             2    2   >40          1        \n",
       "9     20-34 Academic-Degree   2             2    1   >40          1        \n",
       "10    35-49 Academic-Degree   1             2    2   40           1        \n",
       "11    35-49 College-Associate 1             1    2   >40          1        \n",
       "12    20-34 Academic-Degree   1             1    2   40           2        \n",
       "13    20-34 Academic-Degree   2             2    1   20-39        1        \n",
       "14    20-34 College-Associate 2             1    2   >40          1        \n",
       "15    20-34 Non-HS-Grad       1             1    2   >40          2        \n",
       "16    20-34 HS-grad           2             2    2   20-39        1        \n",
       "17    20-34 HS-grad           2             2    2   40           1        \n",
       "18    35-49 Non-HS-Grad       1             2    2   >40          1        \n",
       "19    35-49 Academic-Degree   2             2    1   >40          1        \n",
       "20    35-49 Academic-Degree   1             2    2   >40          1        \n",
       "21    50-65 HS-grad           2             1    1   20-39        1        \n",
       "22    35-49 Non-HS-Grad       1             1    2   40           1        \n",
       "23    35-49 Non-HS-Grad       1             2    2   40           1        \n",
       "24    50-65 HS-grad           2             2    1   40           1        \n",
       "25    50-65 Academic-Degree   1             2    2   40           1        \n",
       "26    <20   HS-grad           2             2    2   40           1        \n",
       "27    35-49 HS-grad           2             2    2   >40          1        \n",
       "28    35-49 HS-grad           1             2    2   40           1        \n",
       "29    20-34 College-Associate 2             2    2   >40          1        \n",
       "30    20-34 College-Associate 2             1    2   >40          1        \n",
       "...   ...   ...               ...           ...  ... ...          ...      \n",
       "30133 20-34 Non-HS-Grad       1             2    2   40           1        \n",
       "30134 20-34 College-Associate 2             2    2   40           1        \n",
       "30135 20-34 HS-grad           1             2    1   40           1        \n",
       "30136 20-34 HS-grad           2             2    1   20-39        1        \n",
       "30137 20-34 Academic-Degree   1             2    2   >40          1        \n",
       "30138 50-65 Academic-Degree   1             1    2   >40          2        \n",
       "30139 35-49 College-Associate 2             2    1   20-39        1        \n",
       "30140 20-34 Non-HS-Grad       2             1    2   20-39        1        \n",
       "30141 20-34 Academic-Degree   2             2    1   >40          1        \n",
       "30142 20-34 HS-grad           2             1    2   >40          1        \n",
       "30143 35-49 Academic-Degree   2             1    1   >40          1        \n",
       "30144 35-49 HS-grad           2             2    1   40           1        \n",
       "30145 35-49 College-Associate 2             2    1   >40          1        \n",
       "30146 20-34 Academic-Degree   2             1    1   20-39        1        \n",
       "30147 35-49 College-Associate 1             2    1   20-39        1        \n",
       "30148 35-49 College-Associate 2             2    1   40           1        \n",
       "30149 35-49 HS-grad           1             2    2   40           2        \n",
       "30150 50-65 Academic-Degree   2             2    2   >40          1        \n",
       "30151 35-49 College-Associate 2             2    1   40           1        \n",
       "30152 35-49 College-Associate 1             2    2   >40          1        \n",
       "30153 20-34 Non-HS-Grad       1             1    2   40           1        \n",
       "30154 35-49 College-Associate 1             2    2   >40          1        \n",
       "30155 20-34 Academic-Degree   2             1    2   <20          2        \n",
       "30156 50-65 Academic-Degree   1             2    2   40           1        \n",
       "30157 20-34 College-Associate 2             2    2   40           1        \n",
       "30158 20-34 College-Associate 1             2    1   20-39        1        \n",
       "30159 35-49 HS-grad           1             2    2   40           1        \n",
       "30160 50-65 HS-grad           2             2    1   40           1        \n",
       "30161 20-34 HS-grad           2             2    2   20-39        1        \n",
       "30162 50-65 HS-grad           1             2    1   40           1        \n",
       "      Income\n",
       "1     <=50K \n",
       "2     <=50K \n",
       "3     <=50K \n",
       "4     <=50K \n",
       "5     <=50K \n",
       "6     <=50K \n",
       "7     <=50K \n",
       "8     >50K  \n",
       "9     >50K  \n",
       "10    >50K  \n",
       "11    >50K  \n",
       "12    >50K  \n",
       "13    <=50K \n",
       "14    <=50K \n",
       "15    <=50K \n",
       "16    <=50K \n",
       "17    <=50K \n",
       "18    <=50K \n",
       "19    >50K  \n",
       "20    >50K  \n",
       "21    <=50K \n",
       "22    <=50K \n",
       "23    <=50K \n",
       "24    <=50K \n",
       "25    >50K  \n",
       "26    <=50K \n",
       "27    <=50K \n",
       "28    <=50K \n",
       "29    <=50K \n",
       "30    <=50K \n",
       "...   ...   \n",
       "30133 <=50K \n",
       "30134 <=50K \n",
       "30135 <=50K \n",
       "30136 <=50K \n",
       "30137 >50K  \n",
       "30138 >50K  \n",
       "30139 <=50K \n",
       "30140 <=50K \n",
       "30141 >50K  \n",
       "30142 <=50K \n",
       "30143 >50K  \n",
       "30144 <=50K \n",
       "30145 <=50K \n",
       "30146 <=50K \n",
       "30147 >50K  \n",
       "30148 <=50K \n",
       "30149 <=50K \n",
       "30150 <=50K \n",
       "30151 <=50K \n",
       "30152 <=50K \n",
       "30153 <=50K \n",
       "30154 <=50K \n",
       "30155 <=50K \n",
       "30156 >50K  \n",
       "30157 <=50K \n",
       "30158 <=50K \n",
       "30159 >50K  \n",
       "30160 <=50K \n",
       "30161 <=50K \n",
       "30162 >50K  "
      ]
     },
     "metadata": {},
     "output_type": "display_data"
    }
   ],
   "source": [
    "data"
   ]
  },
  {
   "cell_type": "code",
   "execution_count": null,
   "id": "timely-darwin",
   "metadata": {},
   "outputs": [],
   "source": []
  }
 ],
 "metadata": {
  "kernelspec": {
   "display_name": "R",
   "language": "R",
   "name": "ir"
  },
  "language_info": {
   "codemirror_mode": "r",
   "file_extension": ".r",
   "mimetype": "text/x-r-source",
   "name": "R",
   "pygments_lexer": "r",
   "version": "3.6.1"
  }
 },
 "nbformat": 4,
 "nbformat_minor": 5
}
